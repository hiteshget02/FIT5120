{
 "cells": [
  {
   "cell_type": "code",
   "execution_count": 1,
   "metadata": {},
   "outputs": [],
   "source": [
    "# importing packages\n",
    "import pandas as pd\n",
    "import os\n",
    "import numpy as np"
   ]
  },
  {
   "cell_type": "code",
   "execution_count": null,
   "metadata": {},
   "outputs": [],
   "source": [
    "# Getting directory information\n",
    "os.getcwd()"
   ]
  },
  {
   "cell_type": "code",
   "execution_count": null,
   "metadata": {},
   "outputs": [],
   "source": [
    "# Reading excel file\n",
    "falls_injury_by_age_sex = pd.ExcelFile(\"Falls.xlsx\")"
   ]
  },
  {
   "cell_type": "code",
   "execution_count": null,
   "metadata": {},
   "outputs": [],
   "source": [
    "# Getting data from excel tabs\n",
    "falls_injury_by_age_sex_df1 = pd.read_excel(falls_injury_by_age_sex, 'Table 7.1')"
   ]
  },
  {
   "cell_type": "code",
   "execution_count": null,
   "metadata": {
    "scrolled": true
   },
   "outputs": [],
   "source": [
    "falls_injury_by_age_sex_df1"
   ]
  },
  {
   "cell_type": "code",
   "execution_count": null,
   "metadata": {},
   "outputs": [],
   "source": [
    "# Dropping the un-necessary columns\n",
    "falls_injury_by_age_sex_df1 = falls_injury_by_age_sex_df1.drop(falls_injury_by_age_sex_df1.columns[1:14], axis=1)"
   ]
  },
  {
   "cell_type": "code",
   "execution_count": null,
   "metadata": {},
   "outputs": [],
   "source": [
    "# Assigning Columns names\n",
    "falls_injury_by_age_sex_df1.columns = falls_injury_by_age_sex_df1.iloc[0]"
   ]
  },
  {
   "cell_type": "code",
   "execution_count": null,
   "metadata": {},
   "outputs": [],
   "source": [
    "falls_injury_by_age_sex_df1.head()"
   ]
  },
  {
   "cell_type": "code",
   "execution_count": null,
   "metadata": {},
   "outputs": [],
   "source": [
    "# Droppping index columns\n",
    "falls_injury_by_age_sex_df1.drop(index = 0, inplace = True)"
   ]
  },
  {
   "cell_type": "code",
   "execution_count": null,
   "metadata": {
    "scrolled": true
   },
   "outputs": [],
   "source": [
    "falls_injury_by_age_sex_df1"
   ]
  },
  {
   "cell_type": "code",
   "execution_count": null,
   "metadata": {},
   "outputs": [],
   "source": [
    "# Renaming columns\n",
    "falls_injury_by_age_sex_df1.columns.values[0] = 'Year'"
   ]
  },
  {
   "cell_type": "code",
   "execution_count": null,
   "metadata": {},
   "outputs": [],
   "source": [
    "# Extracting rows to a new df\n",
    "falls_injury_by_age_sex_df1_males = falls_injury_by_age_sex_df1.iloc[1:17]"
   ]
  },
  {
   "cell_type": "code",
   "execution_count": null,
   "metadata": {},
   "outputs": [],
   "source": [
    "falls_injury_by_age_sex_df1_males"
   ]
  },
  {
   "cell_type": "code",
   "execution_count": null,
   "metadata": {},
   "outputs": [],
   "source": [
    "# Creating a new column and assigning values to it\n",
    "falls_injury_by_age_sex_df1_males['Gender'] = 'Male'\n"
   ]
  },
  {
   "cell_type": "code",
   "execution_count": null,
   "metadata": {},
   "outputs": [],
   "source": [
    "# Extracting rows to a new df\n",
    "falls_injury_by_age_sex_df1_females = falls_injury_by_age_sex_df1.iloc[18:34]"
   ]
  },
  {
   "cell_type": "code",
   "execution_count": null,
   "metadata": {},
   "outputs": [],
   "source": [
    "falls_injury_by_age_sex_df1_females"
   ]
  },
  {
   "cell_type": "code",
   "execution_count": null,
   "metadata": {},
   "outputs": [],
   "source": [
    "# Creating a new column and assigning values to it\n",
    "falls_injury_by_age_sex_df1_females['Gender'] = 'Female'"
   ]
  },
  {
   "cell_type": "code",
   "execution_count": null,
   "metadata": {},
   "outputs": [],
   "source": [
    "# Extracting rows to a new df\n",
    "falls_injury_by_age_sex_df1_persons = falls_injury_by_age_sex_df1.iloc[35:51]"
   ]
  },
  {
   "cell_type": "code",
   "execution_count": null,
   "metadata": {},
   "outputs": [],
   "source": [
    "falls_injury_by_age_sex_df1_persons"
   ]
  },
  {
   "cell_type": "code",
   "execution_count": null,
   "metadata": {},
   "outputs": [],
   "source": [
    "# Creating a new column and assigning values to it\n",
    "falls_injury_by_age_sex_df1_persons['Gender'] = 'Persons'"
   ]
  },
  {
   "cell_type": "code",
   "execution_count": null,
   "metadata": {},
   "outputs": [],
   "source": [
    "# Reading excel file\n",
    "falls_injury_by_age_sex_rates = pd.read_excel(falls_injury_by_age_sex, 'Table 7.2')"
   ]
  },
  {
   "cell_type": "code",
   "execution_count": null,
   "metadata": {
    "scrolled": true
   },
   "outputs": [],
   "source": [
    "falls_injury_by_age_sex_rates"
   ]
  },
  {
   "cell_type": "code",
   "execution_count": null,
   "metadata": {},
   "outputs": [],
   "source": [
    "# Assigning column names\n",
    "falls_injury_by_age_sex_rates.columns = falls_injury_by_age_sex_rates.iloc[0]"
   ]
  },
  {
   "cell_type": "code",
   "execution_count": null,
   "metadata": {},
   "outputs": [],
   "source": [
    "# Dropping the index column\n",
    "falls_injury_by_age_sex_rates.drop(index = 0, inplace = True)"
   ]
  },
  {
   "cell_type": "code",
   "execution_count": null,
   "metadata": {},
   "outputs": [],
   "source": [
    "# Dropping the non required fields\n",
    "falls_injury_by_age_sex_rates = falls_injury_by_age_sex_rates.drop(falls_injury_by_age_sex_rates.columns[1:14], axis=1)"
   ]
  },
  {
   "cell_type": "code",
   "execution_count": null,
   "metadata": {},
   "outputs": [],
   "source": [
    "falls_injury_by_age_sex_rates.columns.values[0] = 'Year'"
   ]
  },
  {
   "cell_type": "code",
   "execution_count": null,
   "metadata": {},
   "outputs": [],
   "source": []
  },
  {
   "cell_type": "code",
   "execution_count": null,
   "metadata": {},
   "outputs": [],
   "source": [
    "# Extracting required files to a new df\n",
    "falls_injury_by_age_sex_rates_males = falls_injury_by_age_sex_rates.iloc[1:17]"
   ]
  },
  {
   "cell_type": "code",
   "execution_count": null,
   "metadata": {
    "scrolled": true
   },
   "outputs": [],
   "source": [
    "falls_injury_by_age_sex_rates_males"
   ]
  },
  {
   "cell_type": "code",
   "execution_count": null,
   "metadata": {},
   "outputs": [],
   "source": [
    "# falls_injury_by_age_sex_rates_males.columns.values[1] = '65-69_rates'\n",
    "# falls_injury_by_age_sex_rates_males.columns.values[1] = 'abc'\n",
    "# falls_injury_by_age_sex_rates_males.columns.values[2] = '70-74_rates'\n",
    "# falls_injury_by_age_sex_rates_males.columns.values[3] = '75-79_rates'\n",
    "# falls_injury_by_age_sex_rates_males.columns.values[4] = '80-84_rates'\n",
    "# falls_injury_by_age_sex_rates_males.columns.values[5] = '85-89_rates'\n",
    "# falls_injury_by_age_sex_rates_males.columns.values[6] = '90-94_rates'\n",
    "# falls_injury_by_age_sex_rates_males.columns.values[7] = '95+_rates'"
   ]
  },
  {
   "cell_type": "code",
   "execution_count": null,
   "metadata": {},
   "outputs": [],
   "source": [
    "falls_injury_by_age_sex_rates_males"
   ]
  },
  {
   "cell_type": "code",
   "execution_count": null,
   "metadata": {},
   "outputs": [],
   "source": [
    "# Extracting column values toa list\n",
    "column65 = falls_injury_by_age_sex_rates_males[falls_injury_by_age_sex_rates_males.columns[1]].to_list()\n",
    "column70 = falls_injury_by_age_sex_rates_males[falls_injury_by_age_sex_rates_males.columns[2]].to_list()\n",
    "column75 = falls_injury_by_age_sex_rates_males[falls_injury_by_age_sex_rates_males.columns[3]].to_list()\n",
    "column80 = falls_injury_by_age_sex_rates_males[falls_injury_by_age_sex_rates_males.columns[4]].to_list()\n",
    "column85 = falls_injury_by_age_sex_rates_males[falls_injury_by_age_sex_rates_males.columns[5]].to_list()\n",
    "column90 = falls_injury_by_age_sex_rates_males[falls_injury_by_age_sex_rates_males.columns[6]].to_list()\n",
    "column95 = falls_injury_by_age_sex_rates_males[falls_injury_by_age_sex_rates_males.columns[7]].to_list()"
   ]
  },
  {
   "cell_type": "code",
   "execution_count": null,
   "metadata": {},
   "outputs": [],
   "source": [
    "column65"
   ]
  },
  {
   "cell_type": "code",
   "execution_count": null,
   "metadata": {},
   "outputs": [],
   "source": [
    "falls_injury_by_age_sex_df1_males.head()"
   ]
  },
  {
   "cell_type": "code",
   "execution_count": null,
   "metadata": {},
   "outputs": [],
   "source": [
    "#Inserting columns to df\n",
    "falls_injury_by_age_sex_df1_males.insert(2, \"65–69_rate\", column65, True)\n",
    "falls_injury_by_age_sex_df1_males.insert(4, \"70–74_rate\", column70, True)\n",
    "falls_injury_by_age_sex_df1_males.insert(6, \"75–79_rate\", column75, True)\n",
    "falls_injury_by_age_sex_df1_males.insert(8, \"80–84_rate\", column80, True)\n",
    "falls_injury_by_age_sex_df1_males.insert(10, \"85–89_rate\", column85, True)\n",
    "falls_injury_by_age_sex_df1_males.insert(12, \"90–95_rate\", column90, True)\n",
    "falls_injury_by_age_sex_df1_males.insert(14, \"95+_rate\", column95, True)"
   ]
  },
  {
   "cell_type": "code",
   "execution_count": null,
   "metadata": {},
   "outputs": [],
   "source": [
    "# Extracting rows to a new df\n",
    "falls_injury_by_age_sex_rates_females = falls_injury_by_age_sex_rates.iloc[18:34]"
   ]
  },
  {
   "cell_type": "code",
   "execution_count": null,
   "metadata": {},
   "outputs": [],
   "source": [
    "falls_injury_by_age_sex_rates_females"
   ]
  },
  {
   "cell_type": "code",
   "execution_count": null,
   "metadata": {},
   "outputs": [],
   "source": [
    "# Extacting the columns from df to list\n",
    "column65f = falls_injury_by_age_sex_rates_females[falls_injury_by_age_sex_rates_females.columns[1]].to_list()\n",
    "column70f = falls_injury_by_age_sex_rates_females[falls_injury_by_age_sex_rates_females.columns[2]].to_list()\n",
    "column75f = falls_injury_by_age_sex_rates_females[falls_injury_by_age_sex_rates_females.columns[3]].to_list()\n",
    "column80f = falls_injury_by_age_sex_rates_females[falls_injury_by_age_sex_rates_females.columns[4]].to_list()\n",
    "column85f = falls_injury_by_age_sex_rates_females[falls_injury_by_age_sex_rates_females.columns[5]].to_list()\n",
    "column90f = falls_injury_by_age_sex_rates_females[falls_injury_by_age_sex_rates_females.columns[6]].to_list()\n",
    "column95f = falls_injury_by_age_sex_rates_females[falls_injury_by_age_sex_rates_females.columns[7]].to_list()"
   ]
  },
  {
   "cell_type": "code",
   "execution_count": null,
   "metadata": {},
   "outputs": [],
   "source": [
    "column65f"
   ]
  },
  {
   "cell_type": "code",
   "execution_count": null,
   "metadata": {},
   "outputs": [],
   "source": [
    "falls_injury_by_age_sex_df1_males.columns"
   ]
  },
  {
   "cell_type": "code",
   "execution_count": null,
   "metadata": {},
   "outputs": [],
   "source": [
    "# Inserting the list to the df\n",
    "falls_injury_by_age_sex_df1_females.insert(2, \"65–69_rate\", column65f, True)\n",
    "falls_injury_by_age_sex_df1_females.insert(4, \"70–74_rate\", column70f, True)\n",
    "falls_injury_by_age_sex_df1_females.insert(6, \"75–79_rate\", column75f, True)\n",
    "falls_injury_by_age_sex_df1_females.insert(8, \"80–84_rate\", column80f, True)\n",
    "falls_injury_by_age_sex_df1_females.insert(10, \"85–89_rate\", column85f, True)\n",
    "falls_injury_by_age_sex_df1_females.insert(12, \"90–95_rate\", column90f, True)\n",
    "falls_injury_by_age_sex_df1_females.insert(14, \"95+_rate\", column95f, True)"
   ]
  },
  {
   "cell_type": "code",
   "execution_count": null,
   "metadata": {},
   "outputs": [],
   "source": [
    "falls_injury_by_age_sex_df1_females"
   ]
  },
  {
   "cell_type": "code",
   "execution_count": null,
   "metadata": {},
   "outputs": [],
   "source": [
    "# Extracting the rows to a new df\n",
    "falls_injury_by_age_sex_rates_persons = falls_injury_by_age_sex_rates.iloc[35:51]"
   ]
  },
  {
   "cell_type": "code",
   "execution_count": null,
   "metadata": {
    "scrolled": true
   },
   "outputs": [],
   "source": [
    "falls_injury_by_age_sex_rates_persons"
   ]
  },
  {
   "cell_type": "code",
   "execution_count": null,
   "metadata": {},
   "outputs": [],
   "source": [
    "# Extracting column data to a list\n",
    "column65p = falls_injury_by_age_sex_rates_persons[falls_injury_by_age_sex_rates_persons.columns[1]].to_list()\n",
    "column70p = falls_injury_by_age_sex_rates_persons[falls_injury_by_age_sex_rates_persons.columns[2]].to_list()\n",
    "column75p = falls_injury_by_age_sex_rates_persons[falls_injury_by_age_sex_rates_persons.columns[3]].to_list()\n",
    "column80p = falls_injury_by_age_sex_rates_persons[falls_injury_by_age_sex_rates_persons.columns[4]].to_list()\n",
    "column85p = falls_injury_by_age_sex_rates_persons[falls_injury_by_age_sex_rates_persons.columns[5]].to_list()\n",
    "column90p = falls_injury_by_age_sex_rates_persons[falls_injury_by_age_sex_rates_persons.columns[6]].to_list()\n",
    "column95p = falls_injury_by_age_sex_rates_persons[falls_injury_by_age_sex_rates_persons.columns[7]].to_list()"
   ]
  },
  {
   "cell_type": "code",
   "execution_count": null,
   "metadata": {},
   "outputs": [],
   "source": [
    "falls_injury_by_age_sex_df1_males.columns"
   ]
  },
  {
   "cell_type": "code",
   "execution_count": null,
   "metadata": {},
   "outputs": [],
   "source": [
    "# Inserting list data to the df\n",
    "falls_injury_by_age_sex_df1_persons.insert(2, \"65–69_rate\", column65p, True)\n",
    "falls_injury_by_age_sex_df1_persons.insert(4, \"70–74_rate\", column70p, True)\n",
    "falls_injury_by_age_sex_df1_persons.insert(6, \"75–79_rate\", column75p, True)\n",
    "falls_injury_by_age_sex_df1_persons.insert(8, \"80–84_rate\", column80p, True)\n",
    "falls_injury_by_age_sex_df1_persons.insert(10, \"85–89_rate\", column85p, True)\n",
    "falls_injury_by_age_sex_df1_persons.insert(12, \"90–95_rate\", column90p, True)\n",
    "falls_injury_by_age_sex_df1_persons.insert(14, \"95+_rate\", column95p, True)"
   ]
  },
  {
   "cell_type": "code",
   "execution_count": null,
   "metadata": {
    "scrolled": true
   },
   "outputs": [],
   "source": [
    "falls_injury_by_age_sex_df1_persons"
   ]
  },
  {
   "cell_type": "code",
   "execution_count": null,
   "metadata": {},
   "outputs": [],
   "source": [
    "# Concatenating the dataframes\n",
    "falls_injury_by_age_sex_final = pd.concat([falls_injury_by_age_sex_df1_males,falls_injury_by_age_sex_df1_females\n",
    "                                          ,falls_injury_by_age_sex_df1_persons])"
   ]
  },
  {
   "cell_type": "code",
   "execution_count": null,
   "metadata": {},
   "outputs": [],
   "source": [
    "# Resetting the index value\n",
    "falls_injury_by_age_sex_final = falls_injury_by_age_sex_final.reset_index()"
   ]
  },
  {
   "cell_type": "code",
   "execution_count": null,
   "metadata": {},
   "outputs": [],
   "source": [
    "falls_injury_by_age_sex_final.head()"
   ]
  },
  {
   "cell_type": "code",
   "execution_count": null,
   "metadata": {},
   "outputs": [],
   "source": [
    "# Dropping the index column\n",
    "falls_injury_by_age_sex_final.drop(falls_injury_by_age_sex_final.columns[0],axis=1,inplace=True)"
   ]
  },
  {
   "cell_type": "code",
   "execution_count": null,
   "metadata": {},
   "outputs": [],
   "source": [
    "# Reading the excel file\n",
    "falls_injury_by_residence = pd.read_excel(falls_injury_by_age_sex, 'Table 7.4A')"
   ]
  },
  {
   "cell_type": "code",
   "execution_count": null,
   "metadata": {},
   "outputs": [],
   "source": [
    "falls_injury_by_residence.head(77)"
   ]
  },
  {
   "cell_type": "code",
   "execution_count": null,
   "metadata": {},
   "outputs": [],
   "source": [
    "# Assigning column name values\n",
    "falls_injury_by_residence.columns = falls_injury_by_residence.iloc[0]"
   ]
  },
  {
   "cell_type": "code",
   "execution_count": null,
   "metadata": {},
   "outputs": [],
   "source": [
    "# Dropping the index column\n",
    "falls_injury_by_residence.drop(index = 0, inplace = True)"
   ]
  },
  {
   "cell_type": "code",
   "execution_count": null,
   "metadata": {},
   "outputs": [],
   "source": [
    "# Renaming the column name\n",
    "falls_injury_by_residence.columns.values[0] = 'Year'"
   ]
  },
  {
   "cell_type": "code",
   "execution_count": null,
   "metadata": {},
   "outputs": [],
   "source": [
    "# Dropping the unwanted columns\n",
    "falls_injury_by_residence.drop(falls_injury_by_residence.columns[1:14], axis=1, inplace =True)"
   ]
  },
  {
   "cell_type": "code",
   "execution_count": null,
   "metadata": {},
   "outputs": [],
   "source": [
    "falls_injury_by_residence.columns[1:14]"
   ]
  },
  {
   "cell_type": "code",
   "execution_count": null,
   "metadata": {},
   "outputs": [],
   "source": [
    "# Extracting the data to a new df\n",
    "falls_injury_by_residence_major_cities = falls_injury_by_residence.iloc[1:15]"
   ]
  },
  {
   "cell_type": "code",
   "execution_count": null,
   "metadata": {},
   "outputs": [],
   "source": [
    "falls_injury_by_residence_major_cities"
   ]
  },
  {
   "cell_type": "code",
   "execution_count": null,
   "metadata": {},
   "outputs": [],
   "source": [
    "# Creating a new column and assiging values\n",
    "falls_injury_by_residence_major_cities['Residence'] = 'Major cities'"
   ]
  },
  {
   "cell_type": "code",
   "execution_count": null,
   "metadata": {},
   "outputs": [],
   "source": [
    "# Extracting the data to a new df\n",
    "falls_injury_by_residence_inner_regional = falls_injury_by_residence.iloc[16:30]"
   ]
  },
  {
   "cell_type": "code",
   "execution_count": null,
   "metadata": {},
   "outputs": [],
   "source": [
    "falls_injury_by_residence_inner_regional"
   ]
  },
  {
   "cell_type": "code",
   "execution_count": null,
   "metadata": {},
   "outputs": [],
   "source": [
    "# Adding a new column and assigning value\n",
    "falls_injury_by_residence_inner_regional['Residence'] = 'Inner Regional'"
   ]
  },
  {
   "cell_type": "code",
   "execution_count": null,
   "metadata": {},
   "outputs": [],
   "source": [
    "# Extracting the data to a new df\n",
    "falls_injury_by_residence_outer_regional = falls_injury_by_residence.iloc[31:45]"
   ]
  },
  {
   "cell_type": "code",
   "execution_count": null,
   "metadata": {},
   "outputs": [],
   "source": [
    "falls_injury_by_residence_outer_regional"
   ]
  },
  {
   "cell_type": "code",
   "execution_count": null,
   "metadata": {},
   "outputs": [],
   "source": [
    "# Adding a new column and assigning value\n",
    "falls_injury_by_residence_outer_regional['Residence'] = 'Outer Regional'"
   ]
  },
  {
   "cell_type": "code",
   "execution_count": null,
   "metadata": {},
   "outputs": [],
   "source": [
    "# Extracting the data to a new df\n",
    "falls_injury_by_residence_remote = falls_injury_by_residence.iloc[46:60]"
   ]
  },
  {
   "cell_type": "code",
   "execution_count": null,
   "metadata": {},
   "outputs": [],
   "source": [
    "falls_injury_by_residence_remote"
   ]
  },
  {
   "cell_type": "code",
   "execution_count": null,
   "metadata": {},
   "outputs": [],
   "source": [
    "# Adding a new column and assigning value\n",
    "falls_injury_by_residence_remote['Residence'] = 'Remote'"
   ]
  },
  {
   "cell_type": "code",
   "execution_count": null,
   "metadata": {},
   "outputs": [],
   "source": [
    "# Extracting the data to a new df\n",
    "falls_injury_by_residence_very_remote = falls_injury_by_residence.iloc[61:75]"
   ]
  },
  {
   "cell_type": "code",
   "execution_count": null,
   "metadata": {},
   "outputs": [],
   "source": [
    "falls_injury_by_residence_very_remote"
   ]
  },
  {
   "cell_type": "code",
   "execution_count": null,
   "metadata": {},
   "outputs": [],
   "source": [
    "# Adding a new column and assigning value\n",
    "falls_injury_by_residence_very_remote['Residence'] = 'Very Remote'"
   ]
  },
  {
   "cell_type": "code",
   "execution_count": null,
   "metadata": {},
   "outputs": [],
   "source": [
    "# Concatenating multiple dfs\n",
    "falls_injury_by_residence_final = pd.concat([falls_injury_by_residence_major_cities,falls_injury_by_residence_outer_regional,\n",
    "                                            falls_injury_by_residence_inner_regional,falls_injury_by_residence_remote,\n",
    "                                            falls_injury_by_residence_very_remote])"
   ]
  },
  {
   "cell_type": "code",
   "execution_count": null,
   "metadata": {},
   "outputs": [],
   "source": [
    "# Reseting the index\n",
    "falls_injury_by_residence_final = falls_injury_by_residence_final.reset_index()"
   ]
  },
  {
   "cell_type": "code",
   "execution_count": null,
   "metadata": {},
   "outputs": [],
   "source": [
    "falls_injury_by_residence_final.head()"
   ]
  },
  {
   "cell_type": "code",
   "execution_count": null,
   "metadata": {},
   "outputs": [],
   "source": [
    "# Dropping the column\n",
    "falls_injury_by_residence_final.drop(falls_injury_by_residence_final.columns[0],axis = 1,inplace=True)"
   ]
  },
  {
   "cell_type": "code",
   "execution_count": null,
   "metadata": {},
   "outputs": [],
   "source": [
    " "
   ]
  },
  {
   "cell_type": "code",
   "execution_count": null,
   "metadata": {},
   "outputs": [],
   "source": []
  },
  {
   "cell_type": "code",
   "execution_count": null,
   "metadata": {},
   "outputs": [],
   "source": []
  },
  {
   "cell_type": "code",
   "execution_count": null,
   "metadata": {},
   "outputs": [],
   "source": []
  },
  {
   "cell_type": "code",
   "execution_count": null,
   "metadata": {},
   "outputs": [],
   "source": []
  },
  {
   "cell_type": "code",
   "execution_count": null,
   "metadata": {},
   "outputs": [],
   "source": []
  },
  {
   "cell_type": "code",
   "execution_count": null,
   "metadata": {},
   "outputs": [],
   "source": [
    "# Reading the excel file\n",
    "falls_injury_by_indegenous = pd.ExcelFile('falls 3.xlsx')"
   ]
  },
  {
   "cell_type": "code",
   "execution_count": null,
   "metadata": {},
   "outputs": [],
   "source": [
    "# Parsing the excel tabs to a new df\n",
    "falls_injury_by_indegenous_df1 = falls_injury_by_indegenous.parse('Table SF7.4', skiprows=2, index_col=None)"
   ]
  },
  {
   "cell_type": "code",
   "execution_count": null,
   "metadata": {},
   "outputs": [],
   "source": [
    "falls_injury_by_indegenous_df1.head()"
   ]
  },
  {
   "cell_type": "code",
   "execution_count": null,
   "metadata": {},
   "outputs": [],
   "source": [
    "# Renaming the columns\n",
    "falls_injury_by_indegenous_df1.rename(columns={'Count.1':'NonIndigenous_Count','Rate.1':'NonIndigenous Rate'}, inplace=True)"
   ]
  },
  {
   "cell_type": "code",
   "execution_count": null,
   "metadata": {},
   "outputs": [],
   "source": [
    "# Reading the excel file\n",
    "falls_injury_by_place_of_occurence = pd.ExcelFile('Falls by Place of occurrence.xlsx') "
   ]
  },
  {
   "cell_type": "code",
   "execution_count": null,
   "metadata": {},
   "outputs": [],
   "source": [
    "# Parsing the excel tabs to a new df\n",
    "head_falls_injury = falls_injury_by_place_of_occurence.parse('Table 5.5', skiprows=2, index_col=None)"
   ]
  },
  {
   "cell_type": "code",
   "execution_count": null,
   "metadata": {},
   "outputs": [],
   "source": [
    "head_falls_injury.head()"
   ]
  },
  {
   "cell_type": "code",
   "execution_count": null,
   "metadata": {},
   "outputs": [],
   "source": [
    "head_falls_injury.columns"
   ]
  },
  {
   "cell_type": "code",
   "execution_count": null,
   "metadata": {},
   "outputs": [],
   "source": [
    "# Renaming the columns\n",
    "head_falls_injury.rename(columns={'Unnamed: 0':'Year','Males':'Residential_males','Females':'Residential_females'\n",
    "                                 ,'Males.1':'Community_males','Females.1':'Community_females' }, inplace=True)"
   ]
  },
  {
   "cell_type": "code",
   "execution_count": null,
   "metadata": {},
   "outputs": [],
   "source": [
    "# Dropping the columns\n",
    "head_falls_injury.drop(head_falls_injury.columns[3], axis=1, inplace =True)"
   ]
  },
  {
   "cell_type": "code",
   "execution_count": null,
   "metadata": {
    "scrolled": true
   },
   "outputs": [],
   "source": [
    "head_falls_injury"
   ]
  },
  {
   "cell_type": "code",
   "execution_count": null,
   "metadata": {},
   "outputs": [],
   "source": [
    "# Extracting the data by rows to a new df\n",
    "head_falls_injury_final = head_falls_injury.iloc[0:13]"
   ]
  },
  {
   "cell_type": "code",
   "execution_count": null,
   "metadata": {},
   "outputs": [],
   "source": [
    "head_falls_injury_final"
   ]
  },
  {
   "cell_type": "code",
   "execution_count": null,
   "metadata": {},
   "outputs": [],
   "source": []
  },
  {
   "cell_type": "code",
   "execution_count": null,
   "metadata": {},
   "outputs": [],
   "source": [
    "# Reading the excel file\n",
    "NSW_falls_data = pd.ExcelFile('NSW Falls Data.xlsx') "
   ]
  },
  {
   "cell_type": "code",
   "execution_count": null,
   "metadata": {},
   "outputs": [],
   "source": [
    "# Reading the excel file\n",
    "VIC_falls_data = pd.ExcelFile('VIC Falls Data.xlsx')"
   ]
  },
  {
   "cell_type": "code",
   "execution_count": null,
   "metadata": {},
   "outputs": [],
   "source": [
    "# Reading the excel file\n",
    "ACT_falls_data = pd.ExcelFile('ACT_falls.xlsx')"
   ]
  },
  {
   "cell_type": "code",
   "execution_count": null,
   "metadata": {},
   "outputs": [],
   "source": [
    "# Reading the excel file\n",
    "NT_falls_data = pd.ExcelFile('NT Falls Data.xlsx')"
   ]
  },
  {
   "cell_type": "code",
   "execution_count": null,
   "metadata": {},
   "outputs": [],
   "source": [
    "# Reading the excel file\n",
    "QLD_falls_data = pd.ExcelFile('QLD Falls Data.xlsx')"
   ]
  },
  {
   "cell_type": "code",
   "execution_count": null,
   "metadata": {},
   "outputs": [],
   "source": [
    "# Reading the excel file\n",
    "SA_falls_data = pd.ExcelFile('SA Falls Data.xlsx')"
   ]
  },
  {
   "cell_type": "code",
   "execution_count": null,
   "metadata": {},
   "outputs": [],
   "source": [
    "# Reading the excel file\n",
    "TAS_falls_data = pd.ExcelFile('TAS Falls Data.xlsx')"
   ]
  },
  {
   "cell_type": "code",
   "execution_count": null,
   "metadata": {},
   "outputs": [],
   "source": [
    "# Reading the excel file\n",
    "WA_falls_data = pd.ExcelFile('WA Falls Data.xlsx')"
   ]
  },
  {
   "cell_type": "code",
   "execution_count": null,
   "metadata": {},
   "outputs": [],
   "source": [
    "# Reading the excel file\n",
    "NT_falls_data = pd.ExcelFile('NT Falls Data.xlsx')"
   ]
  },
  {
   "cell_type": "code",
   "execution_count": null,
   "metadata": {},
   "outputs": [],
   "source": []
  },
  {
   "cell_type": "code",
   "execution_count": null,
   "metadata": {},
   "outputs": [],
   "source": []
  },
  {
   "cell_type": "code",
   "execution_count": null,
   "metadata": {},
   "outputs": [],
   "source": [
    "# Parsing the file to df\n",
    "ACT_falls_data_df1 = ACT_falls_data.parse('S4', skiprows=2, index_col=None)"
   ]
  },
  {
   "cell_type": "code",
   "execution_count": null,
   "metadata": {},
   "outputs": [],
   "source": [
    "ACT_falls_data_df1"
   ]
  },
  {
   "cell_type": "code",
   "execution_count": null,
   "metadata": {},
   "outputs": [],
   "source": [
    "# Parsing the file to df\n",
    "NT_falls_data_df1 = NT_falls_data.parse('Table S4', skiprows=2, index_col=None)"
   ]
  },
  {
   "cell_type": "code",
   "execution_count": null,
   "metadata": {},
   "outputs": [],
   "source": [
    "NT_falls_data_df1"
   ]
  },
  {
   "cell_type": "code",
   "execution_count": null,
   "metadata": {},
   "outputs": [],
   "source": [
    "# Parsing the file to df\n",
    "QLD_falls_data_df1 = QLD_falls_data.parse('S4', skiprows=2, index_col=None)"
   ]
  },
  {
   "cell_type": "code",
   "execution_count": null,
   "metadata": {},
   "outputs": [],
   "source": [
    "QLD_falls_data_df1"
   ]
  },
  {
   "cell_type": "code",
   "execution_count": null,
   "metadata": {},
   "outputs": [],
   "source": [
    "# Parsing the file to df\n",
    "SA_falls_data_df1 = SA_falls_data.parse('Table S4', skiprows=2, index_col=None)"
   ]
  },
  {
   "cell_type": "code",
   "execution_count": null,
   "metadata": {},
   "outputs": [],
   "source": [
    "SA_falls_data_df1"
   ]
  },
  {
   "cell_type": "code",
   "execution_count": null,
   "metadata": {},
   "outputs": [],
   "source": [
    "# Parsing the file to df\n",
    "TAS_falls_data_df1 = TAS_falls_data.parse('S4', skiprows=2, index_col=None)"
   ]
  },
  {
   "cell_type": "code",
   "execution_count": null,
   "metadata": {},
   "outputs": [],
   "source": [
    "TAS_falls_data_df1"
   ]
  },
  {
   "cell_type": "code",
   "execution_count": null,
   "metadata": {},
   "outputs": [],
   "source": [
    "# Parsing the file to df\n",
    "WA_falls_data_df1 = WA_falls_data.parse('S4', skiprows=2, index_col=None)"
   ]
  },
  {
   "cell_type": "code",
   "execution_count": null,
   "metadata": {
    "scrolled": true
   },
   "outputs": [],
   "source": [
    "WA_falls_data_df1"
   ]
  },
  {
   "cell_type": "code",
   "execution_count": null,
   "metadata": {},
   "outputs": [],
   "source": [
    "# Parsing the file to df\n",
    "VIC_falls_data_df1 = VIC_falls_data.parse('Table S4', skiprows=2, index_col=None)"
   ]
  },
  {
   "cell_type": "code",
   "execution_count": null,
   "metadata": {},
   "outputs": [],
   "source": [
    "VIC_falls_data_df1"
   ]
  },
  {
   "cell_type": "code",
   "execution_count": null,
   "metadata": {},
   "outputs": [],
   "source": [
    "# Parsing the file to df\n",
    "NSW_falls_data_df1 = NSW_falls_data.parse('Table S4', skiprows=2, index_col=None)"
   ]
  },
  {
   "cell_type": "code",
   "execution_count": null,
   "metadata": {},
   "outputs": [],
   "source": [
    "NSW_falls_data_df1"
   ]
  },
  {
   "cell_type": "code",
   "execution_count": null,
   "metadata": {},
   "outputs": [],
   "source": [
    "# Parsing the file to df\n",
    "NT_falls_data_df1 = NT_falls_data.parse('Table S4', skiprows=2, index_col=None)"
   ]
  },
  {
   "cell_type": "code",
   "execution_count": null,
   "metadata": {},
   "outputs": [],
   "source": [
    "NT_falls_data_df1.head()"
   ]
  },
  {
   "cell_type": "code",
   "execution_count": null,
   "metadata": {},
   "outputs": [],
   "source": []
  },
  {
   "cell_type": "code",
   "execution_count": null,
   "metadata": {},
   "outputs": [],
   "source": []
  },
  {
   "cell_type": "code",
   "execution_count": null,
   "metadata": {},
   "outputs": [],
   "source": []
  },
  {
   "cell_type": "code",
   "execution_count": null,
   "metadata": {},
   "outputs": [],
   "source": []
  },
  {
   "cell_type": "code",
   "execution_count": null,
   "metadata": {},
   "outputs": [],
   "source": []
  },
  {
   "cell_type": "code",
   "execution_count": null,
   "metadata": {},
   "outputs": [],
   "source": []
  },
  {
   "cell_type": "code",
   "execution_count": null,
   "metadata": {},
   "outputs": [],
   "source": []
  },
  {
   "cell_type": "code",
   "execution_count": null,
   "metadata": {},
   "outputs": [],
   "source": [
    "# Dropping the unwanted columns\n",
    "NSW_falls_data_df1.drop(NSW_falls_data_df1.columns[1:14], axis=1,inplace=True)"
   ]
  },
  {
   "cell_type": "code",
   "execution_count": null,
   "metadata": {
    "scrolled": true
   },
   "outputs": [],
   "source": [
    "NSW_falls_data_df1"
   ]
  },
  {
   "cell_type": "code",
   "execution_count": null,
   "metadata": {},
   "outputs": [],
   "source": [
    "# Extracting the row data to df\n",
    "NSW_falls_data_df1_males = NSW_falls_data_df1.iloc[4:5]\n",
    "NSW_falls_data_df1_males1 = NSW_falls_data_df1.iloc[13:14]"
   ]
  },
  {
   "cell_type": "code",
   "execution_count": null,
   "metadata": {},
   "outputs": [],
   "source": [
    "NSW_falls_data_df1_males.columns"
   ]
  },
  {
   "cell_type": "code",
   "execution_count": null,
   "metadata": {},
   "outputs": [],
   "source": [
    "NSW_falls_data_df1_males"
   ]
  },
  {
   "cell_type": "code",
   "execution_count": null,
   "metadata": {},
   "outputs": [],
   "source": [
    "NSW_falls_data_df1_males1"
   ]
  },
  {
   "cell_type": "code",
   "execution_count": null,
   "metadata": {},
   "outputs": [],
   "source": [
    "# Cancatenating the dfs\n",
    "NSW_falls_data_df1_males_final = pd.concat([NSW_falls_data_df1_males,NSW_falls_data_df1_males1])"
   ]
  },
  {
   "cell_type": "code",
   "execution_count": null,
   "metadata": {},
   "outputs": [],
   "source": [
    "NSW_falls_data_df1_males_final"
   ]
  },
  {
   "cell_type": "code",
   "execution_count": null,
   "metadata": {},
   "outputs": [],
   "source": [
    "# Renaming the columns\n",
    "NSW_falls_data_df1_males_final.rename(columns={'Unnamed: 0':'Injury Type'}, inplace=True)"
   ]
  },
  {
   "cell_type": "code",
   "execution_count": null,
   "metadata": {
    "scrolled": true
   },
   "outputs": [],
   "source": [
    "# Updating column values\n",
    "NSW_falls_data_df1_males_final['Injury Type'].values[1] = 'Total_Injuries'"
   ]
  },
  {
   "cell_type": "code",
   "execution_count": null,
   "metadata": {},
   "outputs": [],
   "source": [
    "# Adding a column and assigning values to it\n",
    "NSW_falls_data_df1_males_final['Gender'] = 'Male'"
   ]
  },
  {
   "cell_type": "code",
   "execution_count": null,
   "metadata": {},
   "outputs": [],
   "source": [
    "# Extracting rows to a new df\n",
    "NSW_falls_data_df1_females = NSW_falls_data_df1.iloc[18:19]"
   ]
  },
  {
   "cell_type": "code",
   "execution_count": null,
   "metadata": {},
   "outputs": [],
   "source": [
    "# Extracting rows to a new df\n",
    "NSW_falls_data_df1_females1 = NSW_falls_data_df1.iloc[27:28]"
   ]
  },
  {
   "cell_type": "code",
   "execution_count": null,
   "metadata": {},
   "outputs": [],
   "source": [
    "NSW_falls_data_df1_females"
   ]
  },
  {
   "cell_type": "code",
   "execution_count": null,
   "metadata": {},
   "outputs": [],
   "source": [
    "# Concatenating the df\n",
    "NSW_falls_data_df1_females_final = pd.concat([NSW_falls_data_df1_females,NSW_falls_data_df1_females1])"
   ]
  },
  {
   "cell_type": "code",
   "execution_count": null,
   "metadata": {},
   "outputs": [],
   "source": [
    "NSW_falls_data_df1_females_final"
   ]
  },
  {
   "cell_type": "code",
   "execution_count": null,
   "metadata": {},
   "outputs": [],
   "source": [
    "# Renaming the column names\n",
    "NSW_falls_data_df1_females_final.rename(columns={'Unnamed: 0':'Injury Type'}, inplace=True)"
   ]
  },
  {
   "cell_type": "code",
   "execution_count": null,
   "metadata": {},
   "outputs": [],
   "source": [
    "# Updating column values\n",
    "NSW_falls_data_df1_females_final['Injury Type'].values[1] = 'Total_Injuries'"
   ]
  },
  {
   "cell_type": "code",
   "execution_count": null,
   "metadata": {},
   "outputs": [],
   "source": [
    "# Assing a new column and assigning values\n",
    "NSW_falls_data_df1_females_final['Gender'] = 'Female'"
   ]
  },
  {
   "cell_type": "code",
   "execution_count": null,
   "metadata": {},
   "outputs": [],
   "source": [
    "# Extracting rows to a dataframe\n",
    "NSW_falls_data_df1_persons = NSW_falls_data_df1.iloc[32:33]"
   ]
  },
  {
   "cell_type": "code",
   "execution_count": null,
   "metadata": {},
   "outputs": [],
   "source": [
    "# Extracting rows to a dataframe\n",
    "NSW_falls_data_df1_persons1 = NSW_falls_data_df1.iloc[41:42]"
   ]
  },
  {
   "cell_type": "code",
   "execution_count": null,
   "metadata": {},
   "outputs": [],
   "source": [
    "NSW_falls_data_df1_persons"
   ]
  },
  {
   "cell_type": "code",
   "execution_count": null,
   "metadata": {},
   "outputs": [],
   "source": [
    "NSW_falls_data_df1_persons1"
   ]
  },
  {
   "cell_type": "code",
   "execution_count": null,
   "metadata": {},
   "outputs": [],
   "source": [
    "# Concatenating dataframes\n",
    "NSW_falls_data_df1_persons_final = pd.concat([NSW_falls_data_df1_persons,NSW_falls_data_df1_persons1])"
   ]
  },
  {
   "cell_type": "code",
   "execution_count": null,
   "metadata": {},
   "outputs": [],
   "source": [
    "NSW_falls_data_df1_persons_final"
   ]
  },
  {
   "cell_type": "code",
   "execution_count": null,
   "metadata": {},
   "outputs": [],
   "source": [
    "# Renaming column name\n",
    "NSW_falls_data_df1_persons_final.rename(columns={'Unnamed: 0':'Injury Type'}, inplace=True)"
   ]
  },
  {
   "cell_type": "code",
   "execution_count": null,
   "metadata": {},
   "outputs": [],
   "source": [
    "# Uodating Column values\n",
    "NSW_falls_data_df1_persons_final['Injury Type'].values[1] = 'Total_Injuries'"
   ]
  },
  {
   "cell_type": "code",
   "execution_count": null,
   "metadata": {},
   "outputs": [],
   "source": [
    "# Adding a new column and assing value to it\n",
    "NSW_falls_data_df1_persons_final['Gender'] = 'Persons'"
   ]
  },
  {
   "cell_type": "code",
   "execution_count": null,
   "metadata": {},
   "outputs": [],
   "source": [
    "# Concatenating data files\n",
    "NSW_falls_data_final = pd.concat([NSW_falls_data_df1_males_final,NSW_falls_data_df1_females_final,\n",
    "                                 NSW_falls_data_df1_persons_final])"
   ]
  },
  {
   "cell_type": "code",
   "execution_count": null,
   "metadata": {},
   "outputs": [],
   "source": [
    "# Reseting the index\n",
    "NSW_falls_data_final.reset_index(inplace=True)"
   ]
  },
  {
   "cell_type": "code",
   "execution_count": null,
   "metadata": {},
   "outputs": [],
   "source": [
    "NSW_falls_data_final"
   ]
  },
  {
   "cell_type": "code",
   "execution_count": null,
   "metadata": {},
   "outputs": [],
   "source": [
    "# Dropping the previous index column\n",
    "NSW_falls_data_final.drop(NSW_falls_data_final.columns[0], axis=1,inplace=True)"
   ]
  },
  {
   "cell_type": "code",
   "execution_count": null,
   "metadata": {},
   "outputs": [],
   "source": [
    "# Adding a new column and assigning value\n",
    "NSW_falls_data_final['State'] = 'NSW'"
   ]
  },
  {
   "cell_type": "code",
   "execution_count": null,
   "metadata": {},
   "outputs": [],
   "source": []
  },
  {
   "cell_type": "code",
   "execution_count": null,
   "metadata": {},
   "outputs": [],
   "source": [
    "# Dropping the unwanted columns\n",
    "VIC_falls_data_df1.drop(VIC_falls_data_df1.columns[1:14], axis=1,inplace=True)"
   ]
  },
  {
   "cell_type": "code",
   "execution_count": null,
   "metadata": {},
   "outputs": [],
   "source": [
    "VIC_falls_data_df1.head(20)"
   ]
  },
  {
   "cell_type": "code",
   "execution_count": null,
   "metadata": {},
   "outputs": [],
   "source": [
    "# Extracting rows to a dataframe\n",
    "VIC_falls_data_df1_males = VIC_falls_data_df1.iloc[4:5]\n",
    "VIC_falls_data_df1_males1 = VIC_falls_data_df1.iloc[13:14]"
   ]
  },
  {
   "cell_type": "code",
   "execution_count": null,
   "metadata": {},
   "outputs": [],
   "source": [
    "VIC_falls_data_df1_males"
   ]
  },
  {
   "cell_type": "code",
   "execution_count": null,
   "metadata": {},
   "outputs": [],
   "source": [
    "VIC_falls_data_df1_males1"
   ]
  },
  {
   "cell_type": "code",
   "execution_count": null,
   "metadata": {},
   "outputs": [],
   "source": [
    "# Concatenating the df\n",
    "VIC_falls_data_df1_males_final = pd.concat([VIC_falls_data_df1_males,VIC_falls_data_df1_males1])"
   ]
  },
  {
   "cell_type": "code",
   "execution_count": null,
   "metadata": {},
   "outputs": [],
   "source": [
    "VIC_falls_data_df1_males_final"
   ]
  },
  {
   "cell_type": "code",
   "execution_count": null,
   "metadata": {},
   "outputs": [],
   "source": [
    "# Renaming column names\n",
    "VIC_falls_data_df1_males_final.rename(columns={'Unnamed: 0':'Injury Type'}, inplace=True)"
   ]
  },
  {
   "cell_type": "code",
   "execution_count": null,
   "metadata": {},
   "outputs": [],
   "source": [
    "# Updating column values\n",
    "VIC_falls_data_df1_males_final['Injury Type'].values[1] = 'Total_Injuries'"
   ]
  },
  {
   "cell_type": "code",
   "execution_count": null,
   "metadata": {},
   "outputs": [],
   "source": [
    "# Adding a column and assigning values\n",
    "VIC_falls_data_df1_males_final['Gender'] = 'Male'"
   ]
  },
  {
   "cell_type": "code",
   "execution_count": null,
   "metadata": {},
   "outputs": [],
   "source": [
    "# Extracting rows to a new df\n",
    "VIC_falls_data_df1_females = VIC_falls_data_df1.iloc[18:19]\n",
    "VIC_falls_data_df1_females1 = VIC_falls_data_df1.iloc[27:28]"
   ]
  },
  {
   "cell_type": "code",
   "execution_count": null,
   "metadata": {},
   "outputs": [],
   "source": [
    "# Concatenating the df\n",
    "VIC_falls_data_df1_females_final = pd.concat([VIC_falls_data_df1_females,VIC_falls_data_df1_females1])"
   ]
  },
  {
   "cell_type": "code",
   "execution_count": null,
   "metadata": {},
   "outputs": [],
   "source": [
    "VIC_falls_data_df1_females_final"
   ]
  },
  {
   "cell_type": "code",
   "execution_count": null,
   "metadata": {},
   "outputs": [],
   "source": [
    "# Renaming the column names\n",
    "VIC_falls_data_df1_females_final.rename(columns={'Unnamed: 0':'Injury Type'}, inplace=True)"
   ]
  },
  {
   "cell_type": "code",
   "execution_count": null,
   "metadata": {},
   "outputs": [],
   "source": [
    "# Updating column values\n",
    "VIC_falls_data_df1_females_final['Injury Type'].values[1] = 'Total_Injuries'"
   ]
  },
  {
   "cell_type": "code",
   "execution_count": null,
   "metadata": {},
   "outputs": [],
   "source": [
    "# Adding a new column and assigning values\n",
    "VIC_falls_data_df1_females_final['Gender'] = 'Female'"
   ]
  },
  {
   "cell_type": "code",
   "execution_count": null,
   "metadata": {},
   "outputs": [],
   "source": [
    "# Extracting rows to new dfs\n",
    "VIC_falls_data_df1_persons = VIC_falls_data_df1.iloc[32:33]\n",
    "VIC_falls_data_df1_persons1 = VIC_falls_data_df1.iloc[41:42]"
   ]
  },
  {
   "cell_type": "code",
   "execution_count": null,
   "metadata": {},
   "outputs": [],
   "source": [
    "# Concatenating the dfs\n",
    "VIC_falls_data_df1_persons_final = pd.concat([VIC_falls_data_df1_persons,VIC_falls_data_df1_persons1])"
   ]
  },
  {
   "cell_type": "code",
   "execution_count": null,
   "metadata": {},
   "outputs": [],
   "source": [
    "VIC_falls_data_df1_persons_final"
   ]
  },
  {
   "cell_type": "code",
   "execution_count": null,
   "metadata": {},
   "outputs": [],
   "source": [
    "# Renaming the column names\n",
    "VIC_falls_data_df1_persons_final.rename(columns={'Unnamed: 0':'Injury Type'}, inplace=True)"
   ]
  },
  {
   "cell_type": "code",
   "execution_count": null,
   "metadata": {},
   "outputs": [],
   "source": [
    "# Updating the column values\n",
    "VIC_falls_data_df1_persons_final['Injury Type'].values[1] = 'Total_Injuries'"
   ]
  },
  {
   "cell_type": "code",
   "execution_count": null,
   "metadata": {},
   "outputs": [],
   "source": [
    "# Adding a new column and assigning values\n",
    "VIC_falls_data_df1_persons_final['Gender'] = 'Persons'"
   ]
  },
  {
   "cell_type": "code",
   "execution_count": null,
   "metadata": {},
   "outputs": [],
   "source": [
    "# Concatenating the dfs\n",
    "VIC_falls_data_final = pd.concat([VIC_falls_data_df1_males_final,VIC_falls_data_df1_females_final,\n",
    "                                 VIC_falls_data_df1_persons_final])"
   ]
  },
  {
   "cell_type": "code",
   "execution_count": null,
   "metadata": {},
   "outputs": [],
   "source": [
    "VIC_falls_data_final"
   ]
  },
  {
   "cell_type": "code",
   "execution_count": null,
   "metadata": {},
   "outputs": [],
   "source": [
    "# Reseting the index\n",
    "VIC_falls_data_final.reset_index(inplace=True)"
   ]
  },
  {
   "cell_type": "code",
   "execution_count": null,
   "metadata": {},
   "outputs": [],
   "source": [
    "# Remob=ving the old index\n",
    "VIC_falls_data_final.drop(VIC_falls_data_final.columns[0], axis=1,inplace=True)"
   ]
  },
  {
   "cell_type": "code",
   "execution_count": null,
   "metadata": {},
   "outputs": [],
   "source": [
    "# Adding a new column and assigning values to it\n",
    "VIC_falls_data_final['State'] = 'VIC'"
   ]
  },
  {
   "cell_type": "code",
   "execution_count": null,
   "metadata": {},
   "outputs": [],
   "source": []
  },
  {
   "cell_type": "code",
   "execution_count": null,
   "metadata": {},
   "outputs": [],
   "source": []
  },
  {
   "cell_type": "code",
   "execution_count": null,
   "metadata": {},
   "outputs": [],
   "source": [
    "# Dropping the unwanted columns\n",
    "QLD_falls_data_df1.drop(QLD_falls_data_df1.columns[1:14], axis=1,inplace=True)"
   ]
  },
  {
   "cell_type": "code",
   "execution_count": null,
   "metadata": {},
   "outputs": [],
   "source": [
    "QLD_falls_data_df1.head()"
   ]
  },
  {
   "cell_type": "code",
   "execution_count": null,
   "metadata": {},
   "outputs": [],
   "source": [
    "# Extracting row values to new dfs\n",
    "QLD_falls_data_df1_males = QLD_falls_data_df1.iloc[4:5]\n",
    "QLD_falls_data_df1_males1 = QLD_falls_data_df1.iloc[13:14]"
   ]
  },
  {
   "cell_type": "code",
   "execution_count": null,
   "metadata": {},
   "outputs": [],
   "source": [
    "# Concatenating the dfs\n",
    "QLD_falls_data_df1_males_final = pd.concat([QLD_falls_data_df1_males,QLD_falls_data_df1_males1])\n"
   ]
  },
  {
   "cell_type": "code",
   "execution_count": null,
   "metadata": {},
   "outputs": [],
   "source": [
    "QLD_falls_data_df1_males_final"
   ]
  },
  {
   "cell_type": "code",
   "execution_count": null,
   "metadata": {},
   "outputs": [],
   "source": [
    "# Renaming column names\n",
    "QLD_falls_data_df1_males_final.rename(columns={'Unnamed: 0':'Injury Type'}, inplace=True)"
   ]
  },
  {
   "cell_type": "code",
   "execution_count": null,
   "metadata": {},
   "outputs": [],
   "source": [
    "# Updating column values\n",
    "QLD_falls_data_df1_males_final['Injury Type'].values[1] = 'Total_Injuries'"
   ]
  },
  {
   "cell_type": "code",
   "execution_count": null,
   "metadata": {},
   "outputs": [],
   "source": [
    "# Adding a new column and assigning values to it\n",
    "QLD_falls_data_df1_males_final['Gender'] = 'Male'\n"
   ]
  },
  {
   "cell_type": "code",
   "execution_count": null,
   "metadata": {},
   "outputs": [],
   "source": [
    "# Extracting rows to a new df\n",
    "QLD_falls_data_df1_females = QLD_falls_data_df1.iloc[18:19]\n",
    "\n",
    "QLD_falls_data_df1_females1 = QLD_falls_data_df1.iloc[27:28]"
   ]
  },
  {
   "cell_type": "code",
   "execution_count": null,
   "metadata": {},
   "outputs": [],
   "source": [
    "# Concatenating the dfs\n",
    "QLD_falls_data_df1_females_final = pd.concat([QLD_falls_data_df1_females,QLD_falls_data_df1_females1])\n"
   ]
  },
  {
   "cell_type": "code",
   "execution_count": null,
   "metadata": {},
   "outputs": [],
   "source": [
    "QLD_falls_data_df1_females_final"
   ]
  },
  {
   "cell_type": "code",
   "execution_count": null,
   "metadata": {},
   "outputs": [],
   "source": [
    "# Renaming columns, updating values and adding a new column\n",
    "QLD_falls_data_df1_females_final.rename(columns={'Unnamed: 0':'Injury Type'}, inplace=True)\n",
    "\n",
    "QLD_falls_data_df1_females_final['Injury Type'].values[1] = 'Total_Injuries'\n",
    "\n",
    "QLD_falls_data_df1_females_final['Gender'] = 'Female'"
   ]
  },
  {
   "cell_type": "code",
   "execution_count": null,
   "metadata": {},
   "outputs": [],
   "source": [
    "# Extracting rows to new dfs\n",
    "QLD_falls_data_df1_persons = QLD_falls_data_df1.iloc[32:33]\n",
    "\n",
    "QLD_falls_data_df1_persons1 = QLD_falls_data_df1.iloc[41:42]\n",
    "\n",
    "# Concatenating the dfs\n",
    "QLD_falls_data_df1_persons_final = pd.concat([QLD_falls_data_df1_persons,QLD_falls_data_df1_persons1])\n",
    "\n",
    "# Renaming columns, updating values and adding a new column\n",
    "QLD_falls_data_df1_persons_final.rename(columns={'Unnamed: 0':'Injury Type'}, inplace=True)\n",
    "\n",
    "QLD_falls_data_df1_persons_final['Injury Type'].values[1] = 'Total_Injuries'\n",
    "\n",
    "QLD_falls_data_df1_persons_final['Gender'] = 'Persons'"
   ]
  },
  {
   "cell_type": "code",
   "execution_count": null,
   "metadata": {},
   "outputs": [],
   "source": [
    "QLD_falls_data_df1_persons_final"
   ]
  },
  {
   "cell_type": "code",
   "execution_count": null,
   "metadata": {},
   "outputs": [],
   "source": [
    "# Concatenating the dfs\n",
    "QLD_falls_data_final = pd.concat([QLD_falls_data_df1_males_final,QLD_falls_data_df1_females_final,\n",
    "                                 QLD_falls_data_df1_persons_final])"
   ]
  },
  {
   "cell_type": "code",
   "execution_count": null,
   "metadata": {},
   "outputs": [],
   "source": [
    "# Resetting the index\n",
    "QLD_falls_data_final.reset_index(inplace=True)\n",
    "\n",
    "# Dropping the unwanted columns\n",
    "QLD_falls_data_final.drop(QLD_falls_data_final.columns[0], axis=1,inplace=True)\n",
    "\n",
    "# Assing a new column and assigning values to it\n",
    "QLD_falls_data_final['State'] = 'QLD'"
   ]
  },
  {
   "cell_type": "code",
   "execution_count": null,
   "metadata": {},
   "outputs": [],
   "source": [
    "QLD_falls_data_final"
   ]
  },
  {
   "cell_type": "code",
   "execution_count": null,
   "metadata": {},
   "outputs": [],
   "source": []
  },
  {
   "cell_type": "code",
   "execution_count": null,
   "metadata": {},
   "outputs": [],
   "source": []
  },
  {
   "cell_type": "code",
   "execution_count": null,
   "metadata": {},
   "outputs": [],
   "source": [
    "# Dropping the unwanted columns\n",
    "TAS_falls_data_df1.drop(TAS_falls_data_df1.columns[1:14], axis=1,inplace=True)"
   ]
  },
  {
   "cell_type": "code",
   "execution_count": null,
   "metadata": {},
   "outputs": [],
   "source": [
    "# Extracting rows to new dfs\n",
    "TAS_falls_data_df1_males = TAS_falls_data_df1.iloc[4:5]\n",
    "TAS_falls_data_df1_males1 = TAS_falls_data_df1.iloc[13:14]\n",
    "\n",
    "# Concatenating the dfs\n",
    "TAS_falls_data_df1_males_final = pd.concat([TAS_falls_data_df1_males,TAS_falls_data_df1_males1])\n",
    "\n",
    "# Renaming columns, updating values and adding a new column\n",
    "TAS_falls_data_df1_males_final.rename(columns={'Unnamed: 0':'Injury Type'}, inplace=True)\n",
    "\n",
    "TAS_falls_data_df1_males_final['Injury Type'].values[1] = 'Total_Injuries'\n",
    "\n",
    "TAS_falls_data_df1_males_final['Gender'] = 'Male'"
   ]
  },
  {
   "cell_type": "code",
   "execution_count": null,
   "metadata": {},
   "outputs": [],
   "source": [
    "TAS_falls_data_df1_males_final"
   ]
  },
  {
   "cell_type": "code",
   "execution_count": null,
   "metadata": {},
   "outputs": [],
   "source": [
    "# Extracting rows to new dfs\n",
    "TAS_falls_data_df1_females = TAS_falls_data_df1.iloc[18:19]\n",
    "\n",
    "TAS_falls_data_df1_females1 = TAS_falls_data_df1.iloc[27:28]\n",
    "\n",
    "# Concatenating the dfs\n",
    "\n",
    "TAS_falls_data_df1_females_final = pd.concat([TAS_falls_data_df1_females,TAS_falls_data_df1_females1])\n",
    "\n",
    "# Renaming columns, updating values and adding a new column\n",
    "TAS_falls_data_df1_females_final.rename(columns={'Unnamed: 0':'Injury Type'}, inplace=True)\n",
    "\n",
    "TAS_falls_data_df1_females_final['Injury Type'].values[1] = 'Total_Injuries'\n",
    "\n",
    "TAS_falls_data_df1_females_final['Gender'] = 'Female'"
   ]
  },
  {
   "cell_type": "code",
   "execution_count": null,
   "metadata": {},
   "outputs": [],
   "source": [
    "TAS_falls_data_df1_females_final"
   ]
  },
  {
   "cell_type": "code",
   "execution_count": null,
   "metadata": {},
   "outputs": [],
   "source": [
    "# Extracting rows to new dfs\n",
    "TAS_falls_data_df1_persons = TAS_falls_data_df1.iloc[32:33]\n",
    "\n",
    "TAS_falls_data_df1_persons1 = TAS_falls_data_df1.iloc[41:42]\n",
    "\n",
    "# Concatenating the dfs\n",
    "TAS_falls_data_df1_persons_final = pd.concat([TAS_falls_data_df1_persons,TAS_falls_data_df1_persons1])\n",
    "\n",
    "# Renaming columns, updating values and adding a new column\n",
    "TAS_falls_data_df1_persons_final.rename(columns={'Unnamed: 0':'Injury Type'}, inplace=True)\n",
    "\n",
    "TAS_falls_data_df1_persons_final['Injury Type'].values[1] = 'Total_Injuries'\n",
    "\n",
    "TAS_falls_data_df1_persons_final['Gender'] = 'Persons'"
   ]
  },
  {
   "cell_type": "code",
   "execution_count": null,
   "metadata": {},
   "outputs": [],
   "source": [
    "TAS_falls_data_df1_persons_final"
   ]
  },
  {
   "cell_type": "code",
   "execution_count": null,
   "metadata": {},
   "outputs": [],
   "source": [
    "# Concatenating the dfs\n",
    "TAS_falls_data_final = pd.concat([TAS_falls_data_df1_males_final,TAS_falls_data_df1_females_final,\n",
    "                                 TAS_falls_data_df1_persons_final])"
   ]
  },
  {
   "cell_type": "code",
   "execution_count": null,
   "metadata": {},
   "outputs": [],
   "source": [
    "# Reseting the index\n",
    "TAS_falls_data_final.reset_index(inplace=True)\n",
    "\n",
    "# Dropping the previous index column\n",
    "TAS_falls_data_final.drop(TAS_falls_data_final.columns[0], axis=1,inplace=True)\n",
    "\n",
    "# Adding a new column and updating the values\n",
    "TAS_falls_data_final['State'] = 'TAS'"
   ]
  },
  {
   "cell_type": "code",
   "execution_count": null,
   "metadata": {},
   "outputs": [],
   "source": [
    "TAS_falls_data_final"
   ]
  },
  {
   "cell_type": "code",
   "execution_count": null,
   "metadata": {},
   "outputs": [],
   "source": []
  },
  {
   "cell_type": "code",
   "execution_count": null,
   "metadata": {},
   "outputs": [],
   "source": []
  },
  {
   "cell_type": "code",
   "execution_count": null,
   "metadata": {},
   "outputs": [],
   "source": [
    "# Dropping the unwanted columns\n",
    "WA_falls_data_df1.drop(WA_falls_data_df1.columns[1:14], axis=1,inplace=True)\n"
   ]
  },
  {
   "cell_type": "code",
   "execution_count": null,
   "metadata": {},
   "outputs": [],
   "source": [
    "# Extracting rows to new dfs\n",
    "WA_falls_data_df1_males = WA_falls_data_df1.iloc[4:5]\n",
    "WA_falls_data_df1_males1 = WA_falls_data_df1.iloc[13:14]\n",
    "\n",
    "# Concatenating the dfs\n",
    "WA_falls_data_df1_males_final = pd.concat([WA_falls_data_df1_males,WA_falls_data_df1_males1])\n",
    "\n",
    "# Renaming columns, updating values and adding a new column\n",
    "WA_falls_data_df1_males_final.rename(columns={'Unnamed: 0':'Injury Type'}, inplace=True)\n",
    "\n",
    "WA_falls_data_df1_males_final['Injury Type'].values[1] = 'Total_Injuries'\n",
    "\n",
    "WA_falls_data_df1_males_final['Gender'] = 'Male'"
   ]
  },
  {
   "cell_type": "code",
   "execution_count": null,
   "metadata": {},
   "outputs": [],
   "source": [
    "WA_falls_data_df1_males_final"
   ]
  },
  {
   "cell_type": "code",
   "execution_count": null,
   "metadata": {},
   "outputs": [],
   "source": [
    "# Extracting rows to new dfs\n",
    "WA_falls_data_df1_females = WA_falls_data_df1.iloc[18:19]\n",
    "\n",
    "WA_falls_data_df1_females1 = WA_falls_data_df1.iloc[27:28]\n",
    "\n",
    "# Concatenating the dfs\n",
    "WA_falls_data_df1_females_final = pd.concat([WA_falls_data_df1_females,WA_falls_data_df1_females1])\n",
    "\n",
    "# Renaming columns, updating values and adding a new column\n",
    "WA_falls_data_df1_females_final.rename(columns={'Unnamed: 0':'Injury Type'}, inplace=True)\n",
    "\n",
    "WA_falls_data_df1_females_final['Injury Type'].values[1] = 'Total_Injuries'\n",
    "\n",
    "WA_falls_data_df1_females_final['Gender'] = 'Female'"
   ]
  },
  {
   "cell_type": "code",
   "execution_count": null,
   "metadata": {},
   "outputs": [],
   "source": [
    "WA_falls_data_df1_females_final"
   ]
  },
  {
   "cell_type": "code",
   "execution_count": null,
   "metadata": {},
   "outputs": [],
   "source": [
    "# Extracting rows to new dfs\n",
    "WA_falls_data_df1_persons = WA_falls_data_df1.iloc[32:33]\n",
    "\n",
    "WA_falls_data_df1_persons1 = WA_falls_data_df1.iloc[41:42]\n",
    "\n",
    "# Concatenating the dfs\n",
    "WA_falls_data_df1_persons_final = pd.concat([WA_falls_data_df1_persons,WA_falls_data_df1_persons1])\n",
    "\n",
    "# Renaming columns, updating values and adding a new column\n",
    "WA_falls_data_df1_persons_final.rename(columns={'Unnamed: 0':'Injury Type'}, inplace=True)\n",
    "\n",
    "WA_falls_data_df1_persons_final['Injury Type'].values[1] = 'Total_Injuries'\n",
    "\n",
    "WA_falls_data_df1_persons_final['Gender'] = 'Persons'"
   ]
  },
  {
   "cell_type": "code",
   "execution_count": null,
   "metadata": {},
   "outputs": [],
   "source": [
    "WA_falls_data_df1_persons_final"
   ]
  },
  {
   "cell_type": "code",
   "execution_count": null,
   "metadata": {},
   "outputs": [],
   "source": [
    "# concatenating the dfs\n",
    "WA_falls_data_final = pd.concat([WA_falls_data_df1_males_final,WA_falls_data_df1_females_final,\n",
    "                                 WA_falls_data_df1_persons_final])"
   ]
  },
  {
   "cell_type": "code",
   "execution_count": null,
   "metadata": {},
   "outputs": [],
   "source": [
    "# Reseting the index\n",
    "WA_falls_data_final.reset_index(inplace=True)\n",
    "\n",
    "# Dropping the previous index\n",
    "WA_falls_data_final.drop(WA_falls_data_final.columns[0], axis=1,inplace=True)\n",
    "\n",
    "# Adding a new column and assigning values\n",
    "WA_falls_data_final['State'] = 'WA'"
   ]
  },
  {
   "cell_type": "code",
   "execution_count": null,
   "metadata": {},
   "outputs": [],
   "source": [
    "WA_falls_data_final"
   ]
  },
  {
   "cell_type": "code",
   "execution_count": null,
   "metadata": {},
   "outputs": [],
   "source": []
  },
  {
   "cell_type": "code",
   "execution_count": null,
   "metadata": {},
   "outputs": [],
   "source": [
    "# Dropping the unwanted columns\n",
    "SA_falls_data_df1.drop(SA_falls_data_df1.columns[1:14], axis=1,inplace=True)"
   ]
  },
  {
   "cell_type": "code",
   "execution_count": null,
   "metadata": {},
   "outputs": [],
   "source": [
    "SA_falls_data_df1.head()"
   ]
  },
  {
   "cell_type": "code",
   "execution_count": null,
   "metadata": {},
   "outputs": [],
   "source": [
    "# Extracting the rows to new dfs\n",
    "SA_falls_data_df1_males = SA_falls_data_df1.iloc[4:5]\n",
    "SA_falls_data_df1_males1 = SA_falls_data_df1.iloc[13:14]\n",
    "\n",
    "# Concatenating the dfs\n",
    "SA_falls_data_df1_males_final = pd.concat([SA_falls_data_df1_males,SA_falls_data_df1_males1])\n",
    "\n",
    "# Renaming columns, updating values and adding a new column\n",
    "SA_falls_data_df1_males_final.rename(columns={'Unnamed: 0':'Injury Type'}, inplace=True)\n",
    "\n",
    "SA_falls_data_df1_males_final['Injury Type'].values[1] = 'Total_Injuries'\n",
    "\n",
    "SA_falls_data_df1_males_final['Gender'] = 'Male'"
   ]
  },
  {
   "cell_type": "code",
   "execution_count": null,
   "metadata": {},
   "outputs": [],
   "source": [
    "SA_falls_data_df1_males_final"
   ]
  },
  {
   "cell_type": "code",
   "execution_count": null,
   "metadata": {},
   "outputs": [],
   "source": [
    "# Extracting the rows to new dfs\n",
    "SA_falls_data_df1_females = SA_falls_data_df1.iloc[18:19]\n",
    "\n",
    "SA_falls_data_df1_females1 = SA_falls_data_df1.iloc[27:28]\n",
    "\n",
    "# Cancatenating the dfs\n",
    "SA_falls_data_df1_females_final = pd.concat([SA_falls_data_df1_females,SA_falls_data_df1_females1])\n",
    "\n",
    "# Renaming columns, updating values and adding a new column\n",
    "SA_falls_data_df1_females_final.rename(columns={'Unnamed: 0':'Injury Type'}, inplace=True)\n",
    "\n",
    "SA_falls_data_df1_females_final['Injury Type'].values[1] = 'Total_Injuries'\n",
    "\n",
    "SA_falls_data_df1_females_final['Gender'] = 'Female'"
   ]
  },
  {
   "cell_type": "code",
   "execution_count": null,
   "metadata": {},
   "outputs": [],
   "source": [
    "SA_falls_data_df1_females_final"
   ]
  },
  {
   "cell_type": "code",
   "execution_count": null,
   "metadata": {},
   "outputs": [],
   "source": [
    "# Extracting the rows to new dfs\n",
    "SA_falls_data_df1_persons = SA_falls_data_df1.iloc[32:33]\n",
    "\n",
    "SA_falls_data_df1_persons1 = SA_falls_data_df1.iloc[41:42]\n",
    "\n",
    "# Concatenating the dfs\n",
    "SA_falls_data_df1_persons_final = pd.concat([SA_falls_data_df1_persons,SA_falls_data_df1_persons1])\n",
    "\n",
    "# Renaming columns, updating values and adding a new column\n",
    "SA_falls_data_df1_persons_final.rename(columns={'Unnamed: 0':'Injury Type'}, inplace=True)\n",
    "\n",
    "SA_falls_data_df1_persons_final['Injury Type'].values[1] = 'Total_Injuries'\n",
    "\n",
    "SA_falls_data_df1_persons_final['Gender'] = 'Persons'"
   ]
  },
  {
   "cell_type": "code",
   "execution_count": null,
   "metadata": {},
   "outputs": [],
   "source": [
    "# Concatenating the dfs\n",
    "SA_falls_data_final = pd.concat([SA_falls_data_df1_males_final,SA_falls_data_df1_females_final,\n",
    "                                 SA_falls_data_df1_persons_final])"
   ]
  },
  {
   "cell_type": "code",
   "execution_count": null,
   "metadata": {},
   "outputs": [],
   "source": [
    "SA_falls_data_final"
   ]
  },
  {
   "cell_type": "code",
   "execution_count": null,
   "metadata": {},
   "outputs": [],
   "source": [
    "# Reseting the index\n",
    "SA_falls_data_final.reset_index(inplace=True)\n",
    "\n",
    "# Dropping the previous index\n",
    "SA_falls_data_final.drop(SA_falls_data_final.columns[0], axis=1,inplace=True)\n",
    "# Adding a new column and assiging values\n",
    "SA_falls_data_final['State'] = 'SA'"
   ]
  },
  {
   "cell_type": "code",
   "execution_count": null,
   "metadata": {},
   "outputs": [],
   "source": []
  },
  {
   "cell_type": "code",
   "execution_count": null,
   "metadata": {},
   "outputs": [],
   "source": []
  },
  {
   "cell_type": "code",
   "execution_count": null,
   "metadata": {},
   "outputs": [],
   "source": []
  },
  {
   "cell_type": "code",
   "execution_count": null,
   "metadata": {},
   "outputs": [],
   "source": [
    "# Dropping the unwanted columns\n",
    "ACT_falls_data_df1.drop(ACT_falls_data_df1.columns[1:14], axis=1,inplace=True)"
   ]
  },
  {
   "cell_type": "code",
   "execution_count": null,
   "metadata": {},
   "outputs": [],
   "source": [
    "# Extracting rows to new dfs\n",
    "ACT_falls_data_df1_males = ACT_falls_data_df1.iloc[4:5]\n",
    "ACT_falls_data_df1_males1 = ACT_falls_data_df1.iloc[13:14]\n",
    "\n",
    "# Concatenating the dfs\n",
    "ACT_falls_data_df1_males_final = pd.concat([ACT_falls_data_df1_males,ACT_falls_data_df1_males1])\n",
    "\n",
    "# Renaming columns, updating values and adding a new column\n",
    "ACT_falls_data_df1_males_final.rename(columns={'Unnamed: 0':'Injury Type'}, inplace=True)\n",
    "\n",
    "ACT_falls_data_df1_males_final['Injury Type'].values[1] = 'Total_Injuries'\n",
    "\n",
    "ACT_falls_data_df1_males_final['Gender'] = 'Male'"
   ]
  },
  {
   "cell_type": "code",
   "execution_count": null,
   "metadata": {},
   "outputs": [],
   "source": [
    "ACT_falls_data_df1_males_final"
   ]
  },
  {
   "cell_type": "code",
   "execution_count": null,
   "metadata": {},
   "outputs": [],
   "source": [
    "# Extracting rows to new dfs\n",
    "ACT_falls_data_df1_females = ACT_falls_data_df1.iloc[18:19]\n",
    "\n",
    "ACT_falls_data_df1_females1 = ACT_falls_data_df1.iloc[27:28]\n",
    "\n",
    "# Concatenating the dfs\n",
    "ACT_falls_data_df1_females_final = pd.concat([ACT_falls_data_df1_females,ACT_falls_data_df1_females1])\n",
    "\n",
    "# Renaming columns, updating values and adding a new column\n",
    "ACT_falls_data_df1_females_final.rename(columns={'Unnamed: 0':'Injury Type'}, inplace=True)\n",
    "\n",
    "ACT_falls_data_df1_females_final['Injury Type'].values[1] = 'Total_Injuries'\n",
    "\n",
    "ACT_falls_data_df1_females_final['Gender'] = 'Female'"
   ]
  },
  {
   "cell_type": "code",
   "execution_count": null,
   "metadata": {},
   "outputs": [],
   "source": [
    "ACT_falls_data_df1_females_final"
   ]
  },
  {
   "cell_type": "code",
   "execution_count": null,
   "metadata": {},
   "outputs": [],
   "source": [
    "# Extracting the rows data to new dfs\n",
    "ACT_falls_data_df1_persons = ACT_falls_data_df1.iloc[32:33]\n",
    "\n",
    "ACT_falls_data_df1_persons1 = ACT_falls_data_df1.iloc[41:42]\n",
    "\n",
    "# concatenating the dfs\n",
    "ACT_falls_data_df1_persons_final = pd.concat([ACT_falls_data_df1_persons,ACT_falls_data_df1_persons1])\n",
    "\n",
    "# Renaming columns, updating values and adding a new column\n",
    "ACT_falls_data_df1_persons_final.rename(columns={'Unnamed: 0':'Injury Type'}, inplace=True)\n",
    "\n",
    "ACT_falls_data_df1_persons_final['Injury Type'].values[1] = 'Total_Injuries'\n",
    "\n",
    "ACT_falls_data_df1_persons_final['Gender'] = 'Persons'"
   ]
  },
  {
   "cell_type": "code",
   "execution_count": null,
   "metadata": {},
   "outputs": [],
   "source": [
    "ACT_falls_data_final = pd.concat([ACT_falls_data_df1_males_final,ACT_falls_data_df1_persons_final,\n",
    "                                 ACT_falls_data_df1_persons_final])"
   ]
  },
  {
   "cell_type": "code",
   "execution_count": null,
   "metadata": {},
   "outputs": [],
   "source": [
    "ACT_falls_data_final"
   ]
  },
  {
   "cell_type": "code",
   "execution_count": null,
   "metadata": {},
   "outputs": [],
   "source": [
    "# Reseting the index\n",
    "ACT_falls_data_final.reset_index(inplace=True)\n",
    "\n",
    "# Dropping the old index\n",
    "ACT_falls_data_final.drop(ACT_falls_data_final.columns[0], axis=1,inplace=True)\n",
    "\n",
    "# Adding a new column and assing values\n",
    "ACT_falls_data_final['State'] = 'ACT'"
   ]
  },
  {
   "cell_type": "code",
   "execution_count": null,
   "metadata": {},
   "outputs": [],
   "source": []
  },
  {
   "cell_type": "code",
   "execution_count": null,
   "metadata": {},
   "outputs": [],
   "source": [
    "# Dropping the unwanted columns\n",
    "NT_falls_data_df1.drop(NT_falls_data_df1.columns[1:14], axis=1,inplace=True)"
   ]
  },
  {
   "cell_type": "code",
   "execution_count": null,
   "metadata": {
    "scrolled": true
   },
   "outputs": [],
   "source": [
    "NT_falls_data_df1"
   ]
  },
  {
   "cell_type": "code",
   "execution_count": null,
   "metadata": {},
   "outputs": [],
   "source": [
    "# Extracting rows to new dfs\n",
    "NT_falls_data_df1_males = NT_falls_data_df1.iloc[4:5]\n",
    "NT_falls_data_df1_males1 = NT_falls_data_df1.iloc[13:14]"
   ]
  },
  {
   "cell_type": "code",
   "execution_count": null,
   "metadata": {},
   "outputs": [],
   "source": [
    "# Concatenating the files\n",
    "NT_falls_data_df1_males_final = pd.concat([NT_falls_data_df1_males,NT_falls_data_df1_males1])\n",
    "\n",
    "# Renaming columns, updating values and adding a new column\n",
    "NT_falls_data_df1_males_final.rename(columns={'Unnamed: 0':'Injury Type'}, inplace=True)\n",
    "\n",
    "# Updating the columns values\n",
    "NT_falls_data_df1_males_final['Injury Type'].values[1] = 'Total_Injuries'\n",
    "\n",
    "# Adding a new column and assigning values\n",
    "NT_falls_data_df1_males_final['Gender'] = 'Male'"
   ]
  },
  {
   "cell_type": "code",
   "execution_count": null,
   "metadata": {},
   "outputs": [],
   "source": [
    "NT_falls_data_df1_males_final.head()"
   ]
  },
  {
   "cell_type": "code",
   "execution_count": null,
   "metadata": {},
   "outputs": [],
   "source": [
    "# Extracting rows to new dfs\n",
    "NT_falls_data_df1_females = NT_falls_data_df1.iloc[18:19]\n",
    "\n",
    "NT_falls_data_df1_females1 = NT_falls_data_df1.iloc[27:28]\n",
    "\n",
    "# Concatenating dfs\n",
    "NT_falls_data_df1_females_final = pd.concat([NT_falls_data_df1_females,NT_falls_data_df1_females1])\n",
    "\n",
    "# Renaming columns, updating values and adding a new column\n",
    "NT_falls_data_df1_females_final.rename(columns={'Unnamed: 0':'Injury Type'}, inplace=True)\n",
    "\n",
    "NT_falls_data_df1_females_final['Injury Type'].values[1] = 'Total_Injuries'\n",
    "\n",
    "NT_falls_data_df1_females_final['Gender'] = 'Female'"
   ]
  },
  {
   "cell_type": "code",
   "execution_count": null,
   "metadata": {},
   "outputs": [],
   "source": [
    "NT_falls_data_df1_females_final"
   ]
  },
  {
   "cell_type": "code",
   "execution_count": null,
   "metadata": {},
   "outputs": [],
   "source": [
    "# Extracting rows to new dfs\n",
    "NT_falls_data_df1_persons = NT_falls_data_df1.iloc[32:33]\n",
    "\n",
    "NT_falls_data_df1_persons1 = NT_falls_data_df1.iloc[41:42]\n",
    "\n",
    "# Concatenating dfs \n",
    "NT_falls_data_df1_persons_final = pd.concat([NT_falls_data_df1_persons,NT_falls_data_df1_persons1])\n",
    "\n",
    "# Renaming the columns\n",
    "NT_falls_data_df1_persons_final.rename(columns={'Unnamed: 0':'Injury Type'}, inplace=True)\n",
    "\n",
    "# Updating column values\n",
    "NT_falls_data_df1_persons_final['Injury Type'].values[1] = 'Total_Injuries'\n",
    "\n",
    "# Adding a new column and assigning values\n",
    "NT_falls_data_df1_persons_final['Gender'] = 'Persons'"
   ]
  },
  {
   "cell_type": "code",
   "execution_count": null,
   "metadata": {},
   "outputs": [],
   "source": [
    "NT_falls_data_df1_persons_final"
   ]
  },
  {
   "cell_type": "code",
   "execution_count": null,
   "metadata": {},
   "outputs": [],
   "source": [
    "# Concatenating the dfs\n",
    "NT_falls_data_final = pd.concat([NT_falls_data_df1_males_final,NT_falls_data_df1_persons_final,\n",
    "                                 NT_falls_data_df1_persons_final])"
   ]
  },
  {
   "cell_type": "code",
   "execution_count": null,
   "metadata": {},
   "outputs": [],
   "source": [
    "NT_falls_data_final"
   ]
  },
  {
   "cell_type": "code",
   "execution_count": null,
   "metadata": {},
   "outputs": [],
   "source": [
    "# Reseting the index\n",
    "NT_falls_data_final.reset_index(inplace=True)\n",
    "\n",
    "# Dropping the old index\n",
    "NT_falls_data_final.drop(NT_falls_data_final.columns[0], axis=1,inplace=True)\n",
    "\n",
    "NT_falls_data_final['State'] = 'NT'"
   ]
  },
  {
   "cell_type": "code",
   "execution_count": null,
   "metadata": {},
   "outputs": [],
   "source": [
    "# Adding long and lat columns to dfs\n",
    "NT_falls_data_final['Longitude'] = 130.841782\n",
    "NT_falls_data_final['Latitude'] = -12.462827\n",
    "ACT_falls_data_final['Longitude'] = 149.012375\n",
    "ACT_falls_data_final['Latitude'] = -35.473469\n",
    "VIC_falls_data_final['Longitude'] = 144.964600\n",
    "VIC_falls_data_final['Latitude'] = -37.020100\n",
    "NSW_falls_data_final['Longitude'] = 145.612793\n",
    "NSW_falls_data_final['Latitude'] = -31.840233\n",
    "WA_falls_data_final['Longitude'] = 122.805176\n",
    "WA_falls_data_final['Latitude'] = -25.760321\n",
    "SA_falls_data_final['Longitude'] = 136.209152\n",
    "SA_falls_data_final['Latitude'] = -30.000233\n",
    "QLD_falls_data_final['Longitude'] = 142.702789\n",
    "QLD_falls_data_final['Latitude'] = -20.917574\n",
    "TAS_falls_data_final['Longitude'] = 146.315918\n",
    "TAS_falls_data_final['Latitude'] = -41.640079"
   ]
  },
  {
   "cell_type": "code",
   "execution_count": null,
   "metadata": {},
   "outputs": [],
   "source": [
    "TAS_falls_data_final"
   ]
  },
  {
   "cell_type": "code",
   "execution_count": null,
   "metadata": {},
   "outputs": [],
   "source": [
    "# Concatenating dfs\n",
    "AUS_falls_data_final = pd.concat([NT_falls_data_final,ACT_falls_data_final,NSW_falls_data_final,\n",
    "                                 VIC_falls_data_final,SA_falls_data_final,WA_falls_data_final,\n",
    "                                 QLD_falls_data_final,TAS_falls_data_final])"
   ]
  },
  {
   "cell_type": "code",
   "execution_count": null,
   "metadata": {},
   "outputs": [],
   "source": [
    "# Reseting the index\n",
    "AUS_falls_data_final.reset_index(inplace=True)"
   ]
  },
  {
   "cell_type": "code",
   "execution_count": null,
   "metadata": {},
   "outputs": [],
   "source": [
    "AUS_falls_data_final"
   ]
  },
  {
   "cell_type": "code",
   "execution_count": null,
   "metadata": {},
   "outputs": [],
   "source": [
    "# Dropping the old index\n",
    "AUS_falls_data_final.drop(AUS_falls_data_final.columns[0], axis=1,inplace=True)"
   ]
  },
  {
   "cell_type": "code",
   "execution_count": null,
   "metadata": {},
   "outputs": [],
   "source": []
  },
  {
   "cell_type": "code",
   "execution_count": null,
   "metadata": {},
   "outputs": [],
   "source": []
  },
  {
   "cell_type": "code",
   "execution_count": null,
   "metadata": {},
   "outputs": [],
   "source": [
    "# Reading the excel file\n",
    "Falls_due_to_external_causes = pd.ExcelFile('Falls due to External causes.xlsx')"
   ]
  },
  {
   "cell_type": "code",
   "execution_count": null,
   "metadata": {},
   "outputs": [],
   "source": [
    "# Parsing the excel file\n",
    "Falls_due_to_external_causes_df1 = Falls_due_to_external_causes.parse('Table 4.1', skiprows=2, index_col=None)"
   ]
  },
  {
   "cell_type": "code",
   "execution_count": null,
   "metadata": {
    "scrolled": true
   },
   "outputs": [],
   "source": [
    "Falls_due_to_external_causes_df1"
   ]
  },
  {
   "cell_type": "code",
   "execution_count": null,
   "metadata": {},
   "outputs": [],
   "source": [
    "# Renaming columns\n",
    "Falls_due_to_external_causes_df1.rename(columns={'Unnamed: 0':'Year','Cases':'Falls_from_slipping,tripping_and_stumbling_cases',\n",
    "                                                'Age-standardised rate':'Falls_from_slipping,tripping_and_stumbling_rate',\n",
    "                                                'Cases.1':'Other_fall_on_same_level_cases',\n",
    "                                                'Age-standardised rate.1':'Other_fall_on_same_level_cases',\n",
    "                                                'Cases.2':'All_other_causes_fall_cases',\n",
    "                                                'Age-standardised rate.2':'All_other_causes_fall_rate',\n",
    "                                                'Cases.3':'Unspecified_fall_cases',\n",
    "                                                'Age-standardised rate.3':'Unspecified_fall_rate'}, inplace=True)"
   ]
  },
  {
   "cell_type": "code",
   "execution_count": null,
   "metadata": {},
   "outputs": [],
   "source": [
    "# Extracting rows to a new df\n",
    "Falls_due_to_external_causes_df1_males = Falls_due_to_external_causes_df1.iloc[1:14]"
   ]
  },
  {
   "cell_type": "code",
   "execution_count": null,
   "metadata": {
    "scrolled": true
   },
   "outputs": [],
   "source": [
    "Falls_due_to_external_causes_df1_males"
   ]
  },
  {
   "cell_type": "code",
   "execution_count": null,
   "metadata": {},
   "outputs": [],
   "source": [
    "# Creating a new column and assigning values\n",
    "Falls_due_to_external_causes_df1_males['Gender'] = 'Male'"
   ]
  },
  {
   "cell_type": "code",
   "execution_count": null,
   "metadata": {},
   "outputs": [],
   "source": [
    "# Extracting rows to a new df\n",
    "Falls_due_to_external_causes_df1_females = Falls_due_to_external_causes_df1.iloc[15:28]"
   ]
  },
  {
   "cell_type": "code",
   "execution_count": null,
   "metadata": {
    "scrolled": true
   },
   "outputs": [],
   "source": [
    "Falls_due_to_external_causes_df1_females"
   ]
  },
  {
   "cell_type": "code",
   "execution_count": null,
   "metadata": {},
   "outputs": [],
   "source": [
    "# Creating a new column and assigning values\n",
    "Falls_due_to_external_causes_df1_females['Gender'] = 'Female'"
   ]
  },
  {
   "cell_type": "code",
   "execution_count": null,
   "metadata": {},
   "outputs": [],
   "source": [
    "# Extracting rows to a new df\n",
    "Falls_due_to_external_causes_df1_persons = Falls_due_to_external_causes_df1.iloc[29:42]"
   ]
  },
  {
   "cell_type": "code",
   "execution_count": null,
   "metadata": {},
   "outputs": [],
   "source": [
    "Falls_due_to_external_causes_df1_persons"
   ]
  },
  {
   "cell_type": "code",
   "execution_count": null,
   "metadata": {},
   "outputs": [],
   "source": [
    "# Creating a new column and assigning values\n",
    "Falls_due_to_external_causes_df1_persons['Gender'] = 'Persons'"
   ]
  },
  {
   "cell_type": "code",
   "execution_count": null,
   "metadata": {},
   "outputs": [],
   "source": [
    "# concatenating the dfs\n",
    "Falls_due_to_external_causes_final = pd.concat([Falls_due_to_external_causes_df1_males,Falls_due_to_external_causes_df1_females,\n",
    "                                               Falls_due_to_external_causes_df1_persons]).reset_index()"
   ]
  },
  {
   "cell_type": "code",
   "execution_count": null,
   "metadata": {
    "scrolled": true
   },
   "outputs": [],
   "source": [
    "Falls_due_to_external_causes_final"
   ]
  },
  {
   "cell_type": "code",
   "execution_count": null,
   "metadata": {},
   "outputs": [],
   "source": [
    "# Dropping the old index\n",
    "Falls_due_to_external_causes_final.drop(Falls_due_to_external_causes_final.columns[0], axis=1,inplace=True)"
   ]
  },
  {
   "cell_type": "code",
   "execution_count": null,
   "metadata": {},
   "outputs": [],
   "source": []
  },
  {
   "cell_type": "code",
   "execution_count": null,
   "metadata": {},
   "outputs": [],
   "source": [
    "# Reading the excel file\n",
    "Type_of_injuries_by_falls = pd.ExcelFile('Type of injury due to falls.xlsx')"
   ]
  },
  {
   "cell_type": "code",
   "execution_count": null,
   "metadata": {},
   "outputs": [],
   "source": [
    "# Parsing the excel tabs\n",
    "Type_of_injuries_by_falls_df1 = Type_of_injuries_by_falls.parse('Table 3.1', skiprows=2, index_col=None)"
   ]
  },
  {
   "cell_type": "code",
   "execution_count": null,
   "metadata": {
    "scrolled": true
   },
   "outputs": [],
   "source": [
    "Type_of_injuries_by_falls_df1"
   ]
  },
  {
   "cell_type": "code",
   "execution_count": null,
   "metadata": {},
   "outputs": [],
   "source": [
    "# Renaming the columns\n",
    "Type_of_injuries_by_falls_df1.rename(columns={'Unnamed: 0':'Year','Cases':'Head_injury_cases',\n",
    "                                                'Age-standardised rate':'Head_injury_rate',\n",
    "                                                'Cases.1':'Abdomen,lower_back,lumbar_spine_and_pelvis_cases',\n",
    "                                                'Age-standardised rate.1':'Abdomen,lower_back,lumbar_spine_and_pelvis_rate',\n",
    "                                                'Cases.2':'Hip_and_thigh_cases',\n",
    "                                                'Age-standardised rate.2':'Hip_and_thigh_rate',\n",
    "                                                'Cases.3':'Knee_and_lower_leg_cases',\n",
    "                                                'Age-standardised rate.3':'Knee_and_lower_leg_rate'}, inplace=True)"
   ]
  },
  {
   "cell_type": "code",
   "execution_count": null,
   "metadata": {},
   "outputs": [],
   "source": [
    "# Extracting rows to a new df\n",
    "Type_of_injuries_by_falls_df1_males = Type_of_injuries_by_falls_df1.iloc[1:14]"
   ]
  },
  {
   "cell_type": "code",
   "execution_count": null,
   "metadata": {},
   "outputs": [],
   "source": [
    "Type_of_injuries_by_falls_df1_males"
   ]
  },
  {
   "cell_type": "code",
   "execution_count": null,
   "metadata": {},
   "outputs": [],
   "source": [
    "# Adding a new column and assigning values\n",
    "Type_of_injuries_by_falls_df1_males['Gender'] = 'Male'"
   ]
  },
  {
   "cell_type": "code",
   "execution_count": null,
   "metadata": {},
   "outputs": [],
   "source": [
    "# Extracting rows to a new df\n",
    "Type_of_injuries_by_falls_df1_females = Type_of_injuries_by_falls_df1.iloc[15:28]"
   ]
  },
  {
   "cell_type": "code",
   "execution_count": null,
   "metadata": {
    "scrolled": true
   },
   "outputs": [],
   "source": [
    "Type_of_injuries_by_falls_df1_females"
   ]
  },
  {
   "cell_type": "code",
   "execution_count": null,
   "metadata": {},
   "outputs": [],
   "source": [
    "# Adding a new column and assigning values\n",
    "Type_of_injuries_by_falls_df1_females['Gender'] = 'Female'"
   ]
  },
  {
   "cell_type": "code",
   "execution_count": null,
   "metadata": {},
   "outputs": [],
   "source": [
    "# Concatenating the files\n",
    "Type_of_injuries_by_falls_final = pd.concat([Type_of_injuries_by_falls_df1_males,Type_of_injuries_by_falls_df1_females]).reset_index()\n"
   ]
  },
  {
   "cell_type": "code",
   "execution_count": null,
   "metadata": {
    "scrolled": true
   },
   "outputs": [],
   "source": [
    "Type_of_injuries_by_falls_final"
   ]
  },
  {
   "cell_type": "code",
   "execution_count": null,
   "metadata": {},
   "outputs": [],
   "source": [
    "# Dropping the old index\n",
    "Type_of_injuries_by_falls_final.drop(Type_of_injuries_by_falls_final.columns[0], axis=1,inplace=True)"
   ]
  },
  {
   "cell_type": "code",
   "execution_count": null,
   "metadata": {},
   "outputs": [],
   "source": []
  },
  {
   "cell_type": "code",
   "execution_count": null,
   "metadata": {},
   "outputs": [],
   "source": []
  },
  {
   "cell_type": "code",
   "execution_count": null,
   "metadata": {},
   "outputs": [],
   "source": []
  },
  {
   "cell_type": "code",
   "execution_count": null,
   "metadata": {},
   "outputs": [],
   "source": [
    "# Parsing a new excel tab to df\n",
    "Type_of_injuries_by_falls_df2 = Type_of_injuries_by_falls.parse('Table 3.2', skiprows=1, index_col=None)"
   ]
  },
  {
   "cell_type": "code",
   "execution_count": null,
   "metadata": {
    "scrolled": true
   },
   "outputs": [],
   "source": [
    "Type_of_injuries_by_falls_df2"
   ]
  },
  {
   "cell_type": "code",
   "execution_count": null,
   "metadata": {},
   "outputs": [],
   "source": [
    "Renaming the columns\n",
    "Type_of_injuries_by_falls_df2.rename(columns={'Unnamed: 0':'Year'},inplace=True)"
   ]
  },
  {
   "cell_type": "code",
   "execution_count": null,
   "metadata": {},
   "outputs": [],
   "source": [
    "# Extracting rows to a new df\n",
    "Type_of_injuries_by_falls_df2_males = Type_of_injuries_by_falls_df2.iloc[1:14]"
   ]
  },
  {
   "cell_type": "code",
   "execution_count": null,
   "metadata": {},
   "outputs": [],
   "source": [
    "Type_of_injuries_by_falls_df2_males"
   ]
  },
  {
   "cell_type": "code",
   "execution_count": null,
   "metadata": {},
   "outputs": [],
   "source": [
    "# Adding a new column and assigning values\n",
    "Type_of_injuries_by_falls_df2_males['Gender'] = 'Male'"
   ]
  },
  {
   "cell_type": "code",
   "execution_count": null,
   "metadata": {},
   "outputs": [],
   "source": [
    "# Extracting rows to a new df\n",
    "Type_of_injuries_by_falls_df2_females = Type_of_injuries_by_falls_df2.iloc[15:28]"
   ]
  },
  {
   "cell_type": "code",
   "execution_count": null,
   "metadata": {},
   "outputs": [],
   "source": [
    "Type_of_injuries_by_falls_df2_females"
   ]
  },
  {
   "cell_type": "code",
   "execution_count": null,
   "metadata": {},
   "outputs": [],
   "source": [
    "# Adding a new column and assigning values\n",
    "Type_of_injuries_by_falls_df2_females['Gender'] = 'Female'"
   ]
  },
  {
   "cell_type": "code",
   "execution_count": null,
   "metadata": {},
   "outputs": [],
   "source": [
    "# Extracting rows to a new df\n",
    "Type_of_injuries_by_falls_df2_persons = Type_of_injuries_by_falls_df2.iloc[29:42]"
   ]
  },
  {
   "cell_type": "code",
   "execution_count": null,
   "metadata": {},
   "outputs": [],
   "source": [
    "Type_of_injuries_by_falls_df2_persons"
   ]
  },
  {
   "cell_type": "code",
   "execution_count": null,
   "metadata": {},
   "outputs": [],
   "source": [
    "# Adding a new column and assigning values\n",
    "Type_of_injuries_by_falls_df2_persons['Gender'] = 'Persons'"
   ]
  },
  {
   "cell_type": "code",
   "execution_count": null,
   "metadata": {},
   "outputs": [],
   "source": [
    "# Concatenating the dfs\n",
    "head_injury_agewise_final = pd.concat([Type_of_injuries_by_falls_df2_males,Type_of_injuries_by_falls_df2_females,\n",
    "                                      Type_of_injuries_by_falls_df2_persons]).reset_index()"
   ]
  },
  {
   "cell_type": "code",
   "execution_count": null,
   "metadata": {},
   "outputs": [],
   "source": [
    "head_injury_agewise_final.drop(head_injury_agewise_final.columns[0],axis=1,inplace=True)"
   ]
  },
  {
   "cell_type": "code",
   "execution_count": null,
   "metadata": {
    "scrolled": true
   },
   "outputs": [],
   "source": [
    "head_injury_agewise_final"
   ]
  },
  {
   "cell_type": "code",
   "execution_count": null,
   "metadata": {},
   "outputs": [],
   "source": []
  },
  {
   "cell_type": "code",
   "execution_count": null,
   "metadata": {},
   "outputs": [],
   "source": [
    "# Parsing the excel file\n",
    "hip_fracture_cases_df1 = Type_of_injuries_by_falls.parse('Table 3.6', skiprows=1, index_col=None)"
   ]
  },
  {
   "cell_type": "code",
   "execution_count": null,
   "metadata": {
    "scrolled": true
   },
   "outputs": [],
   "source": [
    "hip_fracture_cases_df1"
   ]
  },
  {
   "cell_type": "code",
   "execution_count": null,
   "metadata": {},
   "outputs": [],
   "source": [
    "# Renaming the columns\n",
    "hip_fracture_cases_df1.rename(columns={'Unnamed: 0':'Year'},inplace=True)"
   ]
  },
  {
   "cell_type": "code",
   "execution_count": null,
   "metadata": {},
   "outputs": [],
   "source": [
    "# Extracting rows to a new df\n",
    "hip_fracture_cases_df1_males = hip_fracture_cases_df1.iloc[1:14]"
   ]
  },
  {
   "cell_type": "code",
   "execution_count": null,
   "metadata": {},
   "outputs": [],
   "source": [
    "hip_fracture_cases_df1_males"
   ]
  },
  {
   "cell_type": "code",
   "execution_count": null,
   "metadata": {},
   "outputs": [],
   "source": [
    "# Adding a new column and assigning values\n",
    "hip_fracture_cases_df1_males['Gender'] = 'Male'"
   ]
  },
  {
   "cell_type": "code",
   "execution_count": null,
   "metadata": {},
   "outputs": [],
   "source": [
    "# Extracting rows to new df\n",
    "hip_fracture_cases_df1_females = hip_fracture_cases_df1.iloc[15:28]"
   ]
  },
  {
   "cell_type": "code",
   "execution_count": null,
   "metadata": {},
   "outputs": [],
   "source": [
    "hip_fracture_cases_df1_females"
   ]
  },
  {
   "cell_type": "code",
   "execution_count": null,
   "metadata": {},
   "outputs": [],
   "source": [
    "# Adding a new column and assigning values\n",
    "hip_fracture_cases_df1_females['Gender'] = 'Female'"
   ]
  },
  {
   "cell_type": "code",
   "execution_count": null,
   "metadata": {},
   "outputs": [],
   "source": [
    "# Extracting rows to new df\n",
    "hip_fracture_cases_df1_person = hip_fracture_cases_df1.iloc[29:42]"
   ]
  },
  {
   "cell_type": "code",
   "execution_count": null,
   "metadata": {},
   "outputs": [],
   "source": [
    "hip_fracture_cases_df1_person"
   ]
  },
  {
   "cell_type": "code",
   "execution_count": null,
   "metadata": {},
   "outputs": [],
   "source": [
    "# Adding a new column and assigning values\n",
    "hip_fracture_cases_df1_person['Gender'] = 'Persons'"
   ]
  },
  {
   "cell_type": "code",
   "execution_count": null,
   "metadata": {},
   "outputs": [],
   "source": [
    "# concatenating dfs\n",
    "hip_fracture_cases_final = pd.concat([hip_fracture_cases_df1_person,hip_fracture_cases_df1_females,\n",
    "                                     hip_fracture_cases_df1_males]).reset_index()"
   ]
  },
  {
   "cell_type": "code",
   "execution_count": null,
   "metadata": {},
   "outputs": [],
   "source": [
    "hip_fracture_cases_final.head()"
   ]
  },
  {
   "cell_type": "code",
   "execution_count": null,
   "metadata": {},
   "outputs": [],
   "source": [
    "hip_fracture_cases_final.drop(hip_fracture_cases_final.columns[0],axis=1,inplace=True)"
   ]
  },
  {
   "cell_type": "code",
   "execution_count": null,
   "metadata": {},
   "outputs": [],
   "source": []
  },
  {
   "cell_type": "code",
   "execution_count": null,
   "metadata": {},
   "outputs": [],
   "source": []
  },
  {
   "cell_type": "code",
   "execution_count": null,
   "metadata": {},
   "outputs": [],
   "source": [
    "# Exporting df as csv files\n",
    "falls_injury_by_age_sex_final.to_csv('falls_injury_by_age_sex_final.csv')"
   ]
  },
  {
   "cell_type": "code",
   "execution_count": null,
   "metadata": {},
   "outputs": [],
   "source": [
    "# Exporting df as csv files\n",
    "falls_injury_by_residence_final.to_csv('falls_injury_by_residence_final.csv')"
   ]
  },
  {
   "cell_type": "code",
   "execution_count": null,
   "metadata": {},
   "outputs": [],
   "source": [
    "# Exporting df as csv files\n",
    "falls_injury_by_indegenous_df1.to_csv('falls_injury_by_indegenous_df1.csv')"
   ]
  },
  {
   "cell_type": "code",
   "execution_count": null,
   "metadata": {},
   "outputs": [],
   "source": [
    "# Exporting df as csv files\n",
    "head_falls_injury_final.to_csv('head_falls_injury_final.csv')"
   ]
  },
  {
   "cell_type": "code",
   "execution_count": null,
   "metadata": {},
   "outputs": [],
   "source": [
    "# Exporting df as csv files\n",
    "NSW_falls_data_final.to_csv('NSW_falls_data_final.csv')"
   ]
  },
  {
   "cell_type": "code",
   "execution_count": null,
   "metadata": {},
   "outputs": [],
   "source": [
    "# Exporting df as csv files\n",
    "VIC_falls_data_final.to_csv('VIC_falls_data_final.csv')"
   ]
  },
  {
   "cell_type": "code",
   "execution_count": null,
   "metadata": {},
   "outputs": [],
   "source": [
    "# Exporting df as csv files\n",
    "TAS_falls_data_final.to_csv('TAS_falls_data_final.csv')"
   ]
  },
  {
   "cell_type": "code",
   "execution_count": null,
   "metadata": {},
   "outputs": [],
   "source": [
    "# Exporting df as csv files\n",
    "QLD_falls_data_final.to_csv('QLD_falls_data_final.csv')"
   ]
  },
  {
   "cell_type": "code",
   "execution_count": null,
   "metadata": {},
   "outputs": [],
   "source": [
    "# Exporting df as csv files\n",
    "WA_falls_data_final.to_csv('WA_falls_data_final.csv')"
   ]
  },
  {
   "cell_type": "code",
   "execution_count": null,
   "metadata": {},
   "outputs": [],
   "source": [
    "# Exporting df as csv files\n",
    "SA_falls_data_final.to_csv('SA_falls_data_final.csv')"
   ]
  },
  {
   "cell_type": "code",
   "execution_count": null,
   "metadata": {},
   "outputs": [],
   "source": [
    "# Exporting df as csv files\n",
    "Falls_due_to_external_causes_final.to_csv('Falls_due_to_external_causes_final.csv')"
   ]
  },
  {
   "cell_type": "code",
   "execution_count": null,
   "metadata": {},
   "outputs": [],
   "source": [
    "# Exporting df as csv files\n",
    "Type_of_injuries_by_falls_final.to_csv('Type_of_injuries_by_falls_final.csv')"
   ]
  },
  {
   "cell_type": "code",
   "execution_count": null,
   "metadata": {},
   "outputs": [],
   "source": [
    "# Exporting df as csv files\n",
    "head_injury_agewise_final.to_csv('head_injury_agewise_final.csv')"
   ]
  },
  {
   "cell_type": "code",
   "execution_count": null,
   "metadata": {},
   "outputs": [],
   "source": [
    "# Exporting df as csv files\n",
    "hip_fracture_cases_final.to_csv('hip_fracture_cases_final.csv')"
   ]
  },
  {
   "cell_type": "code",
   "execution_count": null,
   "metadata": {},
   "outputs": [],
   "source": [
    "# Exporting df as csv files\n",
    "AUS_falls_data_final.to_csv('AUS_falls_data_final.csv')"
   ]
  },
  {
   "cell_type": "code",
   "execution_count": null,
   "metadata": {},
   "outputs": [],
   "source": []
  },
  {
   "cell_type": "code",
   "execution_count": null,
   "metadata": {},
   "outputs": [],
   "source": []
  },
  {
   "cell_type": "code",
   "execution_count": 10,
   "metadata": {},
   "outputs": [
    {
     "data": {
      "text/plain": [
       "'C:\\\\Users\\\\61470\\\\Downloads\\\\IE\\\\Data_iteration 2'"
      ]
     },
     "execution_count": 10,
     "metadata": {},
     "output_type": "execute_result"
    }
   ],
   "source": [
    "os.getcwd()"
   ]
  },
  {
   "cell_type": "code",
   "execution_count": 9,
   "metadata": {},
   "outputs": [],
   "source": [
    "os.chdir('C:\\\\Users\\\\61470\\\\Downloads\\\\IE\\\\Data_iteration 2')"
   ]
  },
  {
   "cell_type": "code",
   "execution_count": 12,
   "metadata": {},
   "outputs": [],
   "source": [
    "# Reading the excel file\n",
    "hospital_care_data = pd.ExcelFile('Additional episodes of hospital care due to falls by older people.xlsx')"
   ]
  },
  {
   "cell_type": "code",
   "execution_count": 17,
   "metadata": {},
   "outputs": [],
   "source": [
    "# Parsing the excel tab to a df\n",
    "hospital_care_days_df1 = hospital_care_data.parse('Table 6.8', skiprows=3, index_col=None)"
   ]
  },
  {
   "cell_type": "code",
   "execution_count": 20,
   "metadata": {},
   "outputs": [
    {
     "data": {
      "text/html": [
       "<div>\n",
       "<style scoped>\n",
       "    .dataframe tbody tr th:only-of-type {\n",
       "        vertical-align: middle;\n",
       "    }\n",
       "\n",
       "    .dataframe tbody tr th {\n",
       "        vertical-align: top;\n",
       "    }\n",
       "\n",
       "    .dataframe thead th {\n",
       "        text-align: right;\n",
       "    }\n",
       "</style>\n",
       "<table border=\"1\" class=\"dataframe\">\n",
       "  <thead>\n",
       "    <tr style=\"text-align: right;\">\n",
       "      <th></th>\n",
       "      <th>Year</th>\n",
       "      <th>Fall injury case days</th>\n",
       "      <th>Inward transfer days</th>\n",
       "      <th>Total sum</th>\n",
       "      <th>Unnamed: 4</th>\n",
       "      <th>Unnamed: 5</th>\n",
       "      <th>Unnamed: 6</th>\n",
       "      <th>Unnamed: 7</th>\n",
       "      <th>Unnamed: 8</th>\n",
       "    </tr>\n",
       "  </thead>\n",
       "  <tbody>\n",
       "    <tr>\n",
       "      <td>0</td>\n",
       "      <td>2002–03</td>\n",
       "      <td>457518.0</td>\n",
       "      <td>82917.0</td>\n",
       "      <td>296607.0</td>\n",
       "      <td>837042.0</td>\n",
       "      <td>NaN</td>\n",
       "      <td>54.658906</td>\n",
       "      <td>9.905955</td>\n",
       "      <td>35.435139</td>\n",
       "    </tr>\n",
       "    <tr>\n",
       "      <td>1</td>\n",
       "      <td>2003–04</td>\n",
       "      <td>487505.0</td>\n",
       "      <td>97273.0</td>\n",
       "      <td>340946.0</td>\n",
       "      <td>925724.0</td>\n",
       "      <td>NaN</td>\n",
       "      <td>52.662025</td>\n",
       "      <td>10.507776</td>\n",
       "      <td>36.830200</td>\n",
       "    </tr>\n",
       "    <tr>\n",
       "      <td>2</td>\n",
       "      <td>2004–05</td>\n",
       "      <td>498649.0</td>\n",
       "      <td>95328.0</td>\n",
       "      <td>457590.0</td>\n",
       "      <td>1051567.0</td>\n",
       "      <td>NaN</td>\n",
       "      <td>47.419613</td>\n",
       "      <td>9.065328</td>\n",
       "      <td>43.515059</td>\n",
       "    </tr>\n",
       "    <tr>\n",
       "      <td>3</td>\n",
       "      <td>2005–06</td>\n",
       "      <td>515056.0</td>\n",
       "      <td>106230.0</td>\n",
       "      <td>466301.0</td>\n",
       "      <td>1087587.0</td>\n",
       "      <td>NaN</td>\n",
       "      <td>47.357683</td>\n",
       "      <td>9.767494</td>\n",
       "      <td>42.874823</td>\n",
       "    </tr>\n",
       "    <tr>\n",
       "      <td>4</td>\n",
       "      <td>2006–07</td>\n",
       "      <td>540885.0</td>\n",
       "      <td>119406.0</td>\n",
       "      <td>510871.0</td>\n",
       "      <td>1171162.0</td>\n",
       "      <td>NaN</td>\n",
       "      <td>46.183619</td>\n",
       "      <td>10.195515</td>\n",
       "      <td>43.620865</td>\n",
       "    </tr>\n",
       "  </tbody>\n",
       "</table>\n",
       "</div>"
      ],
      "text/plain": [
       "      Year  Fall injury case days  Inward transfer days  Total sum  \\\n",
       "0  2002–03               457518.0               82917.0   296607.0   \n",
       "1  2003–04               487505.0               97273.0   340946.0   \n",
       "2  2004–05               498649.0               95328.0   457590.0   \n",
       "3  2005–06               515056.0              106230.0   466301.0   \n",
       "4  2006–07               540885.0              119406.0   510871.0   \n",
       "\n",
       "   Unnamed: 4  Unnamed: 5  Unnamed: 6  Unnamed: 7  Unnamed: 8  \n",
       "0    837042.0         NaN   54.658906    9.905955   35.435139  \n",
       "1    925724.0         NaN   52.662025   10.507776   36.830200  \n",
       "2   1051567.0         NaN   47.419613    9.065328   43.515059  \n",
       "3   1087587.0         NaN   47.357683    9.767494   42.874823  \n",
       "4   1171162.0         NaN   46.183619   10.195515   43.620865  "
      ]
     },
     "execution_count": 20,
     "metadata": {},
     "output_type": "execute_result"
    }
   ],
   "source": [
    "hospital_care_days_df1.head()"
   ]
  },
  {
   "cell_type": "code",
   "execution_count": 19,
   "metadata": {},
   "outputs": [],
   "source": [
    "# Renaming column names\n",
    "hospital_care_days_df1.rename(columns={'Persons':'Year','Unnamed: 1':'Fall injury case days',\n",
    "                                      'Unnamed: 2':'Inward transfer days','Unnamed: 3':'Rehabilitation care days',\n",
    "                                      'Unnamed: 3':'Total sum'}, inplace=True)"
   ]
  },
  {
   "cell_type": "code",
   "execution_count": 21,
   "metadata": {},
   "outputs": [],
   "source": [
    "# Dropping the unwanted columns\n",
    "hospital_care_days_final = hospital_care_days_df1.drop(hospital_care_days_df1.columns[4:9], axis=1)"
   ]
  },
  {
   "cell_type": "code",
   "execution_count": 22,
   "metadata": {},
   "outputs": [
    {
     "data": {
      "text/html": [
       "<div>\n",
       "<style scoped>\n",
       "    .dataframe tbody tr th:only-of-type {\n",
       "        vertical-align: middle;\n",
       "    }\n",
       "\n",
       "    .dataframe tbody tr th {\n",
       "        vertical-align: top;\n",
       "    }\n",
       "\n",
       "    .dataframe thead th {\n",
       "        text-align: right;\n",
       "    }\n",
       "</style>\n",
       "<table border=\"1\" class=\"dataframe\">\n",
       "  <thead>\n",
       "    <tr style=\"text-align: right;\">\n",
       "      <th></th>\n",
       "      <th>Year</th>\n",
       "      <th>Fall injury case days</th>\n",
       "      <th>Inward transfer days</th>\n",
       "      <th>Total sum</th>\n",
       "    </tr>\n",
       "  </thead>\n",
       "  <tbody>\n",
       "    <tr>\n",
       "      <td>0</td>\n",
       "      <td>2002–03</td>\n",
       "      <td>457518.0</td>\n",
       "      <td>82917.0</td>\n",
       "      <td>296607.0</td>\n",
       "    </tr>\n",
       "    <tr>\n",
       "      <td>1</td>\n",
       "      <td>2003–04</td>\n",
       "      <td>487505.0</td>\n",
       "      <td>97273.0</td>\n",
       "      <td>340946.0</td>\n",
       "    </tr>\n",
       "    <tr>\n",
       "      <td>2</td>\n",
       "      <td>2004–05</td>\n",
       "      <td>498649.0</td>\n",
       "      <td>95328.0</td>\n",
       "      <td>457590.0</td>\n",
       "    </tr>\n",
       "    <tr>\n",
       "      <td>3</td>\n",
       "      <td>2005–06</td>\n",
       "      <td>515056.0</td>\n",
       "      <td>106230.0</td>\n",
       "      <td>466301.0</td>\n",
       "    </tr>\n",
       "    <tr>\n",
       "      <td>4</td>\n",
       "      <td>2006–07</td>\n",
       "      <td>540885.0</td>\n",
       "      <td>119406.0</td>\n",
       "      <td>510871.0</td>\n",
       "    </tr>\n",
       "  </tbody>\n",
       "</table>\n",
       "</div>"
      ],
      "text/plain": [
       "      Year  Fall injury case days  Inward transfer days  Total sum\n",
       "0  2002–03               457518.0               82917.0   296607.0\n",
       "1  2003–04               487505.0               97273.0   340946.0\n",
       "2  2004–05               498649.0               95328.0   457590.0\n",
       "3  2005–06               515056.0              106230.0   466301.0\n",
       "4  2006–07               540885.0              119406.0   510871.0"
      ]
     },
     "execution_count": 22,
     "metadata": {},
     "output_type": "execute_result"
    }
   ],
   "source": [
    "hospital_care_days_final.head()"
   ]
  },
  {
   "cell_type": "code",
   "execution_count": 4,
   "metadata": {},
   "outputs": [
    {
     "data": {
      "text/plain": [
       "'C:\\\\Users\\\\61470\\\\Downloads\\\\IE\\\\Wrangled Files'"
      ]
     },
     "execution_count": 4,
     "metadata": {},
     "output_type": "execute_result"
    }
   ],
   "source": [
    "os.getcwd()"
   ]
  },
  {
   "cell_type": "code",
   "execution_count": 3,
   "metadata": {},
   "outputs": [],
   "source": [
    "os.chdir('C:\\\\Users\\\\61470\\\\Downloads\\\\IE\\\\Wrangled Files')"
   ]
  },
  {
   "cell_type": "code",
   "execution_count": 5,
   "metadata": {},
   "outputs": [],
   "source": [
    "# Reading csv file\n",
    "df_falls_injury_by_age_sex_2 = pd.read_csv('falls_injury_by_age_sex_final.csv')"
   ]
  },
  {
   "cell_type": "code",
   "execution_count": 8,
   "metadata": {},
   "outputs": [
    {
     "data": {
      "text/html": [
       "<div>\n",
       "<style scoped>\n",
       "    .dataframe tbody tr th:only-of-type {\n",
       "        vertical-align: middle;\n",
       "    }\n",
       "\n",
       "    .dataframe tbody tr th {\n",
       "        vertical-align: top;\n",
       "    }\n",
       "\n",
       "    .dataframe thead th {\n",
       "        text-align: right;\n",
       "    }\n",
       "</style>\n",
       "<table border=\"1\" class=\"dataframe\">\n",
       "  <thead>\n",
       "    <tr style=\"text-align: right;\">\n",
       "      <th></th>\n",
       "      <th>Year</th>\n",
       "      <th>65–69</th>\n",
       "      <th>65–69_rate</th>\n",
       "      <th>70–74</th>\n",
       "      <th>70–74_rate</th>\n",
       "      <th>75–79</th>\n",
       "      <th>75–79_rate</th>\n",
       "      <th>80–84</th>\n",
       "      <th>80–84_rate</th>\n",
       "      <th>85–89</th>\n",
       "      <th>85–89_rate</th>\n",
       "      <th>90–95</th>\n",
       "      <th>90–95_rate</th>\n",
       "      <th>95+</th>\n",
       "      <th>95+_rate</th>\n",
       "      <th>Total</th>\n",
       "      <th>Gender</th>\n",
       "    </tr>\n",
       "  </thead>\n",
       "  <tbody>\n",
       "    <tr>\n",
       "      <td>0</td>\n",
       "      <td>1999–00</td>\n",
       "      <td>1864</td>\n",
       "      <td>563.383687</td>\n",
       "      <td>2352</td>\n",
       "      <td>796.613040</td>\n",
       "      <td>2974</td>\n",
       "      <td>1386.086008</td>\n",
       "      <td>2770</td>\n",
       "      <td>2407.042119</td>\n",
       "      <td>2656</td>\n",
       "      <td>4836.125273</td>\n",
       "      <td>912</td>\n",
       "      <td>5697.507341</td>\n",
       "      <td>215</td>\n",
       "      <td>5689.335803</td>\n",
       "      <td>51328</td>\n",
       "      <td>Male</td>\n",
       "    </tr>\n",
       "    <tr>\n",
       "      <td>1</td>\n",
       "      <td>2000–01</td>\n",
       "      <td>1768</td>\n",
       "      <td>533.149988</td>\n",
       "      <td>2365</td>\n",
       "      <td>789.404292</td>\n",
       "      <td>2950</td>\n",
       "      <td>1328.792916</td>\n",
       "      <td>3065</td>\n",
       "      <td>2495.989316</td>\n",
       "      <td>2684</td>\n",
       "      <td>4648.262963</td>\n",
       "      <td>1218</td>\n",
       "      <td>7073.581509</td>\n",
       "      <td>279</td>\n",
       "      <td>6577.086280</td>\n",
       "      <td>51435</td>\n",
       "      <td>Male</td>\n",
       "    </tr>\n",
       "    <tr>\n",
       "      <td>2</td>\n",
       "      <td>2001–02</td>\n",
       "      <td>1994</td>\n",
       "      <td>591.056491</td>\n",
       "      <td>2415</td>\n",
       "      <td>801.095992</td>\n",
       "      <td>3186</td>\n",
       "      <td>1393.926401</td>\n",
       "      <td>3249</td>\n",
       "      <td>2469.633166</td>\n",
       "      <td>2677</td>\n",
       "      <td>4445.809945</td>\n",
       "      <td>1322</td>\n",
       "      <td>7207.108979</td>\n",
       "      <td>322</td>\n",
       "      <td>7253.886010</td>\n",
       "      <td>51861</td>\n",
       "      <td>Male</td>\n",
       "    </tr>\n",
       "    <tr>\n",
       "      <td>3</td>\n",
       "      <td>2002–03</td>\n",
       "      <td>1875</td>\n",
       "      <td>541.830781</td>\n",
       "      <td>2446</td>\n",
       "      <td>814.483555</td>\n",
       "      <td>3162</td>\n",
       "      <td>1348.688420</td>\n",
       "      <td>3535</td>\n",
       "      <td>2527.798634</td>\n",
       "      <td>2893</td>\n",
       "      <td>4658.240077</td>\n",
       "      <td>1402</td>\n",
       "      <td>7213.047281</td>\n",
       "      <td>339</td>\n",
       "      <td>7803.867403</td>\n",
       "      <td>51954</td>\n",
       "      <td>Male</td>\n",
       "    </tr>\n",
       "    <tr>\n",
       "      <td>4</td>\n",
       "      <td>2003–04</td>\n",
       "      <td>1903</td>\n",
       "      <td>534.685735</td>\n",
       "      <td>2537</td>\n",
       "      <td>849.995980</td>\n",
       "      <td>3367</td>\n",
       "      <td>1401.124395</td>\n",
       "      <td>3909</td>\n",
       "      <td>2640.110224</td>\n",
       "      <td>3137</td>\n",
       "      <td>4942.025332</td>\n",
       "      <td>1572</td>\n",
       "      <td>7618.493748</td>\n",
       "      <td>359</td>\n",
       "      <td>8232.056868</td>\n",
       "      <td>54651</td>\n",
       "      <td>Male</td>\n",
       "    </tr>\n",
       "  </tbody>\n",
       "</table>\n",
       "</div>"
      ],
      "text/plain": [
       "      Year  65–69  65–69_rate  70–74  70–74_rate  75–79   75–79_rate  80–84  \\\n",
       "0  1999–00   1864  563.383687   2352  796.613040   2974  1386.086008   2770   \n",
       "1  2000–01   1768  533.149988   2365  789.404292   2950  1328.792916   3065   \n",
       "2  2001–02   1994  591.056491   2415  801.095992   3186  1393.926401   3249   \n",
       "3  2002–03   1875  541.830781   2446  814.483555   3162  1348.688420   3535   \n",
       "4  2003–04   1903  534.685735   2537  849.995980   3367  1401.124395   3909   \n",
       "\n",
       "    80–84_rate  85–89   85–89_rate  90–95   90–95_rate  95+     95+_rate  \\\n",
       "0  2407.042119   2656  4836.125273    912  5697.507341  215  5689.335803   \n",
       "1  2495.989316   2684  4648.262963   1218  7073.581509  279  6577.086280   \n",
       "2  2469.633166   2677  4445.809945   1322  7207.108979  322  7253.886010   \n",
       "3  2527.798634   2893  4658.240077   1402  7213.047281  339  7803.867403   \n",
       "4  2640.110224   3137  4942.025332   1572  7618.493748  359  8232.056868   \n",
       "\n",
       "   Total Gender  \n",
       "0  51328   Male  \n",
       "1  51435   Male  \n",
       "2  51861   Male  \n",
       "3  51954   Male  \n",
       "4  54651   Male  "
      ]
     },
     "execution_count": 8,
     "metadata": {},
     "output_type": "execute_result"
    }
   ],
   "source": [
    "df_falls_injury_by_age_sex_2.head()"
   ]
  },
  {
   "cell_type": "code",
   "execution_count": 7,
   "metadata": {},
   "outputs": [],
   "source": [
    "# Dropping old index\n",
    "df_falls_injury_by_age_sex_2.drop(df_falls_injury_by_age_sex_2.columns[0], axis=1, inplace =True)"
   ]
  },
  {
   "cell_type": "code",
   "execution_count": 11,
   "metadata": {},
   "outputs": [],
   "source": [
    "#df_65 = df_falls_injury_by_age_sex_2[['Year','65–69','Gender']]"
   ]
  },
  {
   "cell_type": "code",
   "execution_count": 137,
   "metadata": {},
   "outputs": [],
   "source": [
    "# Creating new df\n",
    "df_65 = df_falls_injury_by_age_sex_2[['Year','65–69_rate','Gender']]"
   ]
  },
  {
   "cell_type": "code",
   "execution_count": 142,
   "metadata": {},
   "outputs": [
    {
     "data": {
      "text/html": [
       "<div>\n",
       "<style scoped>\n",
       "    .dataframe tbody tr th:only-of-type {\n",
       "        vertical-align: middle;\n",
       "    }\n",
       "\n",
       "    .dataframe tbody tr th {\n",
       "        vertical-align: top;\n",
       "    }\n",
       "\n",
       "    .dataframe thead th {\n",
       "        text-align: right;\n",
       "    }\n",
       "</style>\n",
       "<table border=\"1\" class=\"dataframe\">\n",
       "  <thead>\n",
       "    <tr style=\"text-align: right;\">\n",
       "      <th></th>\n",
       "      <th>Year</th>\n",
       "      <th>Rate_per_100,000</th>\n",
       "      <th>Gender</th>\n",
       "    </tr>\n",
       "  </thead>\n",
       "  <tbody>\n",
       "    <tr>\n",
       "      <td>0</td>\n",
       "      <td>1999–00</td>\n",
       "      <td>563.383687</td>\n",
       "      <td>Male</td>\n",
       "    </tr>\n",
       "    <tr>\n",
       "      <td>1</td>\n",
       "      <td>2000–01</td>\n",
       "      <td>533.149988</td>\n",
       "      <td>Male</td>\n",
       "    </tr>\n",
       "    <tr>\n",
       "      <td>2</td>\n",
       "      <td>2001–02</td>\n",
       "      <td>591.056491</td>\n",
       "      <td>Male</td>\n",
       "    </tr>\n",
       "    <tr>\n",
       "      <td>3</td>\n",
       "      <td>2002–03</td>\n",
       "      <td>541.830781</td>\n",
       "      <td>Male</td>\n",
       "    </tr>\n",
       "    <tr>\n",
       "      <td>4</td>\n",
       "      <td>2003–04</td>\n",
       "      <td>534.685735</td>\n",
       "      <td>Male</td>\n",
       "    </tr>\n",
       "  </tbody>\n",
       "</table>\n",
       "</div>"
      ],
      "text/plain": [
       "      Year  Rate_per_100,000 Gender\n",
       "0  1999–00        563.383687   Male\n",
       "1  2000–01        533.149988   Male\n",
       "2  2001–02        591.056491   Male\n",
       "3  2002–03        541.830781   Male\n",
       "4  2003–04        534.685735   Male"
      ]
     },
     "execution_count": 142,
     "metadata": {},
     "output_type": "execute_result"
    }
   ],
   "source": [
    "df_65.head()"
   ]
  },
  {
   "cell_type": "code",
   "execution_count": 141,
   "metadata": {},
   "outputs": [],
   "source": [
    "# Renaming column names\n",
    "df_65.rename(columns={'65–69_rate':'Rate_per_100,000'}, inplace=True)"
   ]
  },
  {
   "cell_type": "code",
   "execution_count": 143,
   "metadata": {},
   "outputs": [
    {
     "name": "stderr",
     "output_type": "stream",
     "text": [
      "C:\\Users\\61470\\Anaconda3\\lib\\site-packages\\ipykernel_launcher.py:1: SettingWithCopyWarning: \n",
      "A value is trying to be set on a copy of a slice from a DataFrame.\n",
      "Try using .loc[row_indexer,col_indexer] = value instead\n",
      "\n",
      "See the caveats in the documentation: http://pandas.pydata.org/pandas-docs/stable/user_guide/indexing.html#returning-a-view-versus-a-copy\n",
      "  \"\"\"Entry point for launching an IPython kernel.\n"
     ]
    }
   ],
   "source": [
    "# Assigning column names\n",
    "df_65['Age_Group'] = '65-69'"
   ]
  },
  {
   "cell_type": "code",
   "execution_count": 144,
   "metadata": {},
   "outputs": [],
   "source": [
    "# Creating new df\n",
    "df_70 = df_falls_injury_by_age_sex_2[['Year','70–74_rate','Gender']]"
   ]
  },
  {
   "cell_type": "code",
   "execution_count": 145,
   "metadata": {},
   "outputs": [
    {
     "name": "stderr",
     "output_type": "stream",
     "text": [
      "C:\\Users\\61470\\Anaconda3\\lib\\site-packages\\ipykernel_launcher.py:1: SettingWithCopyWarning: \n",
      "A value is trying to be set on a copy of a slice from a DataFrame.\n",
      "Try using .loc[row_indexer,col_indexer] = value instead\n",
      "\n",
      "See the caveats in the documentation: http://pandas.pydata.org/pandas-docs/stable/user_guide/indexing.html#returning-a-view-versus-a-copy\n",
      "  \"\"\"Entry point for launching an IPython kernel.\n"
     ]
    }
   ],
   "source": [
    "# Adding new column and assigning values\n",
    "df_70['Age_Group'] = '70-74'"
   ]
  },
  {
   "cell_type": "code",
   "execution_count": 151,
   "metadata": {},
   "outputs": [],
   "source": [
    "# Renaming column names\n",
    "df_70.rename(columns={'70–74_rate':'Rate_per_100,000'}, inplace=True)"
   ]
  },
  {
   "cell_type": "code",
   "execution_count": 152,
   "metadata": {},
   "outputs": [
    {
     "data": {
      "text/html": [
       "<div>\n",
       "<style scoped>\n",
       "    .dataframe tbody tr th:only-of-type {\n",
       "        vertical-align: middle;\n",
       "    }\n",
       "\n",
       "    .dataframe tbody tr th {\n",
       "        vertical-align: top;\n",
       "    }\n",
       "\n",
       "    .dataframe thead th {\n",
       "        text-align: right;\n",
       "    }\n",
       "</style>\n",
       "<table border=\"1\" class=\"dataframe\">\n",
       "  <thead>\n",
       "    <tr style=\"text-align: right;\">\n",
       "      <th></th>\n",
       "      <th>Year</th>\n",
       "      <th>Rate_per_100,000</th>\n",
       "      <th>Gender</th>\n",
       "      <th>Age_Group</th>\n",
       "    </tr>\n",
       "  </thead>\n",
       "  <tbody>\n",
       "    <tr>\n",
       "      <td>0</td>\n",
       "      <td>1999–00</td>\n",
       "      <td>796.613040</td>\n",
       "      <td>Male</td>\n",
       "      <td>70-74</td>\n",
       "    </tr>\n",
       "    <tr>\n",
       "      <td>1</td>\n",
       "      <td>2000–01</td>\n",
       "      <td>789.404292</td>\n",
       "      <td>Male</td>\n",
       "      <td>70-74</td>\n",
       "    </tr>\n",
       "    <tr>\n",
       "      <td>2</td>\n",
       "      <td>2001–02</td>\n",
       "      <td>801.095992</td>\n",
       "      <td>Male</td>\n",
       "      <td>70-74</td>\n",
       "    </tr>\n",
       "    <tr>\n",
       "      <td>3</td>\n",
       "      <td>2002–03</td>\n",
       "      <td>814.483555</td>\n",
       "      <td>Male</td>\n",
       "      <td>70-74</td>\n",
       "    </tr>\n",
       "    <tr>\n",
       "      <td>4</td>\n",
       "      <td>2003–04</td>\n",
       "      <td>849.995980</td>\n",
       "      <td>Male</td>\n",
       "      <td>70-74</td>\n",
       "    </tr>\n",
       "  </tbody>\n",
       "</table>\n",
       "</div>"
      ],
      "text/plain": [
       "      Year  Rate_per_100,000 Gender Age_Group\n",
       "0  1999–00        796.613040   Male     70-74\n",
       "1  2000–01        789.404292   Male     70-74\n",
       "2  2001–02        801.095992   Male     70-74\n",
       "3  2002–03        814.483555   Male     70-74\n",
       "4  2003–04        849.995980   Male     70-74"
      ]
     },
     "execution_count": 152,
     "metadata": {},
     "output_type": "execute_result"
    }
   ],
   "source": [
    "df_70.head()"
   ]
  },
  {
   "cell_type": "code",
   "execution_count": 153,
   "metadata": {},
   "outputs": [],
   "source": [
    "# Creating new df\n",
    "df_75 = df_falls_injury_by_age_sex_2[['Year','75–79_rate','Gender']]"
   ]
  },
  {
   "cell_type": "code",
   "execution_count": 154,
   "metadata": {},
   "outputs": [],
   "source": [
    "# Renaming column names\n",
    "df_75.rename(columns={'75–79_rate':'Rate_per_100,000'}, inplace=True)"
   ]
  },
  {
   "cell_type": "code",
   "execution_count": 155,
   "metadata": {},
   "outputs": [
    {
     "name": "stderr",
     "output_type": "stream",
     "text": [
      "C:\\Users\\61470\\Anaconda3\\lib\\site-packages\\ipykernel_launcher.py:1: SettingWithCopyWarning: \n",
      "A value is trying to be set on a copy of a slice from a DataFrame.\n",
      "Try using .loc[row_indexer,col_indexer] = value instead\n",
      "\n",
      "See the caveats in the documentation: http://pandas.pydata.org/pandas-docs/stable/user_guide/indexing.html#returning-a-view-versus-a-copy\n",
      "  \"\"\"Entry point for launching an IPython kernel.\n"
     ]
    }
   ],
   "source": [
    "# Adding new column and assigning values\n",
    "df_75['Age_Group'] = '75-79'"
   ]
  },
  {
   "cell_type": "code",
   "execution_count": 156,
   "metadata": {},
   "outputs": [
    {
     "data": {
      "text/html": [
       "<div>\n",
       "<style scoped>\n",
       "    .dataframe tbody tr th:only-of-type {\n",
       "        vertical-align: middle;\n",
       "    }\n",
       "\n",
       "    .dataframe tbody tr th {\n",
       "        vertical-align: top;\n",
       "    }\n",
       "\n",
       "    .dataframe thead th {\n",
       "        text-align: right;\n",
       "    }\n",
       "</style>\n",
       "<table border=\"1\" class=\"dataframe\">\n",
       "  <thead>\n",
       "    <tr style=\"text-align: right;\">\n",
       "      <th></th>\n",
       "      <th>Year</th>\n",
       "      <th>Rate_per_100,000</th>\n",
       "      <th>Gender</th>\n",
       "      <th>Age_Group</th>\n",
       "    </tr>\n",
       "  </thead>\n",
       "  <tbody>\n",
       "    <tr>\n",
       "      <td>0</td>\n",
       "      <td>1999–00</td>\n",
       "      <td>1386.086008</td>\n",
       "      <td>Male</td>\n",
       "      <td>75-79</td>\n",
       "    </tr>\n",
       "    <tr>\n",
       "      <td>1</td>\n",
       "      <td>2000–01</td>\n",
       "      <td>1328.792916</td>\n",
       "      <td>Male</td>\n",
       "      <td>75-79</td>\n",
       "    </tr>\n",
       "    <tr>\n",
       "      <td>2</td>\n",
       "      <td>2001–02</td>\n",
       "      <td>1393.926401</td>\n",
       "      <td>Male</td>\n",
       "      <td>75-79</td>\n",
       "    </tr>\n",
       "    <tr>\n",
       "      <td>3</td>\n",
       "      <td>2002–03</td>\n",
       "      <td>1348.688420</td>\n",
       "      <td>Male</td>\n",
       "      <td>75-79</td>\n",
       "    </tr>\n",
       "    <tr>\n",
       "      <td>4</td>\n",
       "      <td>2003–04</td>\n",
       "      <td>1401.124395</td>\n",
       "      <td>Male</td>\n",
       "      <td>75-79</td>\n",
       "    </tr>\n",
       "  </tbody>\n",
       "</table>\n",
       "</div>"
      ],
      "text/plain": [
       "      Year  Rate_per_100,000 Gender Age_Group\n",
       "0  1999–00       1386.086008   Male     75-79\n",
       "1  2000–01       1328.792916   Male     75-79\n",
       "2  2001–02       1393.926401   Male     75-79\n",
       "3  2002–03       1348.688420   Male     75-79\n",
       "4  2003–04       1401.124395   Male     75-79"
      ]
     },
     "execution_count": 156,
     "metadata": {},
     "output_type": "execute_result"
    }
   ],
   "source": [
    "df_75.head()"
   ]
  },
  {
   "cell_type": "code",
   "execution_count": 157,
   "metadata": {},
   "outputs": [],
   "source": [
    "# Creating new df\n",
    "df_80 = df_falls_injury_by_age_sex_2[['Year','80–84_rate','Gender']]"
   ]
  },
  {
   "cell_type": "code",
   "execution_count": 158,
   "metadata": {},
   "outputs": [],
   "source": [
    "# Renaming column\n",
    "df_80.rename(columns={'80–84_rate':'Rate_per_100,000'}, inplace=True)"
   ]
  },
  {
   "cell_type": "code",
   "execution_count": 159,
   "metadata": {},
   "outputs": [
    {
     "name": "stderr",
     "output_type": "stream",
     "text": [
      "C:\\Users\\61470\\Anaconda3\\lib\\site-packages\\ipykernel_launcher.py:1: SettingWithCopyWarning: \n",
      "A value is trying to be set on a copy of a slice from a DataFrame.\n",
      "Try using .loc[row_indexer,col_indexer] = value instead\n",
      "\n",
      "See the caveats in the documentation: http://pandas.pydata.org/pandas-docs/stable/user_guide/indexing.html#returning-a-view-versus-a-copy\n",
      "  \"\"\"Entry point for launching an IPython kernel.\n"
     ]
    }
   ],
   "source": [
    "df_80['Age_Group']= '80-84'"
   ]
  },
  {
   "cell_type": "code",
   "execution_count": 160,
   "metadata": {},
   "outputs": [
    {
     "data": {
      "text/html": [
       "<div>\n",
       "<style scoped>\n",
       "    .dataframe tbody tr th:only-of-type {\n",
       "        vertical-align: middle;\n",
       "    }\n",
       "\n",
       "    .dataframe tbody tr th {\n",
       "        vertical-align: top;\n",
       "    }\n",
       "\n",
       "    .dataframe thead th {\n",
       "        text-align: right;\n",
       "    }\n",
       "</style>\n",
       "<table border=\"1\" class=\"dataframe\">\n",
       "  <thead>\n",
       "    <tr style=\"text-align: right;\">\n",
       "      <th></th>\n",
       "      <th>Year</th>\n",
       "      <th>Rate_per_100,000</th>\n",
       "      <th>Gender</th>\n",
       "      <th>Age_Group</th>\n",
       "    </tr>\n",
       "  </thead>\n",
       "  <tbody>\n",
       "    <tr>\n",
       "      <td>0</td>\n",
       "      <td>1999–00</td>\n",
       "      <td>2407.042119</td>\n",
       "      <td>Male</td>\n",
       "      <td>80-84</td>\n",
       "    </tr>\n",
       "    <tr>\n",
       "      <td>1</td>\n",
       "      <td>2000–01</td>\n",
       "      <td>2495.989316</td>\n",
       "      <td>Male</td>\n",
       "      <td>80-84</td>\n",
       "    </tr>\n",
       "    <tr>\n",
       "      <td>2</td>\n",
       "      <td>2001–02</td>\n",
       "      <td>2469.633166</td>\n",
       "      <td>Male</td>\n",
       "      <td>80-84</td>\n",
       "    </tr>\n",
       "    <tr>\n",
       "      <td>3</td>\n",
       "      <td>2002–03</td>\n",
       "      <td>2527.798634</td>\n",
       "      <td>Male</td>\n",
       "      <td>80-84</td>\n",
       "    </tr>\n",
       "    <tr>\n",
       "      <td>4</td>\n",
       "      <td>2003–04</td>\n",
       "      <td>2640.110224</td>\n",
       "      <td>Male</td>\n",
       "      <td>80-84</td>\n",
       "    </tr>\n",
       "  </tbody>\n",
       "</table>\n",
       "</div>"
      ],
      "text/plain": [
       "      Year  Rate_per_100,000 Gender Age_Group\n",
       "0  1999–00       2407.042119   Male     80-84\n",
       "1  2000–01       2495.989316   Male     80-84\n",
       "2  2001–02       2469.633166   Male     80-84\n",
       "3  2002–03       2527.798634   Male     80-84\n",
       "4  2003–04       2640.110224   Male     80-84"
      ]
     },
     "execution_count": 160,
     "metadata": {},
     "output_type": "execute_result"
    }
   ],
   "source": [
    "df_80.head()"
   ]
  },
  {
   "cell_type": "code",
   "execution_count": 161,
   "metadata": {},
   "outputs": [],
   "source": [
    "# Creating new df\n",
    "df_85 = df_falls_injury_by_age_sex_2[['Year','85–89_rate','Gender']]"
   ]
  },
  {
   "cell_type": "code",
   "execution_count": 162,
   "metadata": {},
   "outputs": [],
   "source": [
    "# Renaming column name\n",
    "df_85.rename(columns={'85–89_rate':'Rate_per_100,000'}, inplace=True)"
   ]
  },
  {
   "cell_type": "code",
   "execution_count": 163,
   "metadata": {},
   "outputs": [
    {
     "name": "stderr",
     "output_type": "stream",
     "text": [
      "C:\\Users\\61470\\Anaconda3\\lib\\site-packages\\ipykernel_launcher.py:1: SettingWithCopyWarning: \n",
      "A value is trying to be set on a copy of a slice from a DataFrame.\n",
      "Try using .loc[row_indexer,col_indexer] = value instead\n",
      "\n",
      "See the caveats in the documentation: http://pandas.pydata.org/pandas-docs/stable/user_guide/indexing.html#returning-a-view-versus-a-copy\n",
      "  \"\"\"Entry point for launching an IPython kernel.\n"
     ]
    }
   ],
   "source": [
    "# Adding column and assigning values\n",
    "df_85['Age_Group']= '85-89'"
   ]
  },
  {
   "cell_type": "code",
   "execution_count": 164,
   "metadata": {},
   "outputs": [
    {
     "data": {
      "text/html": [
       "<div>\n",
       "<style scoped>\n",
       "    .dataframe tbody tr th:only-of-type {\n",
       "        vertical-align: middle;\n",
       "    }\n",
       "\n",
       "    .dataframe tbody tr th {\n",
       "        vertical-align: top;\n",
       "    }\n",
       "\n",
       "    .dataframe thead th {\n",
       "        text-align: right;\n",
       "    }\n",
       "</style>\n",
       "<table border=\"1\" class=\"dataframe\">\n",
       "  <thead>\n",
       "    <tr style=\"text-align: right;\">\n",
       "      <th></th>\n",
       "      <th>Year</th>\n",
       "      <th>Rate_per_100,000</th>\n",
       "      <th>Gender</th>\n",
       "      <th>Age_Group</th>\n",
       "    </tr>\n",
       "  </thead>\n",
       "  <tbody>\n",
       "    <tr>\n",
       "      <td>0</td>\n",
       "      <td>1999–00</td>\n",
       "      <td>4836.125273</td>\n",
       "      <td>Male</td>\n",
       "      <td>85-89</td>\n",
       "    </tr>\n",
       "    <tr>\n",
       "      <td>1</td>\n",
       "      <td>2000–01</td>\n",
       "      <td>4648.262963</td>\n",
       "      <td>Male</td>\n",
       "      <td>85-89</td>\n",
       "    </tr>\n",
       "    <tr>\n",
       "      <td>2</td>\n",
       "      <td>2001–02</td>\n",
       "      <td>4445.809945</td>\n",
       "      <td>Male</td>\n",
       "      <td>85-89</td>\n",
       "    </tr>\n",
       "    <tr>\n",
       "      <td>3</td>\n",
       "      <td>2002–03</td>\n",
       "      <td>4658.240077</td>\n",
       "      <td>Male</td>\n",
       "      <td>85-89</td>\n",
       "    </tr>\n",
       "    <tr>\n",
       "      <td>4</td>\n",
       "      <td>2003–04</td>\n",
       "      <td>4942.025332</td>\n",
       "      <td>Male</td>\n",
       "      <td>85-89</td>\n",
       "    </tr>\n",
       "  </tbody>\n",
       "</table>\n",
       "</div>"
      ],
      "text/plain": [
       "      Year  Rate_per_100,000 Gender Age_Group\n",
       "0  1999–00       4836.125273   Male     85-89\n",
       "1  2000–01       4648.262963   Male     85-89\n",
       "2  2001–02       4445.809945   Male     85-89\n",
       "3  2002–03       4658.240077   Male     85-89\n",
       "4  2003–04       4942.025332   Male     85-89"
      ]
     },
     "execution_count": 164,
     "metadata": {},
     "output_type": "execute_result"
    }
   ],
   "source": [
    "df_85.head()"
   ]
  },
  {
   "cell_type": "code",
   "execution_count": 165,
   "metadata": {},
   "outputs": [],
   "source": [
    "# Creating new df\n",
    "df_90 = df_falls_injury_by_age_sex_2[['Year','90–95_rate','Gender']]"
   ]
  },
  {
   "cell_type": "code",
   "execution_count": 166,
   "metadata": {},
   "outputs": [],
   "source": [
    "# Renaming column name\n",
    "df_90.rename(columns={'90–95_rate':'Rate_per_100,000'}, inplace=True)"
   ]
  },
  {
   "cell_type": "code",
   "execution_count": 167,
   "metadata": {},
   "outputs": [
    {
     "name": "stderr",
     "output_type": "stream",
     "text": [
      "C:\\Users\\61470\\Anaconda3\\lib\\site-packages\\ipykernel_launcher.py:1: SettingWithCopyWarning: \n",
      "A value is trying to be set on a copy of a slice from a DataFrame.\n",
      "Try using .loc[row_indexer,col_indexer] = value instead\n",
      "\n",
      "See the caveats in the documentation: http://pandas.pydata.org/pandas-docs/stable/user_guide/indexing.html#returning-a-view-versus-a-copy\n",
      "  \"\"\"Entry point for launching an IPython kernel.\n"
     ]
    }
   ],
   "source": [
    "df_90['Age_Group']= '90-95'"
   ]
  },
  {
   "cell_type": "code",
   "execution_count": 168,
   "metadata": {},
   "outputs": [
    {
     "data": {
      "text/html": [
       "<div>\n",
       "<style scoped>\n",
       "    .dataframe tbody tr th:only-of-type {\n",
       "        vertical-align: middle;\n",
       "    }\n",
       "\n",
       "    .dataframe tbody tr th {\n",
       "        vertical-align: top;\n",
       "    }\n",
       "\n",
       "    .dataframe thead th {\n",
       "        text-align: right;\n",
       "    }\n",
       "</style>\n",
       "<table border=\"1\" class=\"dataframe\">\n",
       "  <thead>\n",
       "    <tr style=\"text-align: right;\">\n",
       "      <th></th>\n",
       "      <th>Year</th>\n",
       "      <th>Rate_per_100,000</th>\n",
       "      <th>Gender</th>\n",
       "      <th>Age_Group</th>\n",
       "    </tr>\n",
       "  </thead>\n",
       "  <tbody>\n",
       "    <tr>\n",
       "      <td>0</td>\n",
       "      <td>1999–00</td>\n",
       "      <td>5697.507341</td>\n",
       "      <td>Male</td>\n",
       "      <td>90-95</td>\n",
       "    </tr>\n",
       "    <tr>\n",
       "      <td>1</td>\n",
       "      <td>2000–01</td>\n",
       "      <td>7073.581509</td>\n",
       "      <td>Male</td>\n",
       "      <td>90-95</td>\n",
       "    </tr>\n",
       "    <tr>\n",
       "      <td>2</td>\n",
       "      <td>2001–02</td>\n",
       "      <td>7207.108979</td>\n",
       "      <td>Male</td>\n",
       "      <td>90-95</td>\n",
       "    </tr>\n",
       "    <tr>\n",
       "      <td>3</td>\n",
       "      <td>2002–03</td>\n",
       "      <td>7213.047281</td>\n",
       "      <td>Male</td>\n",
       "      <td>90-95</td>\n",
       "    </tr>\n",
       "    <tr>\n",
       "      <td>4</td>\n",
       "      <td>2003–04</td>\n",
       "      <td>7618.493748</td>\n",
       "      <td>Male</td>\n",
       "      <td>90-95</td>\n",
       "    </tr>\n",
       "  </tbody>\n",
       "</table>\n",
       "</div>"
      ],
      "text/plain": [
       "      Year  Rate_per_100,000 Gender Age_Group\n",
       "0  1999–00       5697.507341   Male     90-95\n",
       "1  2000–01       7073.581509   Male     90-95\n",
       "2  2001–02       7207.108979   Male     90-95\n",
       "3  2002–03       7213.047281   Male     90-95\n",
       "4  2003–04       7618.493748   Male     90-95"
      ]
     },
     "execution_count": 168,
     "metadata": {},
     "output_type": "execute_result"
    }
   ],
   "source": [
    "df_90.head()"
   ]
  },
  {
   "cell_type": "code",
   "execution_count": 171,
   "metadata": {},
   "outputs": [],
   "source": [
    "# Creating new df\n",
    "df_95 = df_falls_injury_by_age_sex_2[['Year','95+_rate','Gender']]"
   ]
  },
  {
   "cell_type": "code",
   "execution_count": 175,
   "metadata": {},
   "outputs": [
    {
     "data": {
      "text/html": [
       "<div>\n",
       "<style scoped>\n",
       "    .dataframe tbody tr th:only-of-type {\n",
       "        vertical-align: middle;\n",
       "    }\n",
       "\n",
       "    .dataframe tbody tr th {\n",
       "        vertical-align: top;\n",
       "    }\n",
       "\n",
       "    .dataframe thead th {\n",
       "        text-align: right;\n",
       "    }\n",
       "</style>\n",
       "<table border=\"1\" class=\"dataframe\">\n",
       "  <thead>\n",
       "    <tr style=\"text-align: right;\">\n",
       "      <th></th>\n",
       "      <th>Year</th>\n",
       "      <th>Rate_per_100,000</th>\n",
       "      <th>Gender</th>\n",
       "      <th>Age_Group</th>\n",
       "    </tr>\n",
       "  </thead>\n",
       "  <tbody>\n",
       "    <tr>\n",
       "      <td>0</td>\n",
       "      <td>1999–00</td>\n",
       "      <td>5689.335803</td>\n",
       "      <td>Male</td>\n",
       "      <td>95+</td>\n",
       "    </tr>\n",
       "    <tr>\n",
       "      <td>1</td>\n",
       "      <td>2000–01</td>\n",
       "      <td>6577.086280</td>\n",
       "      <td>Male</td>\n",
       "      <td>95+</td>\n",
       "    </tr>\n",
       "    <tr>\n",
       "      <td>2</td>\n",
       "      <td>2001–02</td>\n",
       "      <td>7253.886010</td>\n",
       "      <td>Male</td>\n",
       "      <td>95+</td>\n",
       "    </tr>\n",
       "    <tr>\n",
       "      <td>3</td>\n",
       "      <td>2002–03</td>\n",
       "      <td>7803.867403</td>\n",
       "      <td>Male</td>\n",
       "      <td>95+</td>\n",
       "    </tr>\n",
       "    <tr>\n",
       "      <td>4</td>\n",
       "      <td>2003–04</td>\n",
       "      <td>8232.056868</td>\n",
       "      <td>Male</td>\n",
       "      <td>95+</td>\n",
       "    </tr>\n",
       "  </tbody>\n",
       "</table>\n",
       "</div>"
      ],
      "text/plain": [
       "      Year  Rate_per_100,000 Gender Age_Group\n",
       "0  1999–00       5689.335803   Male       95+\n",
       "1  2000–01       6577.086280   Male       95+\n",
       "2  2001–02       7253.886010   Male       95+\n",
       "3  2002–03       7803.867403   Male       95+\n",
       "4  2003–04       8232.056868   Male       95+"
      ]
     },
     "execution_count": 175,
     "metadata": {},
     "output_type": "execute_result"
    }
   ],
   "source": [
    "df_95.head()"
   ]
  },
  {
   "cell_type": "code",
   "execution_count": 173,
   "metadata": {},
   "outputs": [],
   "source": [
    "# Renaming column names\n",
    "df_95.rename(columns={'95+_rate':'Rate_per_100,000'}, inplace=True)"
   ]
  },
  {
   "cell_type": "code",
   "execution_count": 174,
   "metadata": {},
   "outputs": [
    {
     "name": "stderr",
     "output_type": "stream",
     "text": [
      "C:\\Users\\61470\\Anaconda3\\lib\\site-packages\\ipykernel_launcher.py:1: SettingWithCopyWarning: \n",
      "A value is trying to be set on a copy of a slice from a DataFrame.\n",
      "Try using .loc[row_indexer,col_indexer] = value instead\n",
      "\n",
      "See the caveats in the documentation: http://pandas.pydata.org/pandas-docs/stable/user_guide/indexing.html#returning-a-view-versus-a-copy\n",
      "  \"\"\"Entry point for launching an IPython kernel.\n"
     ]
    }
   ],
   "source": [
    "df_95['Age_Group']= '95+'"
   ]
  },
  {
   "cell_type": "code",
   "execution_count": 176,
   "metadata": {},
   "outputs": [],
   "source": [
    "# storing df in a list\n",
    "frames = [df_65,df_70,df_75,df_80,df_85,df_90,df_95]"
   ]
  },
  {
   "cell_type": "code",
   "execution_count": 177,
   "metadata": {},
   "outputs": [],
   "source": [
    "# concatenating dfs\n",
    "df_falls_injury_by_age_sex_2_final_rate = pd.concat(frames)"
   ]
  },
  {
   "cell_type": "code",
   "execution_count": 178,
   "metadata": {},
   "outputs": [
    {
     "data": {
      "text/html": [
       "<div>\n",
       "<style scoped>\n",
       "    .dataframe tbody tr th:only-of-type {\n",
       "        vertical-align: middle;\n",
       "    }\n",
       "\n",
       "    .dataframe tbody tr th {\n",
       "        vertical-align: top;\n",
       "    }\n",
       "\n",
       "    .dataframe thead th {\n",
       "        text-align: right;\n",
       "    }\n",
       "</style>\n",
       "<table border=\"1\" class=\"dataframe\">\n",
       "  <thead>\n",
       "    <tr style=\"text-align: right;\">\n",
       "      <th></th>\n",
       "      <th>Year</th>\n",
       "      <th>Rate_per_100,000</th>\n",
       "      <th>Gender</th>\n",
       "      <th>Age_Group</th>\n",
       "    </tr>\n",
       "  </thead>\n",
       "  <tbody>\n",
       "    <tr>\n",
       "      <td>0</td>\n",
       "      <td>1999–00</td>\n",
       "      <td>563.383687</td>\n",
       "      <td>Male</td>\n",
       "      <td>65-69</td>\n",
       "    </tr>\n",
       "    <tr>\n",
       "      <td>1</td>\n",
       "      <td>2000–01</td>\n",
       "      <td>533.149988</td>\n",
       "      <td>Male</td>\n",
       "      <td>65-69</td>\n",
       "    </tr>\n",
       "    <tr>\n",
       "      <td>2</td>\n",
       "      <td>2001–02</td>\n",
       "      <td>591.056491</td>\n",
       "      <td>Male</td>\n",
       "      <td>65-69</td>\n",
       "    </tr>\n",
       "    <tr>\n",
       "      <td>3</td>\n",
       "      <td>2002–03</td>\n",
       "      <td>541.830781</td>\n",
       "      <td>Male</td>\n",
       "      <td>65-69</td>\n",
       "    </tr>\n",
       "    <tr>\n",
       "      <td>4</td>\n",
       "      <td>2003–04</td>\n",
       "      <td>534.685735</td>\n",
       "      <td>Male</td>\n",
       "      <td>65-69</td>\n",
       "    </tr>\n",
       "  </tbody>\n",
       "</table>\n",
       "</div>"
      ],
      "text/plain": [
       "      Year  Rate_per_100,000 Gender Age_Group\n",
       "0  1999–00        563.383687   Male     65-69\n",
       "1  2000–01        533.149988   Male     65-69\n",
       "2  2001–02        591.056491   Male     65-69\n",
       "3  2002–03        541.830781   Male     65-69\n",
       "4  2003–04        534.685735   Male     65-69"
      ]
     },
     "execution_count": 178,
     "metadata": {},
     "output_type": "execute_result"
    }
   ],
   "source": [
    "df_falls_injury_by_age_sex_2_final_rate.head()"
   ]
  },
  {
   "cell_type": "code",
   "execution_count": 179,
   "metadata": {},
   "outputs": [],
   "source": [
    "# Exporting df to csv\n",
    "df_falls_injury_by_age_sex_2_final_rate.to_csv('df_falls_injury_by_age_sex_2_final_rate.csv')"
   ]
  },
  {
   "cell_type": "code",
   "execution_count": 75,
   "metadata": {},
   "outputs": [],
   "source": [
    "# Reading the csv file\n",
    "falls_injury_by_residence_2 = pd.read_csv('falls_injury_by_residence_final.csv')"
   ]
  },
  {
   "cell_type": "code",
   "execution_count": 76,
   "metadata": {},
   "outputs": [
    {
     "data": {
      "text/html": [
       "<div>\n",
       "<style scoped>\n",
       "    .dataframe tbody tr th:only-of-type {\n",
       "        vertical-align: middle;\n",
       "    }\n",
       "\n",
       "    .dataframe tbody tr th {\n",
       "        vertical-align: top;\n",
       "    }\n",
       "\n",
       "    .dataframe thead th {\n",
       "        text-align: right;\n",
       "    }\n",
       "</style>\n",
       "<table border=\"1\" class=\"dataframe\">\n",
       "  <thead>\n",
       "    <tr style=\"text-align: right;\">\n",
       "      <th></th>\n",
       "      <th>Unnamed: 0</th>\n",
       "      <th>Year</th>\n",
       "      <th>65–69</th>\n",
       "      <th>70–74</th>\n",
       "      <th>75–79</th>\n",
       "      <th>80–84</th>\n",
       "      <th>85+</th>\n",
       "      <th>Total</th>\n",
       "      <th>Residence</th>\n",
       "    </tr>\n",
       "  </thead>\n",
       "  <tbody>\n",
       "    <tr>\n",
       "      <td>0</td>\n",
       "      <td>0</td>\n",
       "      <td>2001–02</td>\n",
       "      <td>3093</td>\n",
       "      <td>4611</td>\n",
       "      <td>7035</td>\n",
       "      <td>8686</td>\n",
       "      <td>13868</td>\n",
       "      <td>73845</td>\n",
       "      <td>Major cities</td>\n",
       "    </tr>\n",
       "    <tr>\n",
       "      <td>1</td>\n",
       "      <td>1</td>\n",
       "      <td>2002–03</td>\n",
       "      <td>3070</td>\n",
       "      <td>4516</td>\n",
       "      <td>7101</td>\n",
       "      <td>9002</td>\n",
       "      <td>14230</td>\n",
       "      <td>74643</td>\n",
       "      <td>Major cities</td>\n",
       "    </tr>\n",
       "    <tr>\n",
       "      <td>2</td>\n",
       "      <td>2</td>\n",
       "      <td>2003–04</td>\n",
       "      <td>3275</td>\n",
       "      <td>4708</td>\n",
       "      <td>7390</td>\n",
       "      <td>9836</td>\n",
       "      <td>15413</td>\n",
       "      <td>79500</td>\n",
       "      <td>Major cities</td>\n",
       "    </tr>\n",
       "    <tr>\n",
       "      <td>3</td>\n",
       "      <td>3</td>\n",
       "      <td>2004–05</td>\n",
       "      <td>3472</td>\n",
       "      <td>4695</td>\n",
       "      <td>7595</td>\n",
       "      <td>10574</td>\n",
       "      <td>16148</td>\n",
       "      <td>81960</td>\n",
       "      <td>Major cities</td>\n",
       "    </tr>\n",
       "    <tr>\n",
       "      <td>4</td>\n",
       "      <td>4</td>\n",
       "      <td>2005–06</td>\n",
       "      <td>3660</td>\n",
       "      <td>4817</td>\n",
       "      <td>7672</td>\n",
       "      <td>10926</td>\n",
       "      <td>17562</td>\n",
       "      <td>84740</td>\n",
       "      <td>Major cities</td>\n",
       "    </tr>\n",
       "  </tbody>\n",
       "</table>\n",
       "</div>"
      ],
      "text/plain": [
       "   Unnamed: 0     Year  65–69  70–74  75–79  80–84    85+  Total     Residence\n",
       "0           0  2001–02   3093   4611   7035   8686  13868  73845  Major cities\n",
       "1           1  2002–03   3070   4516   7101   9002  14230  74643  Major cities\n",
       "2           2  2003–04   3275   4708   7390   9836  15413  79500  Major cities\n",
       "3           3  2004–05   3472   4695   7595  10574  16148  81960  Major cities\n",
       "4           4  2005–06   3660   4817   7672  10926  17562  84740  Major cities"
      ]
     },
     "execution_count": 76,
     "metadata": {},
     "output_type": "execute_result"
    }
   ],
   "source": [
    "falls_injury_by_residence_2.head()"
   ]
  },
  {
   "cell_type": "code",
   "execution_count": 77,
   "metadata": {},
   "outputs": [],
   "source": [
    "# Creating new df\n",
    "df_65_r = falls_injury_by_residence_2[['Year','65–69','Residence']]"
   ]
  },
  {
   "cell_type": "code",
   "execution_count": 79,
   "metadata": {},
   "outputs": [],
   "source": [
    "# Creating new df\n",
    "df_70_r = falls_injury_by_residence_2[['Year','70–74','Residence']]"
   ]
  },
  {
   "cell_type": "code",
   "execution_count": 80,
   "metadata": {},
   "outputs": [],
   "source": [
    "# Creating new df\n",
    "df_75_r = falls_injury_by_residence_2[['Year','75–79','Residence']]"
   ]
  },
  {
   "cell_type": "code",
   "execution_count": 81,
   "metadata": {},
   "outputs": [],
   "source": [
    "# Creating new df\n",
    "df_80_r = falls_injury_by_residence_2[['Year','80–84','Residence']]"
   ]
  },
  {
   "cell_type": "code",
   "execution_count": 83,
   "metadata": {},
   "outputs": [],
   "source": [
    "# Creating new df\n",
    "df_85_r = falls_injury_by_residence_2[['Year','85+','Residence']]"
   ]
  },
  {
   "cell_type": "code",
   "execution_count": 86,
   "metadata": {},
   "outputs": [
    {
     "data": {
      "text/html": [
       "<div>\n",
       "<style scoped>\n",
       "    .dataframe tbody tr th:only-of-type {\n",
       "        vertical-align: middle;\n",
       "    }\n",
       "\n",
       "    .dataframe tbody tr th {\n",
       "        vertical-align: top;\n",
       "    }\n",
       "\n",
       "    .dataframe thead th {\n",
       "        text-align: right;\n",
       "    }\n",
       "</style>\n",
       "<table border=\"1\" class=\"dataframe\">\n",
       "  <thead>\n",
       "    <tr style=\"text-align: right;\">\n",
       "      <th></th>\n",
       "      <th>Year</th>\n",
       "      <th>Count</th>\n",
       "      <th>Residence</th>\n",
       "    </tr>\n",
       "  </thead>\n",
       "  <tbody>\n",
       "    <tr>\n",
       "      <td>0</td>\n",
       "      <td>2001–02</td>\n",
       "      <td>3093</td>\n",
       "      <td>Major cities</td>\n",
       "    </tr>\n",
       "    <tr>\n",
       "      <td>1</td>\n",
       "      <td>2002–03</td>\n",
       "      <td>3070</td>\n",
       "      <td>Major cities</td>\n",
       "    </tr>\n",
       "    <tr>\n",
       "      <td>2</td>\n",
       "      <td>2003–04</td>\n",
       "      <td>3275</td>\n",
       "      <td>Major cities</td>\n",
       "    </tr>\n",
       "    <tr>\n",
       "      <td>3</td>\n",
       "      <td>2004–05</td>\n",
       "      <td>3472</td>\n",
       "      <td>Major cities</td>\n",
       "    </tr>\n",
       "    <tr>\n",
       "      <td>4</td>\n",
       "      <td>2005–06</td>\n",
       "      <td>3660</td>\n",
       "      <td>Major cities</td>\n",
       "    </tr>\n",
       "  </tbody>\n",
       "</table>\n",
       "</div>"
      ],
      "text/plain": [
       "      Year  Count     Residence\n",
       "0  2001–02   3093  Major cities\n",
       "1  2002–03   3070  Major cities\n",
       "2  2003–04   3275  Major cities\n",
       "3  2004–05   3472  Major cities\n",
       "4  2005–06   3660  Major cities"
      ]
     },
     "execution_count": 86,
     "metadata": {},
     "output_type": "execute_result"
    }
   ],
   "source": [
    "df_65_r.head()"
   ]
  },
  {
   "cell_type": "code",
   "execution_count": 85,
   "metadata": {},
   "outputs": [
    {
     "name": "stderr",
     "output_type": "stream",
     "text": [
      "C:\\Users\\61470\\Anaconda3\\lib\\site-packages\\pandas\\core\\frame.py:4223: SettingWithCopyWarning: \n",
      "A value is trying to be set on a copy of a slice from a DataFrame\n",
      "\n",
      "See the caveats in the documentation: http://pandas.pydata.org/pandas-docs/stable/user_guide/indexing.html#returning-a-view-versus-a-copy\n",
      "  return super().rename(**kwargs)\n"
     ]
    }
   ],
   "source": [
    "# Renaming column name\n",
    "df_65_r.rename(columns={'65–69':'Count'}, inplace=True)"
   ]
  },
  {
   "cell_type": "code",
   "execution_count": 87,
   "metadata": {},
   "outputs": [],
   "source": [
    "# Renaming column name\n",
    "df_70_r.rename(columns={'70–74':'Count'}, inplace=True)"
   ]
  },
  {
   "cell_type": "code",
   "execution_count": 88,
   "metadata": {},
   "outputs": [],
   "source": [
    "# Renaming column name\n",
    "df_75_r.rename(columns={'75–79':'Count'}, inplace=True)"
   ]
  },
  {
   "cell_type": "code",
   "execution_count": 89,
   "metadata": {},
   "outputs": [],
   "source": [
    "# Renaming column name\n",
    "df_80_r.rename(columns={'80–84':'Count'}, inplace=True)"
   ]
  },
  {
   "cell_type": "code",
   "execution_count": 90,
   "metadata": {},
   "outputs": [],
   "source": [
    "# Renaming column name\n",
    "df_85_r.rename(columns={'85+':'Count'}, inplace=True)"
   ]
  },
  {
   "cell_type": "code",
   "execution_count": 93,
   "metadata": {},
   "outputs": [
    {
     "data": {
      "text/html": [
       "<div>\n",
       "<style scoped>\n",
       "    .dataframe tbody tr th:only-of-type {\n",
       "        vertical-align: middle;\n",
       "    }\n",
       "\n",
       "    .dataframe tbody tr th {\n",
       "        vertical-align: top;\n",
       "    }\n",
       "\n",
       "    .dataframe thead th {\n",
       "        text-align: right;\n",
       "    }\n",
       "</style>\n",
       "<table border=\"1\" class=\"dataframe\">\n",
       "  <thead>\n",
       "    <tr style=\"text-align: right;\">\n",
       "      <th></th>\n",
       "      <th>Year</th>\n",
       "      <th>Count</th>\n",
       "      <th>Residence</th>\n",
       "      <th>Age_Group</th>\n",
       "    </tr>\n",
       "  </thead>\n",
       "  <tbody>\n",
       "    <tr>\n",
       "      <td>0</td>\n",
       "      <td>2001–02</td>\n",
       "      <td>3093</td>\n",
       "      <td>Major cities</td>\n",
       "      <td>65-69</td>\n",
       "    </tr>\n",
       "    <tr>\n",
       "      <td>1</td>\n",
       "      <td>2002–03</td>\n",
       "      <td>3070</td>\n",
       "      <td>Major cities</td>\n",
       "      <td>65-69</td>\n",
       "    </tr>\n",
       "    <tr>\n",
       "      <td>2</td>\n",
       "      <td>2003–04</td>\n",
       "      <td>3275</td>\n",
       "      <td>Major cities</td>\n",
       "      <td>65-69</td>\n",
       "    </tr>\n",
       "    <tr>\n",
       "      <td>3</td>\n",
       "      <td>2004–05</td>\n",
       "      <td>3472</td>\n",
       "      <td>Major cities</td>\n",
       "      <td>65-69</td>\n",
       "    </tr>\n",
       "    <tr>\n",
       "      <td>4</td>\n",
       "      <td>2005–06</td>\n",
       "      <td>3660</td>\n",
       "      <td>Major cities</td>\n",
       "      <td>65-69</td>\n",
       "    </tr>\n",
       "  </tbody>\n",
       "</table>\n",
       "</div>"
      ],
      "text/plain": [
       "      Year  Count     Residence Age_Group\n",
       "0  2001–02   3093  Major cities     65-69\n",
       "1  2002–03   3070  Major cities     65-69\n",
       "2  2003–04   3275  Major cities     65-69\n",
       "3  2004–05   3472  Major cities     65-69\n",
       "4  2005–06   3660  Major cities     65-69"
      ]
     },
     "execution_count": 93,
     "metadata": {},
     "output_type": "execute_result"
    }
   ],
   "source": [
    "df_65_r.head()"
   ]
  },
  {
   "cell_type": "code",
   "execution_count": 92,
   "metadata": {},
   "outputs": [
    {
     "name": "stderr",
     "output_type": "stream",
     "text": [
      "C:\\Users\\61470\\Anaconda3\\lib\\site-packages\\ipykernel_launcher.py:1: SettingWithCopyWarning: \n",
      "A value is trying to be set on a copy of a slice from a DataFrame.\n",
      "Try using .loc[row_indexer,col_indexer] = value instead\n",
      "\n",
      "See the caveats in the documentation: http://pandas.pydata.org/pandas-docs/stable/user_guide/indexing.html#returning-a-view-versus-a-copy\n",
      "  \"\"\"Entry point for launching an IPython kernel.\n"
     ]
    }
   ],
   "source": [
    "# Creating column and assinging values\n",
    "df_65_r['Age_Group']= '65-69'"
   ]
  },
  {
   "cell_type": "code",
   "execution_count": 94,
   "metadata": {},
   "outputs": [
    {
     "name": "stderr",
     "output_type": "stream",
     "text": [
      "C:\\Users\\61470\\Anaconda3\\lib\\site-packages\\ipykernel_launcher.py:1: SettingWithCopyWarning: \n",
      "A value is trying to be set on a copy of a slice from a DataFrame.\n",
      "Try using .loc[row_indexer,col_indexer] = value instead\n",
      "\n",
      "See the caveats in the documentation: http://pandas.pydata.org/pandas-docs/stable/user_guide/indexing.html#returning-a-view-versus-a-copy\n",
      "  \"\"\"Entry point for launching an IPython kernel.\n"
     ]
    }
   ],
   "source": [
    "# Creating column and assinging values\n",
    "df_70_r['Age_Group']= '70-74'"
   ]
  },
  {
   "cell_type": "code",
   "execution_count": 95,
   "metadata": {},
   "outputs": [
    {
     "name": "stderr",
     "output_type": "stream",
     "text": [
      "C:\\Users\\61470\\Anaconda3\\lib\\site-packages\\ipykernel_launcher.py:1: SettingWithCopyWarning: \n",
      "A value is trying to be set on a copy of a slice from a DataFrame.\n",
      "Try using .loc[row_indexer,col_indexer] = value instead\n",
      "\n",
      "See the caveats in the documentation: http://pandas.pydata.org/pandas-docs/stable/user_guide/indexing.html#returning-a-view-versus-a-copy\n",
      "  \"\"\"Entry point for launching an IPython kernel.\n"
     ]
    }
   ],
   "source": [
    "# Creating column and assinging values\n",
    "df_75_r['Age_Group']= '75-79'"
   ]
  },
  {
   "cell_type": "code",
   "execution_count": 96,
   "metadata": {},
   "outputs": [
    {
     "name": "stderr",
     "output_type": "stream",
     "text": [
      "C:\\Users\\61470\\Anaconda3\\lib\\site-packages\\ipykernel_launcher.py:1: SettingWithCopyWarning: \n",
      "A value is trying to be set on a copy of a slice from a DataFrame.\n",
      "Try using .loc[row_indexer,col_indexer] = value instead\n",
      "\n",
      "See the caveats in the documentation: http://pandas.pydata.org/pandas-docs/stable/user_guide/indexing.html#returning-a-view-versus-a-copy\n",
      "  \"\"\"Entry point for launching an IPython kernel.\n"
     ]
    }
   ],
   "source": [
    "# Creating column and assinging values\n",
    "df_80_r['Age_Group']= '80-84'"
   ]
  },
  {
   "cell_type": "code",
   "execution_count": 97,
   "metadata": {},
   "outputs": [
    {
     "name": "stderr",
     "output_type": "stream",
     "text": [
      "C:\\Users\\61470\\Anaconda3\\lib\\site-packages\\ipykernel_launcher.py:1: SettingWithCopyWarning: \n",
      "A value is trying to be set on a copy of a slice from a DataFrame.\n",
      "Try using .loc[row_indexer,col_indexer] = value instead\n",
      "\n",
      "See the caveats in the documentation: http://pandas.pydata.org/pandas-docs/stable/user_guide/indexing.html#returning-a-view-versus-a-copy\n",
      "  \"\"\"Entry point for launching an IPython kernel.\n"
     ]
    }
   ],
   "source": [
    "# Creating column and assinging values\n",
    "df_85_r['Age_Group']= '85+'"
   ]
  },
  {
   "cell_type": "code",
   "execution_count": 98,
   "metadata": {},
   "outputs": [
    {
     "data": {
      "text/html": [
       "<div>\n",
       "<style scoped>\n",
       "    .dataframe tbody tr th:only-of-type {\n",
       "        vertical-align: middle;\n",
       "    }\n",
       "\n",
       "    .dataframe tbody tr th {\n",
       "        vertical-align: top;\n",
       "    }\n",
       "\n",
       "    .dataframe thead th {\n",
       "        text-align: right;\n",
       "    }\n",
       "</style>\n",
       "<table border=\"1\" class=\"dataframe\">\n",
       "  <thead>\n",
       "    <tr style=\"text-align: right;\">\n",
       "      <th></th>\n",
       "      <th>Year</th>\n",
       "      <th>Count</th>\n",
       "      <th>Residence</th>\n",
       "      <th>Age_Group</th>\n",
       "    </tr>\n",
       "  </thead>\n",
       "  <tbody>\n",
       "    <tr>\n",
       "      <td>0</td>\n",
       "      <td>2001–02</td>\n",
       "      <td>4611</td>\n",
       "      <td>Major cities</td>\n",
       "      <td>70-74</td>\n",
       "    </tr>\n",
       "    <tr>\n",
       "      <td>1</td>\n",
       "      <td>2002–03</td>\n",
       "      <td>4516</td>\n",
       "      <td>Major cities</td>\n",
       "      <td>70-74</td>\n",
       "    </tr>\n",
       "    <tr>\n",
       "      <td>2</td>\n",
       "      <td>2003–04</td>\n",
       "      <td>4708</td>\n",
       "      <td>Major cities</td>\n",
       "      <td>70-74</td>\n",
       "    </tr>\n",
       "    <tr>\n",
       "      <td>3</td>\n",
       "      <td>2004–05</td>\n",
       "      <td>4695</td>\n",
       "      <td>Major cities</td>\n",
       "      <td>70-74</td>\n",
       "    </tr>\n",
       "    <tr>\n",
       "      <td>4</td>\n",
       "      <td>2005–06</td>\n",
       "      <td>4817</td>\n",
       "      <td>Major cities</td>\n",
       "      <td>70-74</td>\n",
       "    </tr>\n",
       "    <tr>\n",
       "      <td>...</td>\n",
       "      <td>...</td>\n",
       "      <td>...</td>\n",
       "      <td>...</td>\n",
       "      <td>...</td>\n",
       "    </tr>\n",
       "    <tr>\n",
       "      <td>65</td>\n",
       "      <td>2010–11</td>\n",
       "      <td>55</td>\n",
       "      <td>Very Remote</td>\n",
       "      <td>70-74</td>\n",
       "    </tr>\n",
       "    <tr>\n",
       "      <td>66</td>\n",
       "      <td>2011–12</td>\n",
       "      <td>64</td>\n",
       "      <td>Very Remote</td>\n",
       "      <td>70-74</td>\n",
       "    </tr>\n",
       "    <tr>\n",
       "      <td>67</td>\n",
       "      <td>2012–13</td>\n",
       "      <td>62</td>\n",
       "      <td>Very Remote</td>\n",
       "      <td>70-74</td>\n",
       "    </tr>\n",
       "    <tr>\n",
       "      <td>68</td>\n",
       "      <td>2013–14</td>\n",
       "      <td>94</td>\n",
       "      <td>Very Remote</td>\n",
       "      <td>70-74</td>\n",
       "    </tr>\n",
       "    <tr>\n",
       "      <td>69</td>\n",
       "      <td>2014–15</td>\n",
       "      <td>74</td>\n",
       "      <td>Very Remote</td>\n",
       "      <td>70-74</td>\n",
       "    </tr>\n",
       "  </tbody>\n",
       "</table>\n",
       "<p>70 rows × 4 columns</p>\n",
       "</div>"
      ],
      "text/plain": [
       "       Year  Count     Residence Age_Group\n",
       "0   2001–02   4611  Major cities     70-74\n",
       "1   2002–03   4516  Major cities     70-74\n",
       "2   2003–04   4708  Major cities     70-74\n",
       "3   2004–05   4695  Major cities     70-74\n",
       "4   2005–06   4817  Major cities     70-74\n",
       "..      ...    ...           ...       ...\n",
       "65  2010–11     55   Very Remote     70-74\n",
       "66  2011–12     64   Very Remote     70-74\n",
       "67  2012–13     62   Very Remote     70-74\n",
       "68  2013–14     94   Very Remote     70-74\n",
       "69  2014–15     74   Very Remote     70-74\n",
       "\n",
       "[70 rows x 4 columns]"
      ]
     },
     "execution_count": 98,
     "metadata": {},
     "output_type": "execute_result"
    }
   ],
   "source": [
    "df_70_r"
   ]
  },
  {
   "cell_type": "code",
   "execution_count": 100,
   "metadata": {},
   "outputs": [],
   "source": [
    "# Concatenating the dfs\n",
    "falls_injury_by_residence_2_final = pd.concat([df_65_r,df_70_r,df_75_r,df_80_r,df_85_r])"
   ]
  },
  {
   "cell_type": "code",
   "execution_count": 101,
   "metadata": {},
   "outputs": [],
   "source": [
    "# Exporting df to csv\n",
    "falls_injury_by_residence_2_final.to_csv('falls_injury_by_residence_2_final.csv')"
   ]
  },
  {
   "cell_type": "code",
   "execution_count": 102,
   "metadata": {},
   "outputs": [],
   "source": [
    "aus_data_2 = pd.read_csv('AUS_falls_data_final.csv')"
   ]
  },
  {
   "cell_type": "code",
   "execution_count": 103,
   "metadata": {},
   "outputs": [
    {
     "data": {
      "text/html": [
       "<div>\n",
       "<style scoped>\n",
       "    .dataframe tbody tr th:only-of-type {\n",
       "        vertical-align: middle;\n",
       "    }\n",
       "\n",
       "    .dataframe tbody tr th {\n",
       "        vertical-align: top;\n",
       "    }\n",
       "\n",
       "    .dataframe thead th {\n",
       "        text-align: right;\n",
       "    }\n",
       "</style>\n",
       "<table border=\"1\" class=\"dataframe\">\n",
       "  <thead>\n",
       "    <tr style=\"text-align: right;\">\n",
       "      <th></th>\n",
       "      <th>Unnamed: 0</th>\n",
       "      <th>Injury Type</th>\n",
       "      <th>65–69</th>\n",
       "      <th>70–74</th>\n",
       "      <th>75–79</th>\n",
       "      <th>80–84</th>\n",
       "      <th>85–89</th>\n",
       "      <th>90–94</th>\n",
       "      <th>95+</th>\n",
       "      <th>Gender</th>\n",
       "      <th>State</th>\n",
       "      <th>Longitude</th>\n",
       "      <th>Latitude</th>\n",
       "    </tr>\n",
       "  </thead>\n",
       "  <tbody>\n",
       "    <tr>\n",
       "      <td>0</td>\n",
       "      <td>0</td>\n",
       "      <td>Falls</td>\n",
       "      <td>1374.081971</td>\n",
       "      <td>2446.724546</td>\n",
       "      <td>4785.020804</td>\n",
       "      <td>7058.823529</td>\n",
       "      <td>11111.111111</td>\n",
       "      <td>n.p.</td>\n",
       "      <td>n.p.</td>\n",
       "      <td>Male</td>\n",
       "      <td>NT</td>\n",
       "      <td>130.841782</td>\n",
       "      <td>-12.462827</td>\n",
       "    </tr>\n",
       "    <tr>\n",
       "      <td>1</td>\n",
       "      <td>1</td>\n",
       "      <td>Total_Injuries</td>\n",
       "      <td>3316.749585</td>\n",
       "      <td>4459.352802</td>\n",
       "      <td>7142.857143</td>\n",
       "      <td>9915.966387</td>\n",
       "      <td>13725.490196</td>\n",
       "      <td>n.p.</td>\n",
       "      <td>n.p.</td>\n",
       "      <td>Male</td>\n",
       "      <td>NT</td>\n",
       "      <td>130.841782</td>\n",
       "      <td>-12.462827</td>\n",
       "    </tr>\n",
       "    <tr>\n",
       "      <td>2</td>\n",
       "      <td>2</td>\n",
       "      <td>Falls</td>\n",
       "      <td>1640.402997</td>\n",
       "      <td>2412.233470</td>\n",
       "      <td>4543.775397</td>\n",
       "      <td>7651.109411</td>\n",
       "      <td>12338.593974</td>\n",
       "      <td>n.p.</td>\n",
       "      <td>n.p.</td>\n",
       "      <td>Persons</td>\n",
       "      <td>NT</td>\n",
       "      <td>130.841782</td>\n",
       "      <td>-12.462827</td>\n",
       "    </tr>\n",
       "    <tr>\n",
       "      <td>3</td>\n",
       "      <td>3</td>\n",
       "      <td>Total_Injuries</td>\n",
       "      <td>3203.306639</td>\n",
       "      <td>4006.030584</td>\n",
       "      <td>6501.662357</td>\n",
       "      <td>9869.931140</td>\n",
       "      <td>14921.090387</td>\n",
       "      <td>16450.216450216452</td>\n",
       "      <td>16666.666666666664</td>\n",
       "      <td>Persons</td>\n",
       "      <td>NT</td>\n",
       "      <td>130.841782</td>\n",
       "      <td>-12.462827</td>\n",
       "    </tr>\n",
       "    <tr>\n",
       "      <td>4</td>\n",
       "      <td>4</td>\n",
       "      <td>Falls</td>\n",
       "      <td>1640.402997</td>\n",
       "      <td>2412.233470</td>\n",
       "      <td>4543.775397</td>\n",
       "      <td>7651.109411</td>\n",
       "      <td>12338.593974</td>\n",
       "      <td>n.p.</td>\n",
       "      <td>n.p.</td>\n",
       "      <td>Persons</td>\n",
       "      <td>NT</td>\n",
       "      <td>130.841782</td>\n",
       "      <td>-12.462827</td>\n",
       "    </tr>\n",
       "  </tbody>\n",
       "</table>\n",
       "</div>"
      ],
      "text/plain": [
       "   Unnamed: 0     Injury Type        65–69        70–74        75–79  \\\n",
       "0           0          Falls   1374.081971  2446.724546  4785.020804   \n",
       "1           1  Total_Injuries  3316.749585  4459.352802  7142.857143   \n",
       "2           2          Falls   1640.402997  2412.233470  4543.775397   \n",
       "3           3  Total_Injuries  3203.306639  4006.030584  6501.662357   \n",
       "4           4          Falls   1640.402997  2412.233470  4543.775397   \n",
       "\n",
       "         80–84         85–89               90–94                 95+   Gender  \\\n",
       "0  7058.823529  11111.111111                n.p.                n.p.     Male   \n",
       "1  9915.966387  13725.490196                n.p.                n.p.     Male   \n",
       "2  7651.109411  12338.593974                n.p.                n.p.  Persons   \n",
       "3  9869.931140  14921.090387  16450.216450216452  16666.666666666664  Persons   \n",
       "4  7651.109411  12338.593974                n.p.                n.p.  Persons   \n",
       "\n",
       "  State   Longitude   Latitude  \n",
       "0    NT  130.841782 -12.462827  \n",
       "1    NT  130.841782 -12.462827  \n",
       "2    NT  130.841782 -12.462827  \n",
       "3    NT  130.841782 -12.462827  \n",
       "4    NT  130.841782 -12.462827  "
      ]
     },
     "execution_count": 103,
     "metadata": {},
     "output_type": "execute_result"
    }
   ],
   "source": [
    "aus_data_2.head()"
   ]
  },
  {
   "cell_type": "code",
   "execution_count": 105,
   "metadata": {},
   "outputs": [],
   "source": [
    "# Creating df\n",
    "df_65_a = aus_data_2[['Injury Type','65–69','Gender','State','Longitude','Latitude']]"
   ]
  },
  {
   "cell_type": "code",
   "execution_count": 125,
   "metadata": {},
   "outputs": [
    {
     "data": {
      "text/html": [
       "<div>\n",
       "<style scoped>\n",
       "    .dataframe tbody tr th:only-of-type {\n",
       "        vertical-align: middle;\n",
       "    }\n",
       "\n",
       "    .dataframe tbody tr th {\n",
       "        vertical-align: top;\n",
       "    }\n",
       "\n",
       "    .dataframe thead th {\n",
       "        text-align: right;\n",
       "    }\n",
       "</style>\n",
       "<table border=\"1\" class=\"dataframe\">\n",
       "  <thead>\n",
       "    <tr style=\"text-align: right;\">\n",
       "      <th></th>\n",
       "      <th>Injury Type</th>\n",
       "      <th>Count</th>\n",
       "      <th>Gender</th>\n",
       "      <th>State</th>\n",
       "      <th>Longitude</th>\n",
       "      <th>Latitude</th>\n",
       "      <th>Age_Group</th>\n",
       "    </tr>\n",
       "  </thead>\n",
       "  <tbody>\n",
       "    <tr>\n",
       "      <td>0</td>\n",
       "      <td>Falls</td>\n",
       "      <td>1374.081971</td>\n",
       "      <td>Male</td>\n",
       "      <td>NT</td>\n",
       "      <td>130.841782</td>\n",
       "      <td>-12.462827</td>\n",
       "      <td>65-69</td>\n",
       "    </tr>\n",
       "    <tr>\n",
       "      <td>1</td>\n",
       "      <td>Total_Injuries</td>\n",
       "      <td>3316.749585</td>\n",
       "      <td>Male</td>\n",
       "      <td>NT</td>\n",
       "      <td>130.841782</td>\n",
       "      <td>-12.462827</td>\n",
       "      <td>65-69</td>\n",
       "    </tr>\n",
       "    <tr>\n",
       "      <td>2</td>\n",
       "      <td>Falls</td>\n",
       "      <td>1640.402997</td>\n",
       "      <td>Persons</td>\n",
       "      <td>NT</td>\n",
       "      <td>130.841782</td>\n",
       "      <td>-12.462827</td>\n",
       "      <td>65-69</td>\n",
       "    </tr>\n",
       "    <tr>\n",
       "      <td>3</td>\n",
       "      <td>Total_Injuries</td>\n",
       "      <td>3203.306639</td>\n",
       "      <td>Persons</td>\n",
       "      <td>NT</td>\n",
       "      <td>130.841782</td>\n",
       "      <td>-12.462827</td>\n",
       "      <td>65-69</td>\n",
       "    </tr>\n",
       "    <tr>\n",
       "      <td>4</td>\n",
       "      <td>Falls</td>\n",
       "      <td>1640.402997</td>\n",
       "      <td>Persons</td>\n",
       "      <td>NT</td>\n",
       "      <td>130.841782</td>\n",
       "      <td>-12.462827</td>\n",
       "      <td>65-69</td>\n",
       "    </tr>\n",
       "  </tbody>\n",
       "</table>\n",
       "</div>"
      ],
      "text/plain": [
       "      Injury Type        Count   Gender State   Longitude   Latitude Age_Group\n",
       "0          Falls   1374.081971     Male    NT  130.841782 -12.462827     65-69\n",
       "1  Total_Injuries  3316.749585     Male    NT  130.841782 -12.462827     65-69\n",
       "2          Falls   1640.402997  Persons    NT  130.841782 -12.462827     65-69\n",
       "3  Total_Injuries  3203.306639  Persons    NT  130.841782 -12.462827     65-69\n",
       "4          Falls   1640.402997  Persons    NT  130.841782 -12.462827     65-69"
      ]
     },
     "execution_count": 125,
     "metadata": {},
     "output_type": "execute_result"
    }
   ],
   "source": [
    "df_65_a.head()"
   ]
  },
  {
   "cell_type": "code",
   "execution_count": 108,
   "metadata": {},
   "outputs": [],
   "source": [
    "# Creating df\n",
    "df_70_a = aus_data_2[['Injury Type','70–74','Gender','State','Longitude','Latitude']]"
   ]
  },
  {
   "cell_type": "code",
   "execution_count": 107,
   "metadata": {},
   "outputs": [
    {
     "data": {
      "text/plain": [
       "Index(['Unnamed: 0', 'Injury Type', '65–69', '70–74', '75–79', '80–84',\n",
       "       '85–89', '90–94', '95+', 'Gender', 'State', 'Longitude', 'Latitude'],\n",
       "      dtype='object')"
      ]
     },
     "execution_count": 107,
     "metadata": {},
     "output_type": "execute_result"
    }
   ],
   "source": [
    "aus_data_2.columns"
   ]
  },
  {
   "cell_type": "code",
   "execution_count": 109,
   "metadata": {},
   "outputs": [],
   "source": [
    "# Creating df\n",
    "df_75_a = aus_data_2[['Injury Type','75–79','Gender','State','Longitude','Latitude']]"
   ]
  },
  {
   "cell_type": "code",
   "execution_count": 110,
   "metadata": {},
   "outputs": [],
   "source": [
    "# Creating df\n",
    "df_80_a = aus_data_2[['Injury Type','80–84','Gender','State','Longitude','Latitude']]"
   ]
  },
  {
   "cell_type": "code",
   "execution_count": 111,
   "metadata": {},
   "outputs": [],
   "source": [
    "# Creating df\n",
    "df_85_a = aus_data_2[['Injury Type','85–89','Gender','State','Longitude','Latitude']]"
   ]
  },
  {
   "cell_type": "code",
   "execution_count": 112,
   "metadata": {},
   "outputs": [],
   "source": [
    "# Creating df\n",
    "df_90_a = aus_data_2[['Injury Type','90–94','Gender','State','Longitude','Latitude']]"
   ]
  },
  {
   "cell_type": "code",
   "execution_count": 113,
   "metadata": {},
   "outputs": [],
   "source": [
    "# Creating df\n",
    "df_95_a = aus_data_2[['Injury Type','95+','Gender','State','Longitude','Latitude']]"
   ]
  },
  {
   "cell_type": "code",
   "execution_count": 116,
   "metadata": {},
   "outputs": [],
   "source": [
    "# Renaming column name\n",
    "df_65_a.rename(columns={'65–69':'Count'}, inplace=True)"
   ]
  },
  {
   "cell_type": "code",
   "execution_count": 118,
   "metadata": {},
   "outputs": [],
   "source": [
    "# Renaming column name\n",
    "df_70_a.rename(columns={'70–74':'Count'}, inplace=True)"
   ]
  },
  {
   "cell_type": "code",
   "execution_count": 119,
   "metadata": {},
   "outputs": [],
   "source": [
    "# Renaming column name\n",
    "df_75_a.rename(columns={'75–79':'Count'}, inplace=True)"
   ]
  },
  {
   "cell_type": "code",
   "execution_count": 120,
   "metadata": {},
   "outputs": [],
   "source": [
    "# Renaming column name\n",
    "df_80_a.rename(columns={'80–84':'Count'}, inplace=True)"
   ]
  },
  {
   "cell_type": "code",
   "execution_count": 121,
   "metadata": {},
   "outputs": [],
   "source": [
    "# Renaming column name\n",
    "df_85_a.rename(columns={'85–89':'Count'}, inplace=True)"
   ]
  },
  {
   "cell_type": "code",
   "execution_count": 122,
   "metadata": {},
   "outputs": [],
   "source": [
    "# Renaming column name\n",
    "df_90_a.rename(columns={'90–94':'Count'}, inplace=True)"
   ]
  },
  {
   "cell_type": "code",
   "execution_count": 123,
   "metadata": {},
   "outputs": [],
   "source": [
    "# Renaming column name\n",
    "df_95_a.rename(columns={'95+':'Count'}, inplace=True)"
   ]
  },
  {
   "cell_type": "code",
   "execution_count": 124,
   "metadata": {},
   "outputs": [
    {
     "name": "stderr",
     "output_type": "stream",
     "text": [
      "C:\\Users\\61470\\Anaconda3\\lib\\site-packages\\ipykernel_launcher.py:1: SettingWithCopyWarning: \n",
      "A value is trying to be set on a copy of a slice from a DataFrame.\n",
      "Try using .loc[row_indexer,col_indexer] = value instead\n",
      "\n",
      "See the caveats in the documentation: http://pandas.pydata.org/pandas-docs/stable/user_guide/indexing.html#returning-a-view-versus-a-copy\n",
      "  \"\"\"Entry point for launching an IPython kernel.\n"
     ]
    }
   ],
   "source": [
    "# Adding new column and assigning values\n",
    "df_65_a['Age_Group'] = '65-69'"
   ]
  },
  {
   "cell_type": "code",
   "execution_count": 126,
   "metadata": {},
   "outputs": [
    {
     "name": "stderr",
     "output_type": "stream",
     "text": [
      "C:\\Users\\61470\\Anaconda3\\lib\\site-packages\\ipykernel_launcher.py:1: SettingWithCopyWarning: \n",
      "A value is trying to be set on a copy of a slice from a DataFrame.\n",
      "Try using .loc[row_indexer,col_indexer] = value instead\n",
      "\n",
      "See the caveats in the documentation: http://pandas.pydata.org/pandas-docs/stable/user_guide/indexing.html#returning-a-view-versus-a-copy\n",
      "  \"\"\"Entry point for launching an IPython kernel.\n"
     ]
    }
   ],
   "source": [
    "# Adding new column and assigning values\n",
    "df_70_a['Age_Group'] = '70-74'"
   ]
  },
  {
   "cell_type": "code",
   "execution_count": 127,
   "metadata": {},
   "outputs": [
    {
     "name": "stderr",
     "output_type": "stream",
     "text": [
      "C:\\Users\\61470\\Anaconda3\\lib\\site-packages\\ipykernel_launcher.py:1: SettingWithCopyWarning: \n",
      "A value is trying to be set on a copy of a slice from a DataFrame.\n",
      "Try using .loc[row_indexer,col_indexer] = value instead\n",
      "\n",
      "See the caveats in the documentation: http://pandas.pydata.org/pandas-docs/stable/user_guide/indexing.html#returning-a-view-versus-a-copy\n",
      "  \"\"\"Entry point for launching an IPython kernel.\n"
     ]
    }
   ],
   "source": [
    "# Adding new column and assigning values\n",
    "df_75_a['Age_Group'] = '75-79'"
   ]
  },
  {
   "cell_type": "code",
   "execution_count": 129,
   "metadata": {},
   "outputs": [
    {
     "name": "stderr",
     "output_type": "stream",
     "text": [
      "C:\\Users\\61470\\Anaconda3\\lib\\site-packages\\ipykernel_launcher.py:1: SettingWithCopyWarning: \n",
      "A value is trying to be set on a copy of a slice from a DataFrame.\n",
      "Try using .loc[row_indexer,col_indexer] = value instead\n",
      "\n",
      "See the caveats in the documentation: http://pandas.pydata.org/pandas-docs/stable/user_guide/indexing.html#returning-a-view-versus-a-copy\n",
      "  \"\"\"Entry point for launching an IPython kernel.\n"
     ]
    }
   ],
   "source": [
    "# Adding new column and assigning values\n",
    "df_80_a['Age_Group'] = '80-84'"
   ]
  },
  {
   "cell_type": "code",
   "execution_count": 130,
   "metadata": {},
   "outputs": [
    {
     "name": "stderr",
     "output_type": "stream",
     "text": [
      "C:\\Users\\61470\\Anaconda3\\lib\\site-packages\\ipykernel_launcher.py:1: SettingWithCopyWarning: \n",
      "A value is trying to be set on a copy of a slice from a DataFrame.\n",
      "Try using .loc[row_indexer,col_indexer] = value instead\n",
      "\n",
      "See the caveats in the documentation: http://pandas.pydata.org/pandas-docs/stable/user_guide/indexing.html#returning-a-view-versus-a-copy\n",
      "  \"\"\"Entry point for launching an IPython kernel.\n"
     ]
    }
   ],
   "source": [
    "# Adding new column and assigning values\n",
    "df_85_a['Age_Group'] = '85-89'"
   ]
  },
  {
   "cell_type": "code",
   "execution_count": 131,
   "metadata": {},
   "outputs": [
    {
     "name": "stderr",
     "output_type": "stream",
     "text": [
      "C:\\Users\\61470\\Anaconda3\\lib\\site-packages\\ipykernel_launcher.py:1: SettingWithCopyWarning: \n",
      "A value is trying to be set on a copy of a slice from a DataFrame.\n",
      "Try using .loc[row_indexer,col_indexer] = value instead\n",
      "\n",
      "See the caveats in the documentation: http://pandas.pydata.org/pandas-docs/stable/user_guide/indexing.html#returning-a-view-versus-a-copy\n",
      "  \"\"\"Entry point for launching an IPython kernel.\n"
     ]
    }
   ],
   "source": [
    "# Adding new column and assigning values\n",
    "df_90_a['Age_Group'] = '90-94'"
   ]
  },
  {
   "cell_type": "code",
   "execution_count": 132,
   "metadata": {},
   "outputs": [
    {
     "name": "stderr",
     "output_type": "stream",
     "text": [
      "C:\\Users\\61470\\Anaconda3\\lib\\site-packages\\ipykernel_launcher.py:1: SettingWithCopyWarning: \n",
      "A value is trying to be set on a copy of a slice from a DataFrame.\n",
      "Try using .loc[row_indexer,col_indexer] = value instead\n",
      "\n",
      "See the caveats in the documentation: http://pandas.pydata.org/pandas-docs/stable/user_guide/indexing.html#returning-a-view-versus-a-copy\n",
      "  \"\"\"Entry point for launching an IPython kernel.\n"
     ]
    }
   ],
   "source": [
    "# Adding new column and assigning values\n",
    "df_95_a['Age_Group'] = '95+'"
   ]
  },
  {
   "cell_type": "code",
   "execution_count": 133,
   "metadata": {},
   "outputs": [],
   "source": [
    "# Concatenating all the dfs\n",
    "aus_data_2_final = pd.concat([df_65_a,df_70_a,df_75_a,df_80_a,df_85_a,df_90_a,df_95_a])"
   ]
  },
  {
   "cell_type": "code",
   "execution_count": 135,
   "metadata": {},
   "outputs": [
    {
     "data": {
      "text/html": [
       "<div>\n",
       "<style scoped>\n",
       "    .dataframe tbody tr th:only-of-type {\n",
       "        vertical-align: middle;\n",
       "    }\n",
       "\n",
       "    .dataframe tbody tr th {\n",
       "        vertical-align: top;\n",
       "    }\n",
       "\n",
       "    .dataframe thead th {\n",
       "        text-align: right;\n",
       "    }\n",
       "</style>\n",
       "<table border=\"1\" class=\"dataframe\">\n",
       "  <thead>\n",
       "    <tr style=\"text-align: right;\">\n",
       "      <th></th>\n",
       "      <th>Injury Type</th>\n",
       "      <th>Count</th>\n",
       "      <th>Gender</th>\n",
       "      <th>State</th>\n",
       "      <th>Longitude</th>\n",
       "      <th>Latitude</th>\n",
       "      <th>Age_Group</th>\n",
       "    </tr>\n",
       "  </thead>\n",
       "  <tbody>\n",
       "    <tr>\n",
       "      <td>0</td>\n",
       "      <td>Falls</td>\n",
       "      <td>1374.08</td>\n",
       "      <td>Male</td>\n",
       "      <td>NT</td>\n",
       "      <td>130.841782</td>\n",
       "      <td>-12.462827</td>\n",
       "      <td>65-69</td>\n",
       "    </tr>\n",
       "    <tr>\n",
       "      <td>1</td>\n",
       "      <td>Total_Injuries</td>\n",
       "      <td>3316.75</td>\n",
       "      <td>Male</td>\n",
       "      <td>NT</td>\n",
       "      <td>130.841782</td>\n",
       "      <td>-12.462827</td>\n",
       "      <td>65-69</td>\n",
       "    </tr>\n",
       "    <tr>\n",
       "      <td>2</td>\n",
       "      <td>Falls</td>\n",
       "      <td>1640.4</td>\n",
       "      <td>Persons</td>\n",
       "      <td>NT</td>\n",
       "      <td>130.841782</td>\n",
       "      <td>-12.462827</td>\n",
       "      <td>65-69</td>\n",
       "    </tr>\n",
       "    <tr>\n",
       "      <td>3</td>\n",
       "      <td>Total_Injuries</td>\n",
       "      <td>3203.31</td>\n",
       "      <td>Persons</td>\n",
       "      <td>NT</td>\n",
       "      <td>130.841782</td>\n",
       "      <td>-12.462827</td>\n",
       "      <td>65-69</td>\n",
       "    </tr>\n",
       "    <tr>\n",
       "      <td>4</td>\n",
       "      <td>Falls</td>\n",
       "      <td>1640.4</td>\n",
       "      <td>Persons</td>\n",
       "      <td>NT</td>\n",
       "      <td>130.841782</td>\n",
       "      <td>-12.462827</td>\n",
       "      <td>65-69</td>\n",
       "    </tr>\n",
       "    <tr>\n",
       "      <td>5</td>\n",
       "      <td>Total_Injuries</td>\n",
       "      <td>3203.31</td>\n",
       "      <td>Persons</td>\n",
       "      <td>NT</td>\n",
       "      <td>130.841782</td>\n",
       "      <td>-12.462827</td>\n",
       "      <td>65-69</td>\n",
       "    </tr>\n",
       "    <tr>\n",
       "      <td>6</td>\n",
       "      <td>Falls</td>\n",
       "      <td>1136.23</td>\n",
       "      <td>Male</td>\n",
       "      <td>ACT</td>\n",
       "      <td>149.012375</td>\n",
       "      <td>-35.473469</td>\n",
       "      <td>65-69</td>\n",
       "    </tr>\n",
       "    <tr>\n",
       "      <td>7</td>\n",
       "      <td>Total_Injuries</td>\n",
       "      <td>2224.1</td>\n",
       "      <td>Male</td>\n",
       "      <td>ACT</td>\n",
       "      <td>149.012375</td>\n",
       "      <td>-35.473469</td>\n",
       "      <td>65-69</td>\n",
       "    </tr>\n",
       "    <tr>\n",
       "      <td>8</td>\n",
       "      <td>Falls</td>\n",
       "      <td>1203.36</td>\n",
       "      <td>Persons</td>\n",
       "      <td>ACT</td>\n",
       "      <td>149.012375</td>\n",
       "      <td>-35.473469</td>\n",
       "      <td>65-69</td>\n",
       "    </tr>\n",
       "    <tr>\n",
       "      <td>9</td>\n",
       "      <td>Total_Injuries</td>\n",
       "      <td>2094.3</td>\n",
       "      <td>Persons</td>\n",
       "      <td>ACT</td>\n",
       "      <td>149.012375</td>\n",
       "      <td>-35.473469</td>\n",
       "      <td>65-69</td>\n",
       "    </tr>\n",
       "    <tr>\n",
       "      <td>10</td>\n",
       "      <td>Falls</td>\n",
       "      <td>1203.36</td>\n",
       "      <td>Persons</td>\n",
       "      <td>ACT</td>\n",
       "      <td>149.012375</td>\n",
       "      <td>-35.473469</td>\n",
       "      <td>65-69</td>\n",
       "    </tr>\n",
       "    <tr>\n",
       "      <td>11</td>\n",
       "      <td>Total_Injuries</td>\n",
       "      <td>2094.3</td>\n",
       "      <td>Persons</td>\n",
       "      <td>ACT</td>\n",
       "      <td>149.012375</td>\n",
       "      <td>-35.473469</td>\n",
       "      <td>65-69</td>\n",
       "    </tr>\n",
       "    <tr>\n",
       "      <td>12</td>\n",
       "      <td>Falls</td>\n",
       "      <td>927.158</td>\n",
       "      <td>Male</td>\n",
       "      <td>NSW</td>\n",
       "      <td>145.612793</td>\n",
       "      <td>-31.840233</td>\n",
       "      <td>65-69</td>\n",
       "    </tr>\n",
       "    <tr>\n",
       "      <td>13</td>\n",
       "      <td>Total_Injuries</td>\n",
       "      <td>2085.18</td>\n",
       "      <td>Male</td>\n",
       "      <td>NSW</td>\n",
       "      <td>145.612793</td>\n",
       "      <td>-31.840233</td>\n",
       "      <td>65-69</td>\n",
       "    </tr>\n",
       "    <tr>\n",
       "      <td>14</td>\n",
       "      <td>Falls</td>\n",
       "      <td>1310.89</td>\n",
       "      <td>Female</td>\n",
       "      <td>NSW</td>\n",
       "      <td>145.612793</td>\n",
       "      <td>-31.840233</td>\n",
       "      <td>65-69</td>\n",
       "    </tr>\n",
       "    <tr>\n",
       "      <td>15</td>\n",
       "      <td>Total_Injuries</td>\n",
       "      <td>2038.36</td>\n",
       "      <td>Female</td>\n",
       "      <td>NSW</td>\n",
       "      <td>145.612793</td>\n",
       "      <td>-31.840233</td>\n",
       "      <td>65-69</td>\n",
       "    </tr>\n",
       "    <tr>\n",
       "      <td>16</td>\n",
       "      <td>Falls</td>\n",
       "      <td>1121.47</td>\n",
       "      <td>Persons</td>\n",
       "      <td>NSW</td>\n",
       "      <td>145.612793</td>\n",
       "      <td>-31.840233</td>\n",
       "      <td>65-69</td>\n",
       "    </tr>\n",
       "    <tr>\n",
       "      <td>17</td>\n",
       "      <td>Total_Injuries</td>\n",
       "      <td>2061.47</td>\n",
       "      <td>Persons</td>\n",
       "      <td>NSW</td>\n",
       "      <td>145.612793</td>\n",
       "      <td>-31.840233</td>\n",
       "      <td>65-69</td>\n",
       "    </tr>\n",
       "    <tr>\n",
       "      <td>18</td>\n",
       "      <td>Falls</td>\n",
       "      <td>801.143</td>\n",
       "      <td>Male</td>\n",
       "      <td>VIC</td>\n",
       "      <td>144.964600</td>\n",
       "      <td>-37.020100</td>\n",
       "      <td>65-69</td>\n",
       "    </tr>\n",
       "    <tr>\n",
       "      <td>19</td>\n",
       "      <td>Total_Injuries</td>\n",
       "      <td>1794.73</td>\n",
       "      <td>Male</td>\n",
       "      <td>VIC</td>\n",
       "      <td>144.964600</td>\n",
       "      <td>-37.020100</td>\n",
       "      <td>65-69</td>\n",
       "    </tr>\n",
       "    <tr>\n",
       "      <td>20</td>\n",
       "      <td>Falls</td>\n",
       "      <td>1384.17</td>\n",
       "      <td>Female</td>\n",
       "      <td>VIC</td>\n",
       "      <td>144.964600</td>\n",
       "      <td>-37.020100</td>\n",
       "      <td>65-69</td>\n",
       "    </tr>\n",
       "    <tr>\n",
       "      <td>21</td>\n",
       "      <td>Total_Injuries</td>\n",
       "      <td>2102.93</td>\n",
       "      <td>Female</td>\n",
       "      <td>VIC</td>\n",
       "      <td>144.964600</td>\n",
       "      <td>-37.020100</td>\n",
       "      <td>65-69</td>\n",
       "    </tr>\n",
       "    <tr>\n",
       "      <td>22</td>\n",
       "      <td>Falls</td>\n",
       "      <td>1100.92</td>\n",
       "      <td>Persons</td>\n",
       "      <td>VIC</td>\n",
       "      <td>144.964600</td>\n",
       "      <td>-37.020100</td>\n",
       "      <td>65-69</td>\n",
       "    </tr>\n",
       "    <tr>\n",
       "      <td>23</td>\n",
       "      <td>Total_Injuries</td>\n",
       "      <td>1953.2</td>\n",
       "      <td>Persons</td>\n",
       "      <td>VIC</td>\n",
       "      <td>144.964600</td>\n",
       "      <td>-37.020100</td>\n",
       "      <td>65-69</td>\n",
       "    </tr>\n",
       "    <tr>\n",
       "      <td>24</td>\n",
       "      <td>Falls</td>\n",
       "      <td>932.24</td>\n",
       "      <td>Male</td>\n",
       "      <td>SA</td>\n",
       "      <td>136.209152</td>\n",
       "      <td>-30.000233</td>\n",
       "      <td>65-69</td>\n",
       "    </tr>\n",
       "    <tr>\n",
       "      <td>25</td>\n",
       "      <td>Total_Injuries</td>\n",
       "      <td>1985.33</td>\n",
       "      <td>Male</td>\n",
       "      <td>SA</td>\n",
       "      <td>136.209152</td>\n",
       "      <td>-30.000233</td>\n",
       "      <td>65-69</td>\n",
       "    </tr>\n",
       "    <tr>\n",
       "      <td>26</td>\n",
       "      <td>Falls</td>\n",
       "      <td>1345.31</td>\n",
       "      <td>Female</td>\n",
       "      <td>SA</td>\n",
       "      <td>136.209152</td>\n",
       "      <td>-30.000233</td>\n",
       "      <td>65-69</td>\n",
       "    </tr>\n",
       "    <tr>\n",
       "      <td>27</td>\n",
       "      <td>Total_Injuries</td>\n",
       "      <td>2079.49</td>\n",
       "      <td>Female</td>\n",
       "      <td>SA</td>\n",
       "      <td>136.209152</td>\n",
       "      <td>-30.000233</td>\n",
       "      <td>65-69</td>\n",
       "    </tr>\n",
       "    <tr>\n",
       "      <td>28</td>\n",
       "      <td>Falls</td>\n",
       "      <td>1144.03</td>\n",
       "      <td>Persons</td>\n",
       "      <td>SA</td>\n",
       "      <td>136.209152</td>\n",
       "      <td>-30.000233</td>\n",
       "      <td>65-69</td>\n",
       "    </tr>\n",
       "    <tr>\n",
       "      <td>29</td>\n",
       "      <td>Total_Injuries</td>\n",
       "      <td>2033.61</td>\n",
       "      <td>Persons</td>\n",
       "      <td>SA</td>\n",
       "      <td>136.209152</td>\n",
       "      <td>-30.000233</td>\n",
       "      <td>65-69</td>\n",
       "    </tr>\n",
       "    <tr>\n",
       "      <td>30</td>\n",
       "      <td>Falls</td>\n",
       "      <td>662.544</td>\n",
       "      <td>Male</td>\n",
       "      <td>WA</td>\n",
       "      <td>122.805176</td>\n",
       "      <td>-25.760321</td>\n",
       "      <td>65-69</td>\n",
       "    </tr>\n",
       "    <tr>\n",
       "      <td>31</td>\n",
       "      <td>Total_Injuries</td>\n",
       "      <td>1773.58</td>\n",
       "      <td>Male</td>\n",
       "      <td>WA</td>\n",
       "      <td>122.805176</td>\n",
       "      <td>-25.760321</td>\n",
       "      <td>65-69</td>\n",
       "    </tr>\n",
       "    <tr>\n",
       "      <td>32</td>\n",
       "      <td>Falls</td>\n",
       "      <td>1022.7</td>\n",
       "      <td>Female</td>\n",
       "      <td>WA</td>\n",
       "      <td>122.805176</td>\n",
       "      <td>-25.760321</td>\n",
       "      <td>65-69</td>\n",
       "    </tr>\n",
       "    <tr>\n",
       "      <td>33</td>\n",
       "      <td>Total_Injuries</td>\n",
       "      <td>1714.62</td>\n",
       "      <td>Female</td>\n",
       "      <td>WA</td>\n",
       "      <td>122.805176</td>\n",
       "      <td>-25.760321</td>\n",
       "      <td>65-69</td>\n",
       "    </tr>\n",
       "    <tr>\n",
       "      <td>34</td>\n",
       "      <td>Falls</td>\n",
       "      <td>843.217</td>\n",
       "      <td>Persons</td>\n",
       "      <td>WA</td>\n",
       "      <td>122.805176</td>\n",
       "      <td>-25.760321</td>\n",
       "      <td>65-69</td>\n",
       "    </tr>\n",
       "    <tr>\n",
       "      <td>35</td>\n",
       "      <td>Total_Injuries</td>\n",
       "      <td>1744</td>\n",
       "      <td>Persons</td>\n",
       "      <td>WA</td>\n",
       "      <td>122.805176</td>\n",
       "      <td>-25.760321</td>\n",
       "      <td>65-69</td>\n",
       "    </tr>\n",
       "    <tr>\n",
       "      <td>36</td>\n",
       "      <td>Falls</td>\n",
       "      <td>1016.31</td>\n",
       "      <td>Male</td>\n",
       "      <td>QLD</td>\n",
       "      <td>142.702789</td>\n",
       "      <td>-20.917574</td>\n",
       "      <td>65-69</td>\n",
       "    </tr>\n",
       "    <tr>\n",
       "      <td>37</td>\n",
       "      <td>Total_Injuries</td>\n",
       "      <td>2238.22</td>\n",
       "      <td>Male</td>\n",
       "      <td>QLD</td>\n",
       "      <td>142.702789</td>\n",
       "      <td>-20.917574</td>\n",
       "      <td>65-69</td>\n",
       "    </tr>\n",
       "    <tr>\n",
       "      <td>38</td>\n",
       "      <td>Falls</td>\n",
       "      <td>1454.12</td>\n",
       "      <td>Female</td>\n",
       "      <td>QLD</td>\n",
       "      <td>142.702789</td>\n",
       "      <td>-20.917574</td>\n",
       "      <td>65-69</td>\n",
       "    </tr>\n",
       "    <tr>\n",
       "      <td>39</td>\n",
       "      <td>Total_Injuries</td>\n",
       "      <td>2232.68</td>\n",
       "      <td>Female</td>\n",
       "      <td>QLD</td>\n",
       "      <td>142.702789</td>\n",
       "      <td>-20.917574</td>\n",
       "      <td>65-69</td>\n",
       "    </tr>\n",
       "    <tr>\n",
       "      <td>40</td>\n",
       "      <td>Falls</td>\n",
       "      <td>1236.34</td>\n",
       "      <td>Persons</td>\n",
       "      <td>QLD</td>\n",
       "      <td>142.702789</td>\n",
       "      <td>-20.917574</td>\n",
       "      <td>65-69</td>\n",
       "    </tr>\n",
       "    <tr>\n",
       "      <td>41</td>\n",
       "      <td>Total_Injuries</td>\n",
       "      <td>2235.43</td>\n",
       "      <td>Persons</td>\n",
       "      <td>QLD</td>\n",
       "      <td>142.702789</td>\n",
       "      <td>-20.917574</td>\n",
       "      <td>65-69</td>\n",
       "    </tr>\n",
       "    <tr>\n",
       "      <td>42</td>\n",
       "      <td>Falls</td>\n",
       "      <td>806.702</td>\n",
       "      <td>Male</td>\n",
       "      <td>TAS</td>\n",
       "      <td>146.315918</td>\n",
       "      <td>-41.640079</td>\n",
       "      <td>65-69</td>\n",
       "    </tr>\n",
       "    <tr>\n",
       "      <td>43</td>\n",
       "      <td>Total_Injuries</td>\n",
       "      <td>1644.43</td>\n",
       "      <td>Male</td>\n",
       "      <td>TAS</td>\n",
       "      <td>146.315918</td>\n",
       "      <td>-41.640079</td>\n",
       "      <td>65-69</td>\n",
       "    </tr>\n",
       "    <tr>\n",
       "      <td>44</td>\n",
       "      <td>Falls</td>\n",
       "      <td>1113.48</td>\n",
       "      <td>Female</td>\n",
       "      <td>TAS</td>\n",
       "      <td>146.315918</td>\n",
       "      <td>-41.640079</td>\n",
       "      <td>65-69</td>\n",
       "    </tr>\n",
       "    <tr>\n",
       "      <td>45</td>\n",
       "      <td>Total_Injuries</td>\n",
       "      <td>1734.1</td>\n",
       "      <td>Female</td>\n",
       "      <td>TAS</td>\n",
       "      <td>146.315918</td>\n",
       "      <td>-41.640079</td>\n",
       "      <td>65-69</td>\n",
       "    </tr>\n",
       "    <tr>\n",
       "      <td>46</td>\n",
       "      <td>Falls</td>\n",
       "      <td>961.598</td>\n",
       "      <td>Persons</td>\n",
       "      <td>TAS</td>\n",
       "      <td>146.315918</td>\n",
       "      <td>-41.640079</td>\n",
       "      <td>65-69</td>\n",
       "    </tr>\n",
       "    <tr>\n",
       "      <td>47</td>\n",
       "      <td>Total_Injuries</td>\n",
       "      <td>1689.71</td>\n",
       "      <td>Persons</td>\n",
       "      <td>TAS</td>\n",
       "      <td>146.315918</td>\n",
       "      <td>-41.640079</td>\n",
       "      <td>65-69</td>\n",
       "    </tr>\n",
       "    <tr>\n",
       "      <td>0</td>\n",
       "      <td>Falls</td>\n",
       "      <td>2446.72</td>\n",
       "      <td>Male</td>\n",
       "      <td>NT</td>\n",
       "      <td>130.841782</td>\n",
       "      <td>-12.462827</td>\n",
       "      <td>70-74</td>\n",
       "    </tr>\n",
       "    <tr>\n",
       "      <td>1</td>\n",
       "      <td>Total_Injuries</td>\n",
       "      <td>4459.35</td>\n",
       "      <td>Male</td>\n",
       "      <td>NT</td>\n",
       "      <td>130.841782</td>\n",
       "      <td>-12.462827</td>\n",
       "      <td>70-74</td>\n",
       "    </tr>\n",
       "  </tbody>\n",
       "</table>\n",
       "</div>"
      ],
      "text/plain": [
       "       Injury Type    Count   Gender State   Longitude   Latitude Age_Group\n",
       "0           Falls   1374.08     Male    NT  130.841782 -12.462827     65-69\n",
       "1   Total_Injuries  3316.75     Male    NT  130.841782 -12.462827     65-69\n",
       "2           Falls    1640.4  Persons    NT  130.841782 -12.462827     65-69\n",
       "3   Total_Injuries  3203.31  Persons    NT  130.841782 -12.462827     65-69\n",
       "4           Falls    1640.4  Persons    NT  130.841782 -12.462827     65-69\n",
       "5   Total_Injuries  3203.31  Persons    NT  130.841782 -12.462827     65-69\n",
       "6           Falls   1136.23     Male   ACT  149.012375 -35.473469     65-69\n",
       "7   Total_Injuries   2224.1     Male   ACT  149.012375 -35.473469     65-69\n",
       "8           Falls   1203.36  Persons   ACT  149.012375 -35.473469     65-69\n",
       "9   Total_Injuries   2094.3  Persons   ACT  149.012375 -35.473469     65-69\n",
       "10          Falls   1203.36  Persons   ACT  149.012375 -35.473469     65-69\n",
       "11  Total_Injuries   2094.3  Persons   ACT  149.012375 -35.473469     65-69\n",
       "12          Falls   927.158     Male   NSW  145.612793 -31.840233     65-69\n",
       "13  Total_Injuries  2085.18     Male   NSW  145.612793 -31.840233     65-69\n",
       "14          Falls   1310.89   Female   NSW  145.612793 -31.840233     65-69\n",
       "15  Total_Injuries  2038.36   Female   NSW  145.612793 -31.840233     65-69\n",
       "16          Falls   1121.47  Persons   NSW  145.612793 -31.840233     65-69\n",
       "17  Total_Injuries  2061.47  Persons   NSW  145.612793 -31.840233     65-69\n",
       "18          Falls   801.143     Male   VIC  144.964600 -37.020100     65-69\n",
       "19  Total_Injuries  1794.73     Male   VIC  144.964600 -37.020100     65-69\n",
       "20          Falls   1384.17   Female   VIC  144.964600 -37.020100     65-69\n",
       "21  Total_Injuries  2102.93   Female   VIC  144.964600 -37.020100     65-69\n",
       "22          Falls   1100.92  Persons   VIC  144.964600 -37.020100     65-69\n",
       "23  Total_Injuries   1953.2  Persons   VIC  144.964600 -37.020100     65-69\n",
       "24          Falls    932.24     Male    SA  136.209152 -30.000233     65-69\n",
       "25  Total_Injuries  1985.33     Male    SA  136.209152 -30.000233     65-69\n",
       "26          Falls   1345.31   Female    SA  136.209152 -30.000233     65-69\n",
       "27  Total_Injuries  2079.49   Female    SA  136.209152 -30.000233     65-69\n",
       "28          Falls   1144.03  Persons    SA  136.209152 -30.000233     65-69\n",
       "29  Total_Injuries  2033.61  Persons    SA  136.209152 -30.000233     65-69\n",
       "30          Falls   662.544     Male    WA  122.805176 -25.760321     65-69\n",
       "31  Total_Injuries  1773.58     Male    WA  122.805176 -25.760321     65-69\n",
       "32          Falls    1022.7   Female    WA  122.805176 -25.760321     65-69\n",
       "33  Total_Injuries  1714.62   Female    WA  122.805176 -25.760321     65-69\n",
       "34          Falls   843.217  Persons    WA  122.805176 -25.760321     65-69\n",
       "35  Total_Injuries     1744  Persons    WA  122.805176 -25.760321     65-69\n",
       "36          Falls   1016.31     Male   QLD  142.702789 -20.917574     65-69\n",
       "37  Total_Injuries  2238.22     Male   QLD  142.702789 -20.917574     65-69\n",
       "38          Falls   1454.12   Female   QLD  142.702789 -20.917574     65-69\n",
       "39  Total_Injuries  2232.68   Female   QLD  142.702789 -20.917574     65-69\n",
       "40          Falls   1236.34  Persons   QLD  142.702789 -20.917574     65-69\n",
       "41  Total_Injuries  2235.43  Persons   QLD  142.702789 -20.917574     65-69\n",
       "42          Falls   806.702     Male   TAS  146.315918 -41.640079     65-69\n",
       "43  Total_Injuries  1644.43     Male   TAS  146.315918 -41.640079     65-69\n",
       "44          Falls   1113.48   Female   TAS  146.315918 -41.640079     65-69\n",
       "45  Total_Injuries   1734.1   Female   TAS  146.315918 -41.640079     65-69\n",
       "46          Falls   961.598  Persons   TAS  146.315918 -41.640079     65-69\n",
       "47  Total_Injuries  1689.71  Persons   TAS  146.315918 -41.640079     65-69\n",
       "0           Falls   2446.72     Male    NT  130.841782 -12.462827     70-74\n",
       "1   Total_Injuries  4459.35     Male    NT  130.841782 -12.462827     70-74"
      ]
     },
     "execution_count": 135,
     "metadata": {},
     "output_type": "execute_result"
    }
   ],
   "source": [
    "aus_data_2_final.head(50)"
   ]
  },
  {
   "cell_type": "code",
   "execution_count": 136,
   "metadata": {},
   "outputs": [],
   "source": [
    "# Exporting df to csv\n",
    "aus_data_2_final.to_csv('aus_data_2_final.csv')"
   ]
  },
  {
   "cell_type": "code",
   "execution_count": null,
   "metadata": {},
   "outputs": [],
   "source": []
  }
 ],
 "metadata": {
  "kernelspec": {
   "display_name": "Python 3",
   "language": "python",
   "name": "python3"
  },
  "language_info": {
   "codemirror_mode": {
    "name": "ipython",
    "version": 3
   },
   "file_extension": ".py",
   "mimetype": "text/x-python",
   "name": "python",
   "nbconvert_exporter": "python",
   "pygments_lexer": "ipython3",
   "version": "3.7.4"
  }
 },
 "nbformat": 4,
 "nbformat_minor": 2
}
